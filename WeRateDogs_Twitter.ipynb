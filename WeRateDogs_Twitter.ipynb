{
 "cells": [
  {
   "cell_type": "markdown",
   "metadata": {},
   "source": [
    "# Project: Analysis of WeRateDogs Tweets\n",
    "\n",
    "## Table of Contents\n",
    "<ul>\n",
    "<li><a href=\"#intro\">Introduction</a></li>\n",
    "<li><a href=\"#packages\">Import of Packages</a></li>\n",
    "<li><a href=\"#gather\">Gather Data</a></li>\n",
    "<li><a href=\"#asses\">Asses Data</a></li>\n",
    "<li><a href=\"#clean\">Clean Data</a></li>\n",
    "<li><a href=\"#analysis\">Data Analysis</a></li>\n",
    "<li><a href=\"#conc\">Conclusions</a></li>\n",
    "</ul>"
   ]
  },
  {
   "cell_type": "markdown",
   "metadata": {},
   "source": [
    "<a id='intro'></a>\n",
    "## Introduction\n",
    "\n",
    "The goal of this analysis is to identify factors that can help to predict whether patients show up to their appointments or not. Basis for the analysis is a data set provided by __[kaggle](https://www.kaggle.com/joniarroba/noshowappointments)__ which collects collects"
   ]
  },
  {
   "cell_type": "markdown",
   "metadata": {},
   "source": [
    "## Import of requiered Packages"
   ]
  },
  {
   "cell_type": "code",
   "execution_count": 15,
   "metadata": {},
   "outputs": [],
   "source": [
    "import pandas as pd\n",
    "import numpy as np\n",
    "import datetime\n",
    "import requests\n",
    "import os\n",
    "import tweepy\n",
    "import json\n",
    "\n",
    "import seaborn as sns\n",
    "import matplotlib.pyplot as plt\n",
    "%matplotlib inline\n"
   ]
  },
  {
   "cell_type": "markdown",
   "metadata": {},
   "source": [
    "<a id='gather'></a>\n",
    "## Gather Data"
   ]
  },
  {
   "cell_type": "markdown",
   "metadata": {},
   "source": [
    "### Tweet Archive"
   ]
  },
  {
   "cell_type": "code",
   "execution_count": 16,
   "metadata": {},
   "outputs": [
    {
     "data": {
      "text/html": [
       "<div>\n",
       "<style scoped>\n",
       "    .dataframe tbody tr th:only-of-type {\n",
       "        vertical-align: middle;\n",
       "    }\n",
       "\n",
       "    .dataframe tbody tr th {\n",
       "        vertical-align: top;\n",
       "    }\n",
       "\n",
       "    .dataframe thead th {\n",
       "        text-align: right;\n",
       "    }\n",
       "</style>\n",
       "<table border=\"1\" class=\"dataframe\">\n",
       "  <thead>\n",
       "    <tr style=\"text-align: right;\">\n",
       "      <th></th>\n",
       "      <th>tweet_id</th>\n",
       "      <th>in_reply_to_status_id</th>\n",
       "      <th>in_reply_to_user_id</th>\n",
       "      <th>timestamp</th>\n",
       "      <th>source</th>\n",
       "      <th>text</th>\n",
       "      <th>retweeted_status_id</th>\n",
       "      <th>retweeted_status_user_id</th>\n",
       "      <th>retweeted_status_timestamp</th>\n",
       "      <th>expanded_urls</th>\n",
       "      <th>rating_numerator</th>\n",
       "      <th>rating_denominator</th>\n",
       "      <th>name</th>\n",
       "      <th>doggo</th>\n",
       "      <th>floofer</th>\n",
       "      <th>pupper</th>\n",
       "      <th>puppo</th>\n",
       "    </tr>\n",
       "  </thead>\n",
       "  <tbody>\n",
       "    <tr>\n",
       "      <th>0</th>\n",
       "      <td>892420643555336193</td>\n",
       "      <td>NaN</td>\n",
       "      <td>NaN</td>\n",
       "      <td>2017-08-01 16:23:56 +0000</td>\n",
       "      <td>&lt;a href=\"http://twitter.com/download/iphone\" r...</td>\n",
       "      <td>This is Phineas. He's a mystical boy. Only eve...</td>\n",
       "      <td>NaN</td>\n",
       "      <td>NaN</td>\n",
       "      <td>NaN</td>\n",
       "      <td>https://twitter.com/dog_rates/status/892420643...</td>\n",
       "      <td>13</td>\n",
       "      <td>10</td>\n",
       "      <td>Phineas</td>\n",
       "      <td>None</td>\n",
       "      <td>None</td>\n",
       "      <td>None</td>\n",
       "      <td>None</td>\n",
       "    </tr>\n",
       "    <tr>\n",
       "      <th>1</th>\n",
       "      <td>892177421306343426</td>\n",
       "      <td>NaN</td>\n",
       "      <td>NaN</td>\n",
       "      <td>2017-08-01 00:17:27 +0000</td>\n",
       "      <td>&lt;a href=\"http://twitter.com/download/iphone\" r...</td>\n",
       "      <td>This is Tilly. She's just checking pup on you....</td>\n",
       "      <td>NaN</td>\n",
       "      <td>NaN</td>\n",
       "      <td>NaN</td>\n",
       "      <td>https://twitter.com/dog_rates/status/892177421...</td>\n",
       "      <td>13</td>\n",
       "      <td>10</td>\n",
       "      <td>Tilly</td>\n",
       "      <td>None</td>\n",
       "      <td>None</td>\n",
       "      <td>None</td>\n",
       "      <td>None</td>\n",
       "    </tr>\n",
       "    <tr>\n",
       "      <th>2</th>\n",
       "      <td>891815181378084864</td>\n",
       "      <td>NaN</td>\n",
       "      <td>NaN</td>\n",
       "      <td>2017-07-31 00:18:03 +0000</td>\n",
       "      <td>&lt;a href=\"http://twitter.com/download/iphone\" r...</td>\n",
       "      <td>This is Archie. He is a rare Norwegian Pouncin...</td>\n",
       "      <td>NaN</td>\n",
       "      <td>NaN</td>\n",
       "      <td>NaN</td>\n",
       "      <td>https://twitter.com/dog_rates/status/891815181...</td>\n",
       "      <td>12</td>\n",
       "      <td>10</td>\n",
       "      <td>Archie</td>\n",
       "      <td>None</td>\n",
       "      <td>None</td>\n",
       "      <td>None</td>\n",
       "      <td>None</td>\n",
       "    </tr>\n",
       "    <tr>\n",
       "      <th>3</th>\n",
       "      <td>891689557279858688</td>\n",
       "      <td>NaN</td>\n",
       "      <td>NaN</td>\n",
       "      <td>2017-07-30 15:58:51 +0000</td>\n",
       "      <td>&lt;a href=\"http://twitter.com/download/iphone\" r...</td>\n",
       "      <td>This is Darla. She commenced a snooze mid meal...</td>\n",
       "      <td>NaN</td>\n",
       "      <td>NaN</td>\n",
       "      <td>NaN</td>\n",
       "      <td>https://twitter.com/dog_rates/status/891689557...</td>\n",
       "      <td>13</td>\n",
       "      <td>10</td>\n",
       "      <td>Darla</td>\n",
       "      <td>None</td>\n",
       "      <td>None</td>\n",
       "      <td>None</td>\n",
       "      <td>None</td>\n",
       "    </tr>\n",
       "    <tr>\n",
       "      <th>4</th>\n",
       "      <td>891327558926688256</td>\n",
       "      <td>NaN</td>\n",
       "      <td>NaN</td>\n",
       "      <td>2017-07-29 16:00:24 +0000</td>\n",
       "      <td>&lt;a href=\"http://twitter.com/download/iphone\" r...</td>\n",
       "      <td>This is Franklin. He would like you to stop ca...</td>\n",
       "      <td>NaN</td>\n",
       "      <td>NaN</td>\n",
       "      <td>NaN</td>\n",
       "      <td>https://twitter.com/dog_rates/status/891327558...</td>\n",
       "      <td>12</td>\n",
       "      <td>10</td>\n",
       "      <td>Franklin</td>\n",
       "      <td>None</td>\n",
       "      <td>None</td>\n",
       "      <td>None</td>\n",
       "      <td>None</td>\n",
       "    </tr>\n",
       "  </tbody>\n",
       "</table>\n",
       "</div>"
      ],
      "text/plain": [
       "             tweet_id  in_reply_to_status_id  in_reply_to_user_id  \\\n",
       "0  892420643555336193                    NaN                  NaN   \n",
       "1  892177421306343426                    NaN                  NaN   \n",
       "2  891815181378084864                    NaN                  NaN   \n",
       "3  891689557279858688                    NaN                  NaN   \n",
       "4  891327558926688256                    NaN                  NaN   \n",
       "\n",
       "                   timestamp  \\\n",
       "0  2017-08-01 16:23:56 +0000   \n",
       "1  2017-08-01 00:17:27 +0000   \n",
       "2  2017-07-31 00:18:03 +0000   \n",
       "3  2017-07-30 15:58:51 +0000   \n",
       "4  2017-07-29 16:00:24 +0000   \n",
       "\n",
       "                                              source  \\\n",
       "0  <a href=\"http://twitter.com/download/iphone\" r...   \n",
       "1  <a href=\"http://twitter.com/download/iphone\" r...   \n",
       "2  <a href=\"http://twitter.com/download/iphone\" r...   \n",
       "3  <a href=\"http://twitter.com/download/iphone\" r...   \n",
       "4  <a href=\"http://twitter.com/download/iphone\" r...   \n",
       "\n",
       "                                                text  retweeted_status_id  \\\n",
       "0  This is Phineas. He's a mystical boy. Only eve...                  NaN   \n",
       "1  This is Tilly. She's just checking pup on you....                  NaN   \n",
       "2  This is Archie. He is a rare Norwegian Pouncin...                  NaN   \n",
       "3  This is Darla. She commenced a snooze mid meal...                  NaN   \n",
       "4  This is Franklin. He would like you to stop ca...                  NaN   \n",
       "\n",
       "   retweeted_status_user_id retweeted_status_timestamp  \\\n",
       "0                       NaN                        NaN   \n",
       "1                       NaN                        NaN   \n",
       "2                       NaN                        NaN   \n",
       "3                       NaN                        NaN   \n",
       "4                       NaN                        NaN   \n",
       "\n",
       "                                       expanded_urls  rating_numerator  \\\n",
       "0  https://twitter.com/dog_rates/status/892420643...                13   \n",
       "1  https://twitter.com/dog_rates/status/892177421...                13   \n",
       "2  https://twitter.com/dog_rates/status/891815181...                12   \n",
       "3  https://twitter.com/dog_rates/status/891689557...                13   \n",
       "4  https://twitter.com/dog_rates/status/891327558...                12   \n",
       "\n",
       "   rating_denominator      name doggo floofer pupper puppo  \n",
       "0                  10   Phineas  None    None   None  None  \n",
       "1                  10     Tilly  None    None   None  None  \n",
       "2                  10    Archie  None    None   None  None  \n",
       "3                  10     Darla  None    None   None  None  \n",
       "4                  10  Franklin  None    None   None  None  "
      ]
     },
     "execution_count": 16,
     "metadata": {},
     "output_type": "execute_result"
    }
   ],
   "source": [
    "# Read Twitter Archive from provided csv file\n",
    "archive = pd.read_csv('./Twitter_Files/twitter-archive-enhanced.csv')\n",
    "archive.head()"
   ]
  },
  {
   "cell_type": "code",
   "execution_count": 17,
   "metadata": {},
   "outputs": [
    {
     "name": "stdout",
     "output_type": "stream",
     "text": [
      "<class 'pandas.core.frame.DataFrame'>\n",
      "RangeIndex: 2356 entries, 0 to 2355\n",
      "Data columns (total 17 columns):\n",
      "tweet_id                      2356 non-null int64\n",
      "in_reply_to_status_id         78 non-null float64\n",
      "in_reply_to_user_id           78 non-null float64\n",
      "timestamp                     2356 non-null object\n",
      "source                        2356 non-null object\n",
      "text                          2356 non-null object\n",
      "retweeted_status_id           181 non-null float64\n",
      "retweeted_status_user_id      181 non-null float64\n",
      "retweeted_status_timestamp    181 non-null object\n",
      "expanded_urls                 2297 non-null object\n",
      "rating_numerator              2356 non-null int64\n",
      "rating_denominator            2356 non-null int64\n",
      "name                          2356 non-null object\n",
      "doggo                         2356 non-null object\n",
      "floofer                       2356 non-null object\n",
      "pupper                        2356 non-null object\n",
      "puppo                         2356 non-null object\n",
      "dtypes: float64(4), int64(3), object(10)\n",
      "memory usage: 313.0+ KB\n"
     ]
    }
   ],
   "source": [
    "archive.info()"
   ]
  },
  {
   "cell_type": "markdown",
   "metadata": {},
   "source": [
    "### Tweet Image Prediction"
   ]
  },
  {
   "cell_type": "code",
   "execution_count": 18,
   "metadata": {},
   "outputs": [
    {
     "data": {
      "text/html": [
       "<div>\n",
       "<style scoped>\n",
       "    .dataframe tbody tr th:only-of-type {\n",
       "        vertical-align: middle;\n",
       "    }\n",
       "\n",
       "    .dataframe tbody tr th {\n",
       "        vertical-align: top;\n",
       "    }\n",
       "\n",
       "    .dataframe thead th {\n",
       "        text-align: right;\n",
       "    }\n",
       "</style>\n",
       "<table border=\"1\" class=\"dataframe\">\n",
       "  <thead>\n",
       "    <tr style=\"text-align: right;\">\n",
       "      <th></th>\n",
       "      <th>tweet_id</th>\n",
       "      <th>jpg_url</th>\n",
       "      <th>img_num</th>\n",
       "      <th>p1</th>\n",
       "      <th>p1_conf</th>\n",
       "      <th>p1_dog</th>\n",
       "      <th>p2</th>\n",
       "      <th>p2_conf</th>\n",
       "      <th>p2_dog</th>\n",
       "      <th>p3</th>\n",
       "      <th>p3_conf</th>\n",
       "      <th>p3_dog</th>\n",
       "    </tr>\n",
       "  </thead>\n",
       "  <tbody>\n",
       "    <tr>\n",
       "      <th>0</th>\n",
       "      <td>666020888022790149</td>\n",
       "      <td>https://pbs.twimg.com/media/CT4udn0WwAA0aMy.jpg</td>\n",
       "      <td>1</td>\n",
       "      <td>Welsh_springer_spaniel</td>\n",
       "      <td>0.465074</td>\n",
       "      <td>True</td>\n",
       "      <td>collie</td>\n",
       "      <td>0.156665</td>\n",
       "      <td>True</td>\n",
       "      <td>Shetland_sheepdog</td>\n",
       "      <td>0.061428</td>\n",
       "      <td>True</td>\n",
       "    </tr>\n",
       "    <tr>\n",
       "      <th>1</th>\n",
       "      <td>666029285002620928</td>\n",
       "      <td>https://pbs.twimg.com/media/CT42GRgUYAA5iDo.jpg</td>\n",
       "      <td>1</td>\n",
       "      <td>redbone</td>\n",
       "      <td>0.506826</td>\n",
       "      <td>True</td>\n",
       "      <td>miniature_pinscher</td>\n",
       "      <td>0.074192</td>\n",
       "      <td>True</td>\n",
       "      <td>Rhodesian_ridgeback</td>\n",
       "      <td>0.072010</td>\n",
       "      <td>True</td>\n",
       "    </tr>\n",
       "    <tr>\n",
       "      <th>2</th>\n",
       "      <td>666033412701032449</td>\n",
       "      <td>https://pbs.twimg.com/media/CT4521TWwAEvMyu.jpg</td>\n",
       "      <td>1</td>\n",
       "      <td>German_shepherd</td>\n",
       "      <td>0.596461</td>\n",
       "      <td>True</td>\n",
       "      <td>malinois</td>\n",
       "      <td>0.138584</td>\n",
       "      <td>True</td>\n",
       "      <td>bloodhound</td>\n",
       "      <td>0.116197</td>\n",
       "      <td>True</td>\n",
       "    </tr>\n",
       "    <tr>\n",
       "      <th>3</th>\n",
       "      <td>666044226329800704</td>\n",
       "      <td>https://pbs.twimg.com/media/CT5Dr8HUEAA-lEu.jpg</td>\n",
       "      <td>1</td>\n",
       "      <td>Rhodesian_ridgeback</td>\n",
       "      <td>0.408143</td>\n",
       "      <td>True</td>\n",
       "      <td>redbone</td>\n",
       "      <td>0.360687</td>\n",
       "      <td>True</td>\n",
       "      <td>miniature_pinscher</td>\n",
       "      <td>0.222752</td>\n",
       "      <td>True</td>\n",
       "    </tr>\n",
       "    <tr>\n",
       "      <th>4</th>\n",
       "      <td>666049248165822465</td>\n",
       "      <td>https://pbs.twimg.com/media/CT5IQmsXIAAKY4A.jpg</td>\n",
       "      <td>1</td>\n",
       "      <td>miniature_pinscher</td>\n",
       "      <td>0.560311</td>\n",
       "      <td>True</td>\n",
       "      <td>Rottweiler</td>\n",
       "      <td>0.243682</td>\n",
       "      <td>True</td>\n",
       "      <td>Doberman</td>\n",
       "      <td>0.154629</td>\n",
       "      <td>True</td>\n",
       "    </tr>\n",
       "  </tbody>\n",
       "</table>\n",
       "</div>"
      ],
      "text/plain": [
       "             tweet_id                                          jpg_url  \\\n",
       "0  666020888022790149  https://pbs.twimg.com/media/CT4udn0WwAA0aMy.jpg   \n",
       "1  666029285002620928  https://pbs.twimg.com/media/CT42GRgUYAA5iDo.jpg   \n",
       "2  666033412701032449  https://pbs.twimg.com/media/CT4521TWwAEvMyu.jpg   \n",
       "3  666044226329800704  https://pbs.twimg.com/media/CT5Dr8HUEAA-lEu.jpg   \n",
       "4  666049248165822465  https://pbs.twimg.com/media/CT5IQmsXIAAKY4A.jpg   \n",
       "\n",
       "   img_num                      p1   p1_conf  p1_dog                  p2  \\\n",
       "0        1  Welsh_springer_spaniel  0.465074    True              collie   \n",
       "1        1                 redbone  0.506826    True  miniature_pinscher   \n",
       "2        1         German_shepherd  0.596461    True            malinois   \n",
       "3        1     Rhodesian_ridgeback  0.408143    True             redbone   \n",
       "4        1      miniature_pinscher  0.560311    True          Rottweiler   \n",
       "\n",
       "    p2_conf  p2_dog                   p3   p3_conf  p3_dog  \n",
       "0  0.156665    True    Shetland_sheepdog  0.061428    True  \n",
       "1  0.074192    True  Rhodesian_ridgeback  0.072010    True  \n",
       "2  0.138584    True           bloodhound  0.116197    True  \n",
       "3  0.360687    True   miniature_pinscher  0.222752    True  \n",
       "4  0.243682    True             Doberman  0.154629    True  "
      ]
     },
     "execution_count": 18,
     "metadata": {},
     "output_type": "execute_result"
    }
   ],
   "source": [
    "# Download Tweet Image Predictions file from udacity server\n",
    "url = 'https://d17h27t6h515a5.cloudfront.net/topher/2017/August/599fd2ad_image-predictions/image-predictions.tsv'\n",
    "response = requests.get(url)\n",
    "\n",
    "# Save file on local drive\n",
    "with open (os.path.join('Twitter_Files', url.split('/')[-1]), mode='wb') as file:\n",
    "    file.write(response.content)\n",
    "\n",
    "# Read file into data frame\n",
    "image = pd.read_csv('./Twitter_Files/image-predictions.tsv', sep='\\t') # set \\t as seperator, since it is a .tsv file\n",
    "image.head()"
   ]
  },
  {
   "cell_type": "code",
   "execution_count": 19,
   "metadata": {},
   "outputs": [
    {
     "name": "stdout",
     "output_type": "stream",
     "text": [
      "<class 'pandas.core.frame.DataFrame'>\n",
      "RangeIndex: 2075 entries, 0 to 2074\n",
      "Data columns (total 12 columns):\n",
      "tweet_id    2075 non-null int64\n",
      "jpg_url     2075 non-null object\n",
      "img_num     2075 non-null int64\n",
      "p1          2075 non-null object\n",
      "p1_conf     2075 non-null float64\n",
      "p1_dog      2075 non-null bool\n",
      "p2          2075 non-null object\n",
      "p2_conf     2075 non-null float64\n",
      "p2_dog      2075 non-null bool\n",
      "p3          2075 non-null object\n",
      "p3_conf     2075 non-null float64\n",
      "p3_dog      2075 non-null bool\n",
      "dtypes: bool(3), float64(3), int64(2), object(4)\n",
      "memory usage: 152.0+ KB\n"
     ]
    }
   ],
   "source": [
    "image.info()"
   ]
  },
  {
   "cell_type": "markdown",
   "metadata": {},
   "source": [
    "### Tweet Retweet Count"
   ]
  },
  {
   "cell_type": "code",
   "execution_count": 20,
   "metadata": {},
   "outputs": [
    {
     "data": {
      "text/plain": [
       "\"\\nSince tweet information is already stored in tweet_json.txt file, do not request data from api again\\n\\n# Store Twitter authentication details\\n# https://developer.twitter.com/en/account/get-started --> Apps --> BS_Udacity_Dogs\\nmy_api_key = 'V4mljUBU6tUgbzXo8XORLQAgj'\\nmy_api_secret_key = 'uVb3YtSQLJwSakJelPOJ8JWzC4zdP2CHlrhyIyow8oAAQXoBF7'\\nmy_access_token = '1095995458781106176-ClvYF8zgxLd18YK5lN1c0rrc0MXbXh'\\nmy_access_token_secret = 'jwhfSN2VIDgk3mim61Bvc7YKQ1YzhHKpcDMfZ86DYdlwi'\\n\\n# Twitter API connection\\nauth = tweepy.OAuthHandler(my_api_key, my_api_secret_key)\\nauth.set_access_token(my_access_token, my_access_token_secret)\\napi = tweepy.API(auth, wait_on_rate_limit = True)\\n\\n# Get information from Twitter API for each tweet_id in Twitter Archive file\\ntweet_ids = archive['tweet_id']\\nwith open('./Twitter_Files/tweet_json.txt', mode = 'w') as tweet_json:\\n    for tweet_id in tweet_ids:\\n        try:\\n            status = api.get_status(tweet_id) #, tweet_mode='extended'\\n            json_str = json.dumps(status._json) # convert to JSON\\n            tweet_json.write(json_str + '\\n') # write information to tweet_json.txt file\\n        except:\\n            # Tweet does not exist anymore \\n             continue\\n\\n\""
      ]
     },
     "execution_count": 20,
     "metadata": {},
     "output_type": "execute_result"
    }
   ],
   "source": [
    "'''\n",
    "Since tweet information is already stored in tweet_json.txt file, do not request data from api again\n",
    "\n",
    "# Store Twitter authentication details\n",
    "# https://developer.twitter.com/en/account/get-started --> Apps --> BS_Udacity_Dogs\n",
    "my_api_key = 'V4mljUBU6tUgbzXo8XORLQAgj'\n",
    "my_api_secret_key = 'uVb3YtSQLJwSakJelPOJ8JWzC4zdP2CHlrhyIyow8oAAQXoBF7'\n",
    "my_access_token = '1095995458781106176-ClvYF8zgxLd18YK5lN1c0rrc0MXbXh'\n",
    "my_access_token_secret = 'jwhfSN2VIDgk3mim61Bvc7YKQ1YzhHKpcDMfZ86DYdlwi'\n",
    "\n",
    "# Twitter API connection\n",
    "auth = tweepy.OAuthHandler(my_api_key, my_api_secret_key)\n",
    "auth.set_access_token(my_access_token, my_access_token_secret)\n",
    "api = tweepy.API(auth, wait_on_rate_limit = True)\n",
    "\n",
    "# Get information from Twitter API for each tweet_id in Twitter Archive file\n",
    "tweet_ids = archive['tweet_id']\n",
    "with open('./Twitter_Files/tweet_json.txt', mode = 'w') as tweet_json:\n",
    "    for tweet_id in tweet_ids:\n",
    "        try:\n",
    "            status = api.get_status(tweet_id) #, tweet_mode='extended'\n",
    "            json_str = json.dumps(status._json) # convert to JSON\n",
    "            tweet_json.write(json_str + '\\n') # write information to tweet_json.txt file\n",
    "        except:\n",
    "            # Tweet does not exist anymore \n",
    "             continue\n",
    "\n",
    "'''"
   ]
  },
  {
   "cell_type": "code",
   "execution_count": 21,
   "metadata": {},
   "outputs": [
    {
     "name": "stdout",
     "output_type": "stream",
     "text": [
      "<class 'pandas.core.frame.DataFrame'>\n",
      "RangeIndex: 2334 entries, 0 to 2333\n",
      "Data columns (total 3 columns):\n",
      "tweet_id          2334 non-null int64\n",
      "favorite_count    2334 non-null int64\n",
      "retweet_count     2334 non-null int64\n",
      "dtypes: int64(3)\n",
      "memory usage: 54.8 KB\n"
     ]
    }
   ],
   "source": [
    "# Read data from txt into a list (each line is one entry in list)\n",
    "tweets_list = []\n",
    "tweet_json = open('./Twitter_Files/tweet_json.txt', 'r')\n",
    "\n",
    "for line in tweet_json:\n",
    "    try:\n",
    "        tweet = json.loads(line)\n",
    "        tweets_list.append(tweet)\n",
    "    except:\n",
    "         continue\n",
    "tweet_json.close()\n",
    "\n",
    "# Extract 'retweet_count' and 'favorite_count' from list and store in dataframe (together with tweet_id)\n",
    "favoretweet = pd.DataFrame() #create dataframe\n",
    "favoretweet['tweet_id'] = list(map(lambda tweet: tweet['id'], tweets_list))\n",
    "favoretweet['favorite_count'] = list(map(lambda tweet: tweet['favorite_count'], tweets_list))\n",
    "favoretweet['retweet_count'] = list(map(lambda tweet: tweet['retweet_count'], tweets_list))\n",
    "\n",
    "favoretweet.info()"
   ]
  },
  {
   "cell_type": "markdown",
   "metadata": {},
   "source": [
    "<a id='assess'></a>\n",
    "## Assess Data"
   ]
  },
  {
   "cell_type": "markdown",
   "metadata": {},
   "source": [
    "### Tweet Archive"
   ]
  },
  {
   "cell_type": "code",
   "execution_count": 22,
   "metadata": {},
   "outputs": [
    {
     "data": {
      "text/html": [
       "<div>\n",
       "<style scoped>\n",
       "    .dataframe tbody tr th:only-of-type {\n",
       "        vertical-align: middle;\n",
       "    }\n",
       "\n",
       "    .dataframe tbody tr th {\n",
       "        vertical-align: top;\n",
       "    }\n",
       "\n",
       "    .dataframe thead th {\n",
       "        text-align: right;\n",
       "    }\n",
       "</style>\n",
       "<table border=\"1\" class=\"dataframe\">\n",
       "  <thead>\n",
       "    <tr style=\"text-align: right;\">\n",
       "      <th></th>\n",
       "      <th>tweet_id</th>\n",
       "      <th>in_reply_to_status_id</th>\n",
       "      <th>in_reply_to_user_id</th>\n",
       "      <th>timestamp</th>\n",
       "      <th>source</th>\n",
       "      <th>text</th>\n",
       "      <th>retweeted_status_id</th>\n",
       "      <th>retweeted_status_user_id</th>\n",
       "      <th>retweeted_status_timestamp</th>\n",
       "      <th>expanded_urls</th>\n",
       "      <th>rating_numerator</th>\n",
       "      <th>rating_denominator</th>\n",
       "      <th>name</th>\n",
       "      <th>doggo</th>\n",
       "      <th>floofer</th>\n",
       "      <th>pupper</th>\n",
       "      <th>puppo</th>\n",
       "    </tr>\n",
       "  </thead>\n",
       "  <tbody>\n",
       "    <tr>\n",
       "      <th>2116</th>\n",
       "      <td>670427002554466305</td>\n",
       "      <td>NaN</td>\n",
       "      <td>NaN</td>\n",
       "      <td>2015-11-28 02:20:27 +0000</td>\n",
       "      <td>&lt;a href=\"http://twitter.com/download/iphone\" r...</td>\n",
       "      <td>This is a Deciduous Trimester mix named Spork....</td>\n",
       "      <td>NaN</td>\n",
       "      <td>NaN</td>\n",
       "      <td>NaN</td>\n",
       "      <td>https://twitter.com/dog_rates/status/670427002...</td>\n",
       "      <td>9</td>\n",
       "      <td>10</td>\n",
       "      <td>a</td>\n",
       "      <td>None</td>\n",
       "      <td>None</td>\n",
       "      <td>None</td>\n",
       "      <td>None</td>\n",
       "    </tr>\n",
       "    <tr>\n",
       "      <th>169</th>\n",
       "      <td>859196978902773760</td>\n",
       "      <td>NaN</td>\n",
       "      <td>NaN</td>\n",
       "      <td>2017-05-02 00:04:57 +0000</td>\n",
       "      <td>&lt;a href=\"http://twitter.com/download/iphone\" r...</td>\n",
       "      <td>We only rate dogs. This is quite clearly a smo...</td>\n",
       "      <td>NaN</td>\n",
       "      <td>NaN</td>\n",
       "      <td>NaN</td>\n",
       "      <td>https://twitter.com/dog_rates/status/859196978...</td>\n",
       "      <td>12</td>\n",
       "      <td>10</td>\n",
       "      <td>quite</td>\n",
       "      <td>None</td>\n",
       "      <td>None</td>\n",
       "      <td>None</td>\n",
       "      <td>None</td>\n",
       "    </tr>\n",
       "    <tr>\n",
       "      <th>383</th>\n",
       "      <td>827199976799354881</td>\n",
       "      <td>NaN</td>\n",
       "      <td>NaN</td>\n",
       "      <td>2017-02-02 17:00:17 +0000</td>\n",
       "      <td>&lt;a href=\"http://twitter.com/download/iphone\" r...</td>\n",
       "      <td>This is Charlie. He wins every game of chess h...</td>\n",
       "      <td>NaN</td>\n",
       "      <td>NaN</td>\n",
       "      <td>NaN</td>\n",
       "      <td>https://twitter.com/dog_rates/status/827199976...</td>\n",
       "      <td>13</td>\n",
       "      <td>10</td>\n",
       "      <td>Charlie</td>\n",
       "      <td>None</td>\n",
       "      <td>None</td>\n",
       "      <td>None</td>\n",
       "      <td>None</td>\n",
       "    </tr>\n",
       "    <tr>\n",
       "      <th>1808</th>\n",
       "      <td>676897532954456065</td>\n",
       "      <td>NaN</td>\n",
       "      <td>NaN</td>\n",
       "      <td>2015-12-15 22:52:02 +0000</td>\n",
       "      <td>&lt;a href=\"http://twitter.com/download/iphone\" r...</td>\n",
       "      <td>Exotic handheld dog here. Appears unathletic. ...</td>\n",
       "      <td>NaN</td>\n",
       "      <td>NaN</td>\n",
       "      <td>NaN</td>\n",
       "      <td>https://twitter.com/dog_rates/status/676897532...</td>\n",
       "      <td>5</td>\n",
       "      <td>10</td>\n",
       "      <td>None</td>\n",
       "      <td>None</td>\n",
       "      <td>None</td>\n",
       "      <td>None</td>\n",
       "      <td>None</td>\n",
       "    </tr>\n",
       "    <tr>\n",
       "      <th>360</th>\n",
       "      <td>829861396166877184</td>\n",
       "      <td>NaN</td>\n",
       "      <td>NaN</td>\n",
       "      <td>2017-02-10 01:15:49 +0000</td>\n",
       "      <td>&lt;a href=\"http://twitter.com/download/iphone\" r...</td>\n",
       "      <td>This is Mia. She already knows she's a good do...</td>\n",
       "      <td>NaN</td>\n",
       "      <td>NaN</td>\n",
       "      <td>NaN</td>\n",
       "      <td>https://twitter.com/dog_rates/status/829861396...</td>\n",
       "      <td>12</td>\n",
       "      <td>10</td>\n",
       "      <td>Mia</td>\n",
       "      <td>None</td>\n",
       "      <td>None</td>\n",
       "      <td>None</td>\n",
       "      <td>None</td>\n",
       "    </tr>\n",
       "  </tbody>\n",
       "</table>\n",
       "</div>"
      ],
      "text/plain": [
       "                tweet_id  in_reply_to_status_id  in_reply_to_user_id  \\\n",
       "2116  670427002554466305                    NaN                  NaN   \n",
       "169   859196978902773760                    NaN                  NaN   \n",
       "383   827199976799354881                    NaN                  NaN   \n",
       "1808  676897532954456065                    NaN                  NaN   \n",
       "360   829861396166877184                    NaN                  NaN   \n",
       "\n",
       "                      timestamp  \\\n",
       "2116  2015-11-28 02:20:27 +0000   \n",
       "169   2017-05-02 00:04:57 +0000   \n",
       "383   2017-02-02 17:00:17 +0000   \n",
       "1808  2015-12-15 22:52:02 +0000   \n",
       "360   2017-02-10 01:15:49 +0000   \n",
       "\n",
       "                                                 source  \\\n",
       "2116  <a href=\"http://twitter.com/download/iphone\" r...   \n",
       "169   <a href=\"http://twitter.com/download/iphone\" r...   \n",
       "383   <a href=\"http://twitter.com/download/iphone\" r...   \n",
       "1808  <a href=\"http://twitter.com/download/iphone\" r...   \n",
       "360   <a href=\"http://twitter.com/download/iphone\" r...   \n",
       "\n",
       "                                                   text  retweeted_status_id  \\\n",
       "2116  This is a Deciduous Trimester mix named Spork....                  NaN   \n",
       "169   We only rate dogs. This is quite clearly a smo...                  NaN   \n",
       "383   This is Charlie. He wins every game of chess h...                  NaN   \n",
       "1808  Exotic handheld dog here. Appears unathletic. ...                  NaN   \n",
       "360   This is Mia. She already knows she's a good do...                  NaN   \n",
       "\n",
       "      retweeted_status_user_id retweeted_status_timestamp  \\\n",
       "2116                       NaN                        NaN   \n",
       "169                        NaN                        NaN   \n",
       "383                        NaN                        NaN   \n",
       "1808                       NaN                        NaN   \n",
       "360                        NaN                        NaN   \n",
       "\n",
       "                                          expanded_urls  rating_numerator  \\\n",
       "2116  https://twitter.com/dog_rates/status/670427002...                 9   \n",
       "169   https://twitter.com/dog_rates/status/859196978...                12   \n",
       "383   https://twitter.com/dog_rates/status/827199976...                13   \n",
       "1808  https://twitter.com/dog_rates/status/676897532...                 5   \n",
       "360   https://twitter.com/dog_rates/status/829861396...                12   \n",
       "\n",
       "      rating_denominator     name doggo floofer pupper puppo  \n",
       "2116                  10        a  None    None   None  None  \n",
       "169                   10    quite  None    None   None  None  \n",
       "383                   10  Charlie  None    None   None  None  \n",
       "1808                  10     None  None    None   None  None  \n",
       "360                   10      Mia  None    None   None  None  "
      ]
     },
     "execution_count": 22,
     "metadata": {},
     "output_type": "execute_result"
    }
   ],
   "source": [
    "# Get a basic idea of columns in table and their values\n",
    "archive.sample(5)"
   ]
  },
  {
   "cell_type": "code",
   "execution_count": 23,
   "metadata": {},
   "outputs": [
    {
     "name": "stdout",
     "output_type": "stream",
     "text": [
      "<class 'pandas.core.frame.DataFrame'>\n",
      "RangeIndex: 2356 entries, 0 to 2355\n",
      "Data columns (total 17 columns):\n",
      "tweet_id                      2356 non-null int64\n",
      "in_reply_to_status_id         78 non-null float64\n",
      "in_reply_to_user_id           78 non-null float64\n",
      "timestamp                     2356 non-null object\n",
      "source                        2356 non-null object\n",
      "text                          2356 non-null object\n",
      "retweeted_status_id           181 non-null float64\n",
      "retweeted_status_user_id      181 non-null float64\n",
      "retweeted_status_timestamp    181 non-null object\n",
      "expanded_urls                 2297 non-null object\n",
      "rating_numerator              2356 non-null int64\n",
      "rating_denominator            2356 non-null int64\n",
      "name                          2356 non-null object\n",
      "doggo                         2356 non-null object\n",
      "floofer                       2356 non-null object\n",
      "pupper                        2356 non-null object\n",
      "puppo                         2356 non-null object\n",
      "dtypes: float64(4), int64(3), object(10)\n",
      "memory usage: 313.0+ KB\n"
     ]
    }
   ],
   "source": [
    "# Get data types of columns and number of non-null entries\n",
    "archive.info()"
   ]
  },
  {
   "cell_type": "markdown",
   "metadata": {},
   "source": [
    "- Column **tweet_id** has data type integer (string is more suited for an ID)\n",
    "- There a some columns with null values. However, all columns of interest have 2356 non-null values.\n",
    "- Colummn **timestamp** should be converted to DateTime object to be better suited for analysis"
   ]
  },
  {
   "cell_type": "code",
   "execution_count": 24,
   "metadata": {},
   "outputs": [
    {
     "data": {
      "text/plain": [
       "0"
      ]
     },
     "execution_count": 24,
     "metadata": {},
     "output_type": "execute_result"
    }
   ],
   "source": [
    "#Get number of duplicated rows\n",
    "sum(archive.duplicated())"
   ]
  },
  {
   "cell_type": "code",
   "execution_count": 25,
   "metadata": {},
   "outputs": [
    {
     "data": {
      "text/plain": [
       "0"
      ]
     },
     "execution_count": 25,
     "metadata": {},
     "output_type": "execute_result"
    }
   ],
   "source": [
    "# Check for duplicated values in 'tweet_id'\n",
    "sum(archive.tweet_id.duplicated())   # could have also been analyzed by archive.tweet_id.nunique()  "
   ]
  },
  {
   "cell_type": "markdown",
   "metadata": {},
   "source": [
    "There are no duplicated rows and only unique tweet_ids in this table."
   ]
  },
  {
   "cell_type": "code",
   "execution_count": 26,
   "metadata": {},
   "outputs": [
    {
     "data": {
      "text/html": [
       "<div>\n",
       "<style scoped>\n",
       "    .dataframe tbody tr th:only-of-type {\n",
       "        vertical-align: middle;\n",
       "    }\n",
       "\n",
       "    .dataframe tbody tr th {\n",
       "        vertical-align: top;\n",
       "    }\n",
       "\n",
       "    .dataframe thead th {\n",
       "        text-align: right;\n",
       "    }\n",
       "</style>\n",
       "<table border=\"1\" class=\"dataframe\">\n",
       "  <thead>\n",
       "    <tr style=\"text-align: right;\">\n",
       "      <th></th>\n",
       "      <th>tweet_id</th>\n",
       "      <th>in_reply_to_status_id</th>\n",
       "      <th>in_reply_to_user_id</th>\n",
       "      <th>retweeted_status_id</th>\n",
       "      <th>retweeted_status_user_id</th>\n",
       "      <th>rating_numerator</th>\n",
       "      <th>rating_denominator</th>\n",
       "    </tr>\n",
       "  </thead>\n",
       "  <tbody>\n",
       "    <tr>\n",
       "      <th>count</th>\n",
       "      <td>2.356000e+03</td>\n",
       "      <td>7.800000e+01</td>\n",
       "      <td>7.800000e+01</td>\n",
       "      <td>1.810000e+02</td>\n",
       "      <td>1.810000e+02</td>\n",
       "      <td>2356.000000</td>\n",
       "      <td>2356.000000</td>\n",
       "    </tr>\n",
       "    <tr>\n",
       "      <th>mean</th>\n",
       "      <td>7.427716e+17</td>\n",
       "      <td>7.455079e+17</td>\n",
       "      <td>2.014171e+16</td>\n",
       "      <td>7.720400e+17</td>\n",
       "      <td>1.241698e+16</td>\n",
       "      <td>13.126486</td>\n",
       "      <td>10.455433</td>\n",
       "    </tr>\n",
       "    <tr>\n",
       "      <th>std</th>\n",
       "      <td>6.856705e+16</td>\n",
       "      <td>7.582492e+16</td>\n",
       "      <td>1.252797e+17</td>\n",
       "      <td>6.236928e+16</td>\n",
       "      <td>9.599254e+16</td>\n",
       "      <td>45.876648</td>\n",
       "      <td>6.745237</td>\n",
       "    </tr>\n",
       "    <tr>\n",
       "      <th>min</th>\n",
       "      <td>6.660209e+17</td>\n",
       "      <td>6.658147e+17</td>\n",
       "      <td>1.185634e+07</td>\n",
       "      <td>6.661041e+17</td>\n",
       "      <td>7.832140e+05</td>\n",
       "      <td>0.000000</td>\n",
       "      <td>0.000000</td>\n",
       "    </tr>\n",
       "    <tr>\n",
       "      <th>25%</th>\n",
       "      <td>6.783989e+17</td>\n",
       "      <td>6.757419e+17</td>\n",
       "      <td>3.086374e+08</td>\n",
       "      <td>7.186315e+17</td>\n",
       "      <td>4.196984e+09</td>\n",
       "      <td>10.000000</td>\n",
       "      <td>10.000000</td>\n",
       "    </tr>\n",
       "    <tr>\n",
       "      <th>50%</th>\n",
       "      <td>7.196279e+17</td>\n",
       "      <td>7.038708e+17</td>\n",
       "      <td>4.196984e+09</td>\n",
       "      <td>7.804657e+17</td>\n",
       "      <td>4.196984e+09</td>\n",
       "      <td>11.000000</td>\n",
       "      <td>10.000000</td>\n",
       "    </tr>\n",
       "    <tr>\n",
       "      <th>75%</th>\n",
       "      <td>7.993373e+17</td>\n",
       "      <td>8.257804e+17</td>\n",
       "      <td>4.196984e+09</td>\n",
       "      <td>8.203146e+17</td>\n",
       "      <td>4.196984e+09</td>\n",
       "      <td>12.000000</td>\n",
       "      <td>10.000000</td>\n",
       "    </tr>\n",
       "    <tr>\n",
       "      <th>max</th>\n",
       "      <td>8.924206e+17</td>\n",
       "      <td>8.862664e+17</td>\n",
       "      <td>8.405479e+17</td>\n",
       "      <td>8.874740e+17</td>\n",
       "      <td>7.874618e+17</td>\n",
       "      <td>1776.000000</td>\n",
       "      <td>170.000000</td>\n",
       "    </tr>\n",
       "  </tbody>\n",
       "</table>\n",
       "</div>"
      ],
      "text/plain": [
       "           tweet_id  in_reply_to_status_id  in_reply_to_user_id  \\\n",
       "count  2.356000e+03           7.800000e+01         7.800000e+01   \n",
       "mean   7.427716e+17           7.455079e+17         2.014171e+16   \n",
       "std    6.856705e+16           7.582492e+16         1.252797e+17   \n",
       "min    6.660209e+17           6.658147e+17         1.185634e+07   \n",
       "25%    6.783989e+17           6.757419e+17         3.086374e+08   \n",
       "50%    7.196279e+17           7.038708e+17         4.196984e+09   \n",
       "75%    7.993373e+17           8.257804e+17         4.196984e+09   \n",
       "max    8.924206e+17           8.862664e+17         8.405479e+17   \n",
       "\n",
       "       retweeted_status_id  retweeted_status_user_id  rating_numerator  \\\n",
       "count         1.810000e+02              1.810000e+02       2356.000000   \n",
       "mean          7.720400e+17              1.241698e+16         13.126486   \n",
       "std           6.236928e+16              9.599254e+16         45.876648   \n",
       "min           6.661041e+17              7.832140e+05          0.000000   \n",
       "25%           7.186315e+17              4.196984e+09         10.000000   \n",
       "50%           7.804657e+17              4.196984e+09         11.000000   \n",
       "75%           8.203146e+17              4.196984e+09         12.000000   \n",
       "max           8.874740e+17              7.874618e+17       1776.000000   \n",
       "\n",
       "       rating_denominator  \n",
       "count         2356.000000  \n",
       "mean            10.455433  \n",
       "std              6.745237  \n",
       "min              0.000000  \n",
       "25%             10.000000  \n",
       "50%             10.000000  \n",
       "75%             10.000000  \n",
       "max            170.000000  "
      ]
     },
     "execution_count": 26,
     "metadata": {},
     "output_type": "execute_result"
    }
   ],
   "source": [
    "archive.describe()"
   ]
  },
  {
   "cell_type": "markdown",
   "metadata": {},
   "source": [
    "**rating_numerator** is supposed to be around/greater than 10. It ranges between 0 and 1776 and is further analyzed (e.g. for outliers. **rating_denominator** is supposed to be around 10. It ranges between 0 and 170 and is further analyzed (e.g. for outliers."
   ]
  },
  {
   "cell_type": "code",
   "execution_count": 27,
   "metadata": {},
   "outputs": [
    {
     "data": {
      "text/plain": [
       "10     2333\n",
       "11        3\n",
       "50        3\n",
       "80        2\n",
       "20        2\n",
       "2         1\n",
       "16        1\n",
       "40        1\n",
       "70        1\n",
       "15        1\n",
       "90        1\n",
       "110       1\n",
       "120       1\n",
       "130       1\n",
       "150       1\n",
       "170       1\n",
       "7         1\n",
       "0         1\n",
       "Name: rating_denominator, dtype: int64"
      ]
     },
     "execution_count": 27,
     "metadata": {},
     "output_type": "execute_result"
    }
   ],
   "source": [
    "archive.rating_denominator.value_counts()"
   ]
  },
  {
   "cell_type": "code",
   "execution_count": 28,
   "metadata": {},
   "outputs": [
    {
     "data": {
      "text/plain": [
       "23"
      ]
     },
     "execution_count": 28,
     "metadata": {},
     "output_type": "execute_result"
    }
   ],
   "source": [
    "archive.query('rating_denominator!=10').count()[0]"
   ]
  },
  {
   "cell_type": "markdown",
   "metadata": {},
   "source": [
    "23 rows out of 2356 have a denominator which is not 10 (less than 1% of all rows). These rows will be deleted to ease later analysis."
   ]
  },
  {
   "cell_type": "code",
   "execution_count": 29,
   "metadata": {},
   "outputs": [
    {
     "data": {
      "text/plain": [
       "0         2\n",
       "1         8\n",
       "2         9\n",
       "3        19\n",
       "4        15\n",
       "5        37\n",
       "6        32\n",
       "7        54\n",
       "8       102\n",
       "9       156\n",
       "10      461\n",
       "11      463\n",
       "12      558\n",
       "13      351\n",
       "14       54\n",
       "15        2\n",
       "17        1\n",
       "26        1\n",
       "27        1\n",
       "75        2\n",
       "182       1\n",
       "420       2\n",
       "666       1\n",
       "1776      1\n",
       "Name: rating_numerator, dtype: int64"
      ]
     },
     "execution_count": 29,
     "metadata": {},
     "output_type": "execute_result"
    }
   ],
   "source": [
    "#create mask with denominators of 10, sicne all other rows will be removed later anyways\n",
    "archive_10 = archive.query('rating_denominator==10') \n",
    "archive_10['rating_numerator'].value_counts().sort_index()"
   ]
  },
  {
   "cell_type": "code",
   "execution_count": 30,
   "metadata": {},
   "outputs": [
    {
     "data": {
      "text/plain": [
       "188     @dhmontgomery We also gave snoop dogg a 420/10 but I think that predated your research                                                                           \n",
       "189     @s8n You tried very hard to portray this good boy as not so good, but you have ultimately failed. His goodness shines through. 666/10                            \n",
       "290     @markhoppus 182/10                                                                                                                                               \n",
       "340     RT @dog_rates: This is Logan, the Chow who lived. He solemnly swears he's up to lots of good. H*ckin magical af 9.75/10 https://t.co/yBO5wu…                     \n",
       "695     This is Logan, the Chow who lived. He solemnly swears he's up to lots of good. H*ckin magical af 9.75/10 https://t.co/yBO5wuqaPS                                 \n",
       "763     This is Sophie. She's a Jubilant Bush Pupper. Super h*ckin rare. Appears at random just to smile at the locals. 11.27/10 would smile back https://t.co/QFaUiIHxHq\n",
       "979     This is Atticus. He's quite simply America af. 1776/10 https://t.co/GRXwMxLBkh                                                                                   \n",
       "1712    Here we have uncovered an entire battalion of holiday puppers. Average of 11.26/10 https://t.co/eNm2S6p9BD                                                       \n",
       "2074    After so many requests... here you go.\\n\\nGood dogg. 420/10 https://t.co/yfAAo1gdeY                                                                              \n",
       "Name: text, dtype: object"
      ]
     },
     "execution_count": 30,
     "metadata": {},
     "output_type": "execute_result"
    }
   ],
   "source": [
    "pd.set_option('display.max_colwidth', -1)\n",
    "archive_10.query('rating_numerator>17').text"
   ]
  },
  {
   "cell_type": "markdown",
   "metadata": {},
   "source": [
    "After checking some of the tweets with rating higher than 17, it seems that there are few float ratings where the decimal places are stored in column **rating_numerator** (9.75, 11.27 and 11.26). Those rows will be removed. Ratings greater than or equal to 182 are considered as outliers and will be removed as well (this applies to 5 ratings, two relating to Snoop Dogg and one to Atticus (dog of independence) with a rating of 1776)."
   ]
  },
  {
   "cell_type": "code",
   "execution_count": 31,
   "metadata": {},
   "outputs": [
    {
     "data": {
      "text/plain": [
       "None         745\n",
       "a            55 \n",
       "Charlie      12 \n",
       "Cooper       11 \n",
       "Lucy         11 \n",
       "Oliver       11 \n",
       "Penny        10 \n",
       "Lola         10 \n",
       "Tucker       10 \n",
       "Winston      9  \n",
       "Bo           9  \n",
       "the          8  \n",
       "Sadie        8  \n",
       "Daisy        7  \n",
       "Toby         7  \n",
       "Bailey       7  \n",
       "Buddy        7  \n",
       "an           7  \n",
       "Stanley      6  \n",
       "Koda         6  \n",
       "Scout        6  \n",
       "Jax          6  \n",
       "Dave         6  \n",
       "Leo          6  \n",
       "Bella        6  \n",
       "Jack         6  \n",
       "Milo         6  \n",
       "Rusty        6  \n",
       "Oscar        6  \n",
       "Gus          5  \n",
       "            ..  \n",
       "Tove         1  \n",
       "Glacier      1  \n",
       "Pip          1  \n",
       "Zoe          1  \n",
       "Cilantro     1  \n",
       "Jennifur     1  \n",
       "Olaf         1  \n",
       "Teddy        1  \n",
       "Socks        1  \n",
       "Snoop        1  \n",
       "Lenox        1  \n",
       "Jeremy       1  \n",
       "Zooey        1  \n",
       "Todo         1  \n",
       "Kanu         1  \n",
       "Ember        1  \n",
       "Steve        1  \n",
       "Laika        1  \n",
       "Eazy         1  \n",
       "Obi          1  \n",
       "Kane         1  \n",
       "Finnegus     1  \n",
       "Alexander    1  \n",
       "Meatball     1  \n",
       "Zara         1  \n",
       "Bronte       1  \n",
       "Edgar        1  \n",
       "Glenn        1  \n",
       "Ester        1  \n",
       "Opie         1  \n",
       "Name: name, Length: 957, dtype: int64"
      ]
     },
     "execution_count": 31,
     "metadata": {},
     "output_type": "execute_result"
    }
   ],
   "source": [
    "# Check entries of name column\n",
    "archive.name.value_counts()"
   ]
  },
  {
   "cell_type": "markdown",
   "metadata": {},
   "source": [
    "There are some entries in **name** column which were not parsed correctly, e.g. 'a', 'an', 'such', 'quite'. Since all visibly identified erronous entries start with a lower case letter, this will be used to identify further erronous entries which will then be converted to 'None' in the Cleaning Process."
   ]
  },
  {
   "cell_type": "code",
   "execution_count": 32,
   "metadata": {},
   "outputs": [
    {
     "data": {
      "text/plain": [
       "a               55\n",
       "the             8 \n",
       "an              7 \n",
       "very            5 \n",
       "quite           4 \n",
       "one             4 \n",
       "just            4 \n",
       "not             2 \n",
       "mad             2 \n",
       "actually        2 \n",
       "getting         2 \n",
       "this            1 \n",
       "his             1 \n",
       "old             1 \n",
       "infuriating     1 \n",
       "by              1 \n",
       "light           1 \n",
       "officially      1 \n",
       "my              1 \n",
       "space           1 \n",
       "all             1 \n",
       "life            1 \n",
       "such            1 \n",
       "incredibly      1 \n",
       "unacceptable    1 \n",
       "Name: name, dtype: int64"
      ]
     },
     "execution_count": 32,
     "metadata": {},
     "output_type": "execute_result"
    }
   ],
   "source": [
    "archive['Name_FirstLetter'] = archive['name'].str[0]\n",
    "archive['Name_FirstLetter_Lower'] = archive['Name_FirstLetter'].str.islower()\n",
    "archive_name_lower = archive.query('Name_FirstLetter_Lower==True')\n",
    "archive_name_lower.name.value_counts()"
   ]
  },
  {
   "cell_type": "code",
   "execution_count": 33,
   "metadata": {},
   "outputs": [
    {
     "data": {
      "text/plain": [
       "['a',\n",
       " 'the',\n",
       " 'an',\n",
       " 'very',\n",
       " 'quite',\n",
       " 'one',\n",
       " 'just',\n",
       " 'not',\n",
       " 'mad',\n",
       " 'actually',\n",
       " 'getting',\n",
       " 'this',\n",
       " 'his',\n",
       " 'old',\n",
       " 'infuriating',\n",
       " 'by',\n",
       " 'light',\n",
       " 'officially',\n",
       " 'my',\n",
       " 'space',\n",
       " 'all',\n",
       " 'life',\n",
       " 'such',\n",
       " 'incredibly',\n",
       " 'unacceptable']"
      ]
     },
     "execution_count": 33,
     "metadata": {},
     "output_type": "execute_result"
    }
   ],
   "source": [
    "archive_name_none = archive_name_lower.name.value_counts().index.tolist()\n",
    "archive_name_none"
   ]
  },
  {
   "cell_type": "code",
   "execution_count": 34,
   "metadata": {},
   "outputs": [
    {
     "name": "stdout",
     "output_type": "stream",
     "text": [
      "None      2099\n",
      "pupper    257 \n",
      "Name: pupper, dtype: int64\n",
      "None     2259\n",
      "doggo    97  \n",
      "Name: doggo, dtype: int64\n",
      "None     2326\n",
      "puppo    30  \n",
      "Name: puppo, dtype: int64\n",
      "None       2346\n",
      "floofer    10  \n",
      "Name: floofer, dtype: int64\n",
      "------------------------------------------\n",
      "Pupper: 257\n",
      "Doggo: 97\n",
      "Puppo: 30\n",
      "Floofer: 10\n"
     ]
    }
   ],
   "source": [
    "# Check entries for columns **doggo, floofer, pupper, and puppo**\n",
    "print(archive.pupper.value_counts())\n",
    "print(archive.doggo.value_counts())\n",
    "print(archive.puppo.value_counts())\n",
    "print(archive.floofer.value_counts())\n",
    "print(\"------------------------------------------\")\n",
    "print(\"Pupper: {}\".format(archive.pupper.value_counts().loc['pupper']))\n",
    "print(\"Doggo: {}\".format(archive.doggo.value_counts().loc['doggo']))\n",
    "print(\"Puppo: {}\".format(archive.puppo.value_counts().loc['puppo']))\n",
    "print(\"Floofer: {}\".format(archive.floofer.value_counts().loc['floofer']))"
   ]
  },
  {
   "cell_type": "markdown",
   "metadata": {},
   "source": [
    "Since out of the 2,356 available data records only 394 records have information on the type of dog this information will not be considered in the further analysis. If it were to be considered, one possible cleaning action would be to combine columns **doggo, floofer, pupper, and puppo** into one 'dogtype' column."
   ]
  },
  {
   "cell_type": "markdown",
   "metadata": {},
   "source": [
    "### Tweet Image Prediction"
   ]
  },
  {
   "cell_type": "code",
   "execution_count": 35,
   "metadata": {},
   "outputs": [
    {
     "data": {
      "text/html": [
       "<div>\n",
       "<style scoped>\n",
       "    .dataframe tbody tr th:only-of-type {\n",
       "        vertical-align: middle;\n",
       "    }\n",
       "\n",
       "    .dataframe tbody tr th {\n",
       "        vertical-align: top;\n",
       "    }\n",
       "\n",
       "    .dataframe thead th {\n",
       "        text-align: right;\n",
       "    }\n",
       "</style>\n",
       "<table border=\"1\" class=\"dataframe\">\n",
       "  <thead>\n",
       "    <tr style=\"text-align: right;\">\n",
       "      <th></th>\n",
       "      <th>tweet_id</th>\n",
       "      <th>jpg_url</th>\n",
       "      <th>img_num</th>\n",
       "      <th>p1</th>\n",
       "      <th>p1_conf</th>\n",
       "      <th>p1_dog</th>\n",
       "      <th>p2</th>\n",
       "      <th>p2_conf</th>\n",
       "      <th>p2_dog</th>\n",
       "      <th>p3</th>\n",
       "      <th>p3_conf</th>\n",
       "      <th>p3_dog</th>\n",
       "    </tr>\n",
       "  </thead>\n",
       "  <tbody>\n",
       "    <tr>\n",
       "      <th>1298</th>\n",
       "      <td>752334515931054080</td>\n",
       "      <td>https://pbs.twimg.com/ext_tw_video_thumb/752334354492362752/pu/img/uWISPc0YRmhUi9Ju.jpg</td>\n",
       "      <td>1</td>\n",
       "      <td>Bedlington_terrier</td>\n",
       "      <td>0.399163</td>\n",
       "      <td>True</td>\n",
       "      <td>standard_poodle</td>\n",
       "      <td>0.086425</td>\n",
       "      <td>True</td>\n",
       "      <td>wire-haired_fox_terrier</td>\n",
       "      <td>0.075231</td>\n",
       "      <td>True</td>\n",
       "    </tr>\n",
       "    <tr>\n",
       "      <th>213</th>\n",
       "      <td>670040295598354432</td>\n",
       "      <td>https://pbs.twimg.com/media/CUx2F6lVEAAvFev.jpg</td>\n",
       "      <td>1</td>\n",
       "      <td>web_site</td>\n",
       "      <td>0.901552</td>\n",
       "      <td>False</td>\n",
       "      <td>borzoi</td>\n",
       "      <td>0.026660</td>\n",
       "      <td>True</td>\n",
       "      <td>Chihuahua</td>\n",
       "      <td>0.012438</td>\n",
       "      <td>True</td>\n",
       "    </tr>\n",
       "    <tr>\n",
       "      <th>1219</th>\n",
       "      <td>743895849529389061</td>\n",
       "      <td>https://pbs.twimg.com/media/ClLZU8LWQAAsOxV.jpg</td>\n",
       "      <td>1</td>\n",
       "      <td>dalmatian</td>\n",
       "      <td>0.562315</td>\n",
       "      <td>True</td>\n",
       "      <td>Great_Dane</td>\n",
       "      <td>0.416478</td>\n",
       "      <td>True</td>\n",
       "      <td>German_short-haired_pointer</td>\n",
       "      <td>0.008552</td>\n",
       "      <td>True</td>\n",
       "    </tr>\n",
       "    <tr>\n",
       "      <th>1481</th>\n",
       "      <td>780931614150983680</td>\n",
       "      <td>https://pbs.twimg.com/media/CtZtJxAXEAAyPGd.jpg</td>\n",
       "      <td>1</td>\n",
       "      <td>padlock</td>\n",
       "      <td>0.731564</td>\n",
       "      <td>False</td>\n",
       "      <td>necklace</td>\n",
       "      <td>0.065462</td>\n",
       "      <td>False</td>\n",
       "      <td>chain</td>\n",
       "      <td>0.036469</td>\n",
       "      <td>False</td>\n",
       "    </tr>\n",
       "    <tr>\n",
       "      <th>617</th>\n",
       "      <td>680206703334408192</td>\n",
       "      <td>https://pbs.twimg.com/media/CXCUYcRW8AAObYM.jpg</td>\n",
       "      <td>1</td>\n",
       "      <td>Christmas_stocking</td>\n",
       "      <td>0.149758</td>\n",
       "      <td>False</td>\n",
       "      <td>cloak</td>\n",
       "      <td>0.128830</td>\n",
       "      <td>False</td>\n",
       "      <td>teddy</td>\n",
       "      <td>0.109129</td>\n",
       "      <td>False</td>\n",
       "    </tr>\n",
       "  </tbody>\n",
       "</table>\n",
       "</div>"
      ],
      "text/plain": [
       "                tweet_id  \\\n",
       "1298  752334515931054080   \n",
       "213   670040295598354432   \n",
       "1219  743895849529389061   \n",
       "1481  780931614150983680   \n",
       "617   680206703334408192   \n",
       "\n",
       "                                                                                      jpg_url  \\\n",
       "1298  https://pbs.twimg.com/ext_tw_video_thumb/752334354492362752/pu/img/uWISPc0YRmhUi9Ju.jpg   \n",
       "213   https://pbs.twimg.com/media/CUx2F6lVEAAvFev.jpg                                           \n",
       "1219  https://pbs.twimg.com/media/ClLZU8LWQAAsOxV.jpg                                           \n",
       "1481  https://pbs.twimg.com/media/CtZtJxAXEAAyPGd.jpg                                           \n",
       "617   https://pbs.twimg.com/media/CXCUYcRW8AAObYM.jpg                                           \n",
       "\n",
       "      img_num                  p1   p1_conf  p1_dog               p2  \\\n",
       "1298  1        Bedlington_terrier  0.399163  True    standard_poodle   \n",
       "213   1        web_site            0.901552  False   borzoi            \n",
       "1219  1        dalmatian           0.562315  True    Great_Dane        \n",
       "1481  1        padlock             0.731564  False   necklace          \n",
       "617   1        Christmas_stocking  0.149758  False   cloak             \n",
       "\n",
       "       p2_conf  p2_dog                           p3   p3_conf  p3_dog  \n",
       "1298  0.086425  True    wire-haired_fox_terrier      0.075231  True    \n",
       "213   0.026660  True    Chihuahua                    0.012438  True    \n",
       "1219  0.416478  True    German_short-haired_pointer  0.008552  True    \n",
       "1481  0.065462  False   chain                        0.036469  False   \n",
       "617   0.128830  False   teddy                        0.109129  False   "
      ]
     },
     "execution_count": 35,
     "metadata": {},
     "output_type": "execute_result"
    }
   ],
   "source": [
    "# Get a basic idea of columns in table and their values\n",
    "image.sample(5)"
   ]
  },
  {
   "cell_type": "code",
   "execution_count": 36,
   "metadata": {},
   "outputs": [
    {
     "name": "stdout",
     "output_type": "stream",
     "text": [
      "<class 'pandas.core.frame.DataFrame'>\n",
      "RangeIndex: 2075 entries, 0 to 2074\n",
      "Data columns (total 12 columns):\n",
      "tweet_id    2075 non-null int64\n",
      "jpg_url     2075 non-null object\n",
      "img_num     2075 non-null int64\n",
      "p1          2075 non-null object\n",
      "p1_conf     2075 non-null float64\n",
      "p1_dog      2075 non-null bool\n",
      "p2          2075 non-null object\n",
      "p2_conf     2075 non-null float64\n",
      "p2_dog      2075 non-null bool\n",
      "p3          2075 non-null object\n",
      "p3_conf     2075 non-null float64\n",
      "p3_dog      2075 non-null bool\n",
      "dtypes: bool(3), float64(3), int64(2), object(4)\n",
      "memory usage: 152.0+ KB\n"
     ]
    }
   ],
   "source": [
    "# Get data types of columns and number of non-null entries\n",
    "image.info()"
   ]
  },
  {
   "cell_type": "markdown",
   "metadata": {},
   "source": [
    "- Column **tweet_id** has data type integer (string is more suited for an ID)\n",
    "- The image prediction table has less entries than the Twitter archive table. Only a maximum of 2075 can be matched to 2356 tweets. No null values in this table."
   ]
  },
  {
   "cell_type": "code",
   "execution_count": 37,
   "metadata": {},
   "outputs": [
    {
     "data": {
      "text/plain": [
       "0"
      ]
     },
     "execution_count": 37,
     "metadata": {},
     "output_type": "execute_result"
    }
   ],
   "source": [
    "#Get number of duplicated rows\n",
    "sum(image.duplicated())"
   ]
  },
  {
   "cell_type": "code",
   "execution_count": 38,
   "metadata": {},
   "outputs": [
    {
     "data": {
      "text/plain": [
       "0"
      ]
     },
     "execution_count": 38,
     "metadata": {},
     "output_type": "execute_result"
    }
   ],
   "source": [
    "# Check for duplicated values in 'tweet_id'\n",
    "sum(image.tweet_id.duplicated())   # could have also been analyzed by archive.tweet_id.nunique()  "
   ]
  },
  {
   "cell_type": "markdown",
   "metadata": {},
   "source": [
    "There are no duplicated rows or tweet ids."
   ]
  },
  {
   "cell_type": "code",
   "execution_count": 39,
   "metadata": {},
   "outputs": [
    {
     "data": {
      "text/plain": [
       "1    1780\n",
       "2    198 \n",
       "3    66  \n",
       "4    31  \n",
       "Name: img_num, dtype: int64"
      ]
     },
     "execution_count": 39,
     "metadata": {},
     "output_type": "execute_result"
    }
   ],
   "source": [
    "# Check the distribution on which image number corresponds to the most confident prediction\n",
    "image.img_num.value_counts()"
   ]
  },
  {
   "cell_type": "markdown",
   "metadata": {},
   "source": [
    "Most times the first image is the most confident prediction, but also p2, p3, and p4 have the best predictions. However information from p4 column is missing. Instead of deleting those rows from the data set the images with the average best fit are taken instead (lowest mean px_comf) (which is a bit simpler than identifying the second best fit for each row). "
   ]
  },
  {
   "cell_type": "code",
   "execution_count": 40,
   "metadata": {},
   "outputs": [
    {
     "data": {
      "text/html": [
       "<div>\n",
       "<style scoped>\n",
       "    .dataframe tbody tr th:only-of-type {\n",
       "        vertical-align: middle;\n",
       "    }\n",
       "\n",
       "    .dataframe tbody tr th {\n",
       "        vertical-align: top;\n",
       "    }\n",
       "\n",
       "    .dataframe thead th {\n",
       "        text-align: right;\n",
       "    }\n",
       "</style>\n",
       "<table border=\"1\" class=\"dataframe\">\n",
       "  <thead>\n",
       "    <tr style=\"text-align: right;\">\n",
       "      <th></th>\n",
       "      <th>tweet_id</th>\n",
       "      <th>img_num</th>\n",
       "      <th>p1_conf</th>\n",
       "      <th>p2_conf</th>\n",
       "      <th>p3_conf</th>\n",
       "    </tr>\n",
       "  </thead>\n",
       "  <tbody>\n",
       "    <tr>\n",
       "      <th>count</th>\n",
       "      <td>3.100000e+01</td>\n",
       "      <td>31.0</td>\n",
       "      <td>31.000000</td>\n",
       "      <td>31.000000</td>\n",
       "      <td>31.000000</td>\n",
       "    </tr>\n",
       "    <tr>\n",
       "      <th>mean</th>\n",
       "      <td>8.002106e+17</td>\n",
       "      <td>4.0</td>\n",
       "      <td>0.818488</td>\n",
       "      <td>0.058523</td>\n",
       "      <td>0.027473</td>\n",
       "    </tr>\n",
       "    <tr>\n",
       "      <th>std</th>\n",
       "      <td>5.388178e+16</td>\n",
       "      <td>0.0</td>\n",
       "      <td>0.189390</td>\n",
       "      <td>0.053816</td>\n",
       "      <td>0.031909</td>\n",
       "    </tr>\n",
       "    <tr>\n",
       "      <th>min</th>\n",
       "      <td>6.686232e+17</td>\n",
       "      <td>4.0</td>\n",
       "      <td>0.226716</td>\n",
       "      <td>0.000023</td>\n",
       "      <td>0.000003</td>\n",
       "    </tr>\n",
       "    <tr>\n",
       "      <th>25%</th>\n",
       "      <td>7.606596e+17</td>\n",
       "      <td>4.0</td>\n",
       "      <td>0.771316</td>\n",
       "      <td>0.022395</td>\n",
       "      <td>0.007357</td>\n",
       "    </tr>\n",
       "    <tr>\n",
       "      <th>50%</th>\n",
       "      <td>8.186145e+17</td>\n",
       "      <td>4.0</td>\n",
       "      <td>0.883991</td>\n",
       "      <td>0.035059</td>\n",
       "      <td>0.017943</td>\n",
       "    </tr>\n",
       "    <tr>\n",
       "      <th>75%</th>\n",
       "      <td>8.339563e+17</td>\n",
       "      <td>4.0</td>\n",
       "      <td>0.944413</td>\n",
       "      <td>0.084091</td>\n",
       "      <td>0.029551</td>\n",
       "    </tr>\n",
       "    <tr>\n",
       "      <th>max</th>\n",
       "      <td>8.851676e+17</td>\n",
       "      <td>4.0</td>\n",
       "      <td>0.999953</td>\n",
       "      <td>0.204177</td>\n",
       "      <td>0.125745</td>\n",
       "    </tr>\n",
       "  </tbody>\n",
       "</table>\n",
       "</div>"
      ],
      "text/plain": [
       "           tweet_id  img_num    p1_conf    p2_conf    p3_conf\n",
       "count  3.100000e+01  31.0     31.000000  31.000000  31.000000\n",
       "mean   8.002106e+17  4.0      0.818488   0.058523   0.027473 \n",
       "std    5.388178e+16  0.0      0.189390   0.053816   0.031909 \n",
       "min    6.686232e+17  4.0      0.226716   0.000023   0.000003 \n",
       "25%    7.606596e+17  4.0      0.771316   0.022395   0.007357 \n",
       "50%    8.186145e+17  4.0      0.883991   0.035059   0.017943 \n",
       "75%    8.339563e+17  4.0      0.944413   0.084091   0.029551 \n",
       "max    8.851676e+17  4.0      0.999953   0.204177   0.125745 "
      ]
     },
     "execution_count": 40,
     "metadata": {},
     "output_type": "execute_result"
    }
   ],
   "source": [
    "image_p4 = image.query('img_num==4')\n",
    "image_p4.describe()"
   ]
  },
  {
   "cell_type": "markdown",
   "metadata": {},
   "source": [
    "If img_num is 4, p3 should be used instead (since it has lowest mean p3_conf value)"
   ]
  },
  {
   "cell_type": "code",
   "execution_count": 41,
   "metadata": {},
   "outputs": [
    {
     "data": {
      "text/plain": [
       "Afghan_hound                      5 \n",
       "African_hunting_dog               1 \n",
       "Airedale                          7 \n",
       "American_Staffordshire_terrier    21\n",
       "American_alligator                2 \n",
       "American_black_bear               3 \n",
       "Angora                            4 \n",
       "Appenzeller                       3 \n",
       "Arabian_camel                     4 \n",
       "Arctic_fox                        4 \n",
       "Australian_terrier                2 \n",
       "Bedlington_terrier                5 \n",
       "Bernese_mountain_dog              1 \n",
       "Blenheim_spaniel                  4 \n",
       "Border_collie                     12\n",
       "Border_terrier                    4 \n",
       "Boston_bull                       19\n",
       "Brabancon_griffon                 10\n",
       "Brittany_spaniel                  8 \n",
       "Cardigan                          73\n",
       "Chesapeake_Bay_retriever          41\n",
       "Chihuahua                         44\n",
       "Christmas_stocking                3 \n",
       "Dandie_Dinmont                    4 \n",
       "Doberman                          6 \n",
       "English_foxhound                  2 \n",
       "English_setter                    7 \n",
       "English_springer                  10\n",
       "EntleBucher                       1 \n",
       "Eskimo_dog                        27\n",
       "                                  ..\n",
       "tow_truck                         2 \n",
       "toy_poodle                        37\n",
       "toy_terrier                       20\n",
       "toyshop                           2 \n",
       "tray                              1 \n",
       "tree_frog                         1 \n",
       "trench_coat                       1 \n",
       "triceratops                       1 \n",
       "tub                               5 \n",
       "turnstile                         1 \n",
       "umbrella                          1 \n",
       "vizsla                            7 \n",
       "volcano                           1 \n",
       "waffle_iron                       1 \n",
       "wallaby                           1 \n",
       "wallet                            2 \n",
       "warthog                           2 \n",
       "washbasin                         1 \n",
       "water_bottle                      1 \n",
       "water_buffalo                     1 \n",
       "weasel                            4 \n",
       "web_site                          1 \n",
       "whippet                           15\n",
       "white_wolf                        1 \n",
       "wig                               2 \n",
       "window_screen                     4 \n",
       "window_shade                      1 \n",
       "wire-haired_fox_terrier           4 \n",
       "wombat                            1 \n",
       "wood_rabbit                       1 \n",
       "Name: p2, Length: 405, dtype: int64"
      ]
     },
     "execution_count": 41,
     "metadata": {},
     "output_type": "execute_result"
    }
   ],
   "source": [
    "image.p2.value_counts().sort_index()"
   ]
  },
  {
   "cell_type": "markdown",
   "metadata": {},
   "source": [
    "When checking entries for p1, p2, and p3 it seems that real dog breeds are start with upper case letters whereas non dog breeds are start with lower case letters. This might be helpful later."
   ]
  },
  {
   "cell_type": "markdown",
   "metadata": {},
   "source": [
    "### Favorite/Retweet Count"
   ]
  },
  {
   "cell_type": "code",
   "execution_count": 42,
   "metadata": {},
   "outputs": [
    {
     "data": {
      "text/html": [
       "<div>\n",
       "<style scoped>\n",
       "    .dataframe tbody tr th:only-of-type {\n",
       "        vertical-align: middle;\n",
       "    }\n",
       "\n",
       "    .dataframe tbody tr th {\n",
       "        vertical-align: top;\n",
       "    }\n",
       "\n",
       "    .dataframe thead th {\n",
       "        text-align: right;\n",
       "    }\n",
       "</style>\n",
       "<table border=\"1\" class=\"dataframe\">\n",
       "  <thead>\n",
       "    <tr style=\"text-align: right;\">\n",
       "      <th></th>\n",
       "      <th>tweet_id</th>\n",
       "      <th>favorite_count</th>\n",
       "      <th>retweet_count</th>\n",
       "    </tr>\n",
       "  </thead>\n",
       "  <tbody>\n",
       "    <tr>\n",
       "      <th>888</th>\n",
       "      <td>758041019896193024</td>\n",
       "      <td>2843</td>\n",
       "      <td>402</td>\n",
       "    </tr>\n",
       "    <tr>\n",
       "      <th>1190</th>\n",
       "      <td>715696743237730304</td>\n",
       "      <td>4044</td>\n",
       "      <td>1355</td>\n",
       "    </tr>\n",
       "    <tr>\n",
       "      <th>1776</th>\n",
       "      <td>677269281705472000</td>\n",
       "      <td>2061</td>\n",
       "      <td>742</td>\n",
       "    </tr>\n",
       "    <tr>\n",
       "      <th>1279</th>\n",
       "      <td>707741517457260545</td>\n",
       "      <td>2596</td>\n",
       "      <td>645</td>\n",
       "    </tr>\n",
       "    <tr>\n",
       "      <th>397</th>\n",
       "      <td>823269594223824897</td>\n",
       "      <td>0</td>\n",
       "      <td>10639</td>\n",
       "    </tr>\n",
       "  </tbody>\n",
       "</table>\n",
       "</div>"
      ],
      "text/plain": [
       "                tweet_id  favorite_count  retweet_count\n",
       "888   758041019896193024  2843            402          \n",
       "1190  715696743237730304  4044            1355         \n",
       "1776  677269281705472000  2061            742          \n",
       "1279  707741517457260545  2596            645          \n",
       "397   823269594223824897  0               10639        "
      ]
     },
     "execution_count": 42,
     "metadata": {},
     "output_type": "execute_result"
    }
   ],
   "source": [
    "# Get a basic idea of columns in table and their values\n",
    "favoretweet.sample(5)"
   ]
  },
  {
   "cell_type": "code",
   "execution_count": 43,
   "metadata": {},
   "outputs": [
    {
     "name": "stdout",
     "output_type": "stream",
     "text": [
      "<class 'pandas.core.frame.DataFrame'>\n",
      "RangeIndex: 2334 entries, 0 to 2333\n",
      "Data columns (total 3 columns):\n",
      "tweet_id          2334 non-null int64\n",
      "favorite_count    2334 non-null int64\n",
      "retweet_count     2334 non-null int64\n",
      "dtypes: int64(3)\n",
      "memory usage: 54.8 KB\n"
     ]
    }
   ],
   "source": [
    "# Get data types of columns and number of non-null entries\n",
    "favoretweet.info()"
   ]
  },
  {
   "cell_type": "markdown",
   "metadata": {},
   "source": [
    "- Column **tweet_id** has data type integer (string is more suited for an ID)\n",
    "- The favorite/retweet table has less entries than the Twitter archive table (some tweets might already have been deleted). Only a maximum of 2334 can be matched to 2356 tweets. No null values in this table."
   ]
  },
  {
   "cell_type": "code",
   "execution_count": 44,
   "metadata": {},
   "outputs": [
    {
     "data": {
      "text/plain": [
       "0"
      ]
     },
     "execution_count": 44,
     "metadata": {},
     "output_type": "execute_result"
    }
   ],
   "source": [
    "#Get number of duplicated rows\n",
    "sum(favoretweet.duplicated())"
   ]
  },
  {
   "cell_type": "code",
   "execution_count": 45,
   "metadata": {},
   "outputs": [
    {
     "data": {
      "text/html": [
       "<div>\n",
       "<style scoped>\n",
       "    .dataframe tbody tr th:only-of-type {\n",
       "        vertical-align: middle;\n",
       "    }\n",
       "\n",
       "    .dataframe tbody tr th {\n",
       "        vertical-align: top;\n",
       "    }\n",
       "\n",
       "    .dataframe thead th {\n",
       "        text-align: right;\n",
       "    }\n",
       "</style>\n",
       "<table border=\"1\" class=\"dataframe\">\n",
       "  <thead>\n",
       "    <tr style=\"text-align: right;\">\n",
       "      <th></th>\n",
       "      <th>tweet_id</th>\n",
       "      <th>favorite_count</th>\n",
       "      <th>retweet_count</th>\n",
       "    </tr>\n",
       "  </thead>\n",
       "  <tbody>\n",
       "    <tr>\n",
       "      <th>count</th>\n",
       "      <td>2.334000e+03</td>\n",
       "      <td>2334.000000</td>\n",
       "      <td>2334.000000</td>\n",
       "    </tr>\n",
       "    <tr>\n",
       "      <th>mean</th>\n",
       "      <td>7.420377e+17</td>\n",
       "      <td>7883.542845</td>\n",
       "      <td>2904.165381</td>\n",
       "    </tr>\n",
       "    <tr>\n",
       "      <th>std</th>\n",
       "      <td>6.815496e+16</td>\n",
       "      <td>12239.167992</td>\n",
       "      <td>4904.200484</td>\n",
       "    </tr>\n",
       "    <tr>\n",
       "      <th>min</th>\n",
       "      <td>6.660209e+17</td>\n",
       "      <td>0.000000</td>\n",
       "      <td>0.000000</td>\n",
       "    </tr>\n",
       "    <tr>\n",
       "      <th>25%</th>\n",
       "      <td>6.783361e+17</td>\n",
       "      <td>1366.500000</td>\n",
       "      <td>583.000000</td>\n",
       "    </tr>\n",
       "    <tr>\n",
       "      <th>50%</th>\n",
       "      <td>7.185770e+17</td>\n",
       "      <td>3439.500000</td>\n",
       "      <td>1355.500000</td>\n",
       "    </tr>\n",
       "    <tr>\n",
       "      <th>75%</th>\n",
       "      <td>7.986802e+17</td>\n",
       "      <td>9676.000000</td>\n",
       "      <td>3382.750000</td>\n",
       "    </tr>\n",
       "    <tr>\n",
       "      <th>max</th>\n",
       "      <td>8.918152e+17</td>\n",
       "      <td>163368.000000</td>\n",
       "      <td>83074.000000</td>\n",
       "    </tr>\n",
       "  </tbody>\n",
       "</table>\n",
       "</div>"
      ],
      "text/plain": [
       "           tweet_id  favorite_count  retweet_count\n",
       "count  2.334000e+03  2334.000000     2334.000000  \n",
       "mean   7.420377e+17  7883.542845     2904.165381  \n",
       "std    6.815496e+16  12239.167992    4904.200484  \n",
       "min    6.660209e+17  0.000000        0.000000     \n",
       "25%    6.783361e+17  1366.500000     583.000000   \n",
       "50%    7.185770e+17  3439.500000     1355.500000  \n",
       "75%    7.986802e+17  9676.000000     3382.750000  \n",
       "max    8.918152e+17  163368.000000   83074.000000 "
      ]
     },
     "execution_count": 45,
     "metadata": {},
     "output_type": "execute_result"
    }
   ],
   "source": [
    "favoretweet.describe()"
   ]
  },
  {
   "cell_type": "markdown",
   "metadata": {},
   "source": [
    "No suspicious values (e.g. negative values) in this table. All vounts for favorite and retweet seem to be reasonable."
   ]
  },
  {
   "cell_type": "markdown",
   "metadata": {},
   "source": [
    "### Quality Issues\n",
    "**Twitter Archive**\n",
    "- Column **tweet_id** is not of type String\n",
    "- Column **timestamp** is not of type DateTime object\n",
    "- Some values in column **rating_denominator** are not 10 (23 rows)\n",
    "- Ratings higher or equal to 26 are either dur to wrong formatting or are outlier ratings in column **rating_numerator** (9 rows)\n",
    "- Erronous entries in **name** column (stored in array archive_name_none)\n",
    "- Not all columns are relevant for later analysis"
   ]
  },
  {
   "cell_type": "markdown",
   "metadata": {},
   "source": [
    "**Tweet Image Prediction**\n",
    "- Column **tweet_id** is not of type String\n",
    "- Some dog breeds might be stored with a lower case first letter\n",
    "- Column names are not informative\n",
    "- Not all columns are relevant for later analysis"
   ]
  },
  {
   "cell_type": "markdown",
   "metadata": {},
   "source": [
    "**Tweet Retweet Count**\n",
    "- Column **tweet_id** is not of type String"
   ]
  },
  {
   "cell_type": "markdown",
   "metadata": {},
   "source": [
    "#### Tidiness Issues"
   ]
  },
  {
   "cell_type": "markdown",
   "metadata": {},
   "source": [
    "- Most confident prediction for dog (and breed) is stored in multiple columns (**Tweet Image Prediction** columns **p1, p2, p3, p4**); for img_num is 4, p3 should be used instead."
   ]
  },
  {
   "cell_type": "markdown",
   "metadata": {},
   "source": [
    "<a id='clean'></a>\n",
    "## Clean Data"
   ]
  },
  {
   "cell_type": "code",
   "execution_count": 46,
   "metadata": {},
   "outputs": [],
   "source": [
    "# Make copies of data frames\n",
    "archive_clean = archive.copy()\n",
    "image_clean = image.copy()\n",
    "favoretweet_clean = favoretweet.copy()"
   ]
  },
  {
   "cell_type": "markdown",
   "metadata": {},
   "source": [
    "### Twitter Archive\n",
    "\n",
    "#### Define\n",
    "- Convert column **tweet_id** to String\n",
    "- Convert column **timestamp** to type DateTime object\n",
    "\n",
    "#### Code"
   ]
  },
  {
   "cell_type": "code",
   "execution_count": 47,
   "metadata": {},
   "outputs": [],
   "source": [
    "archive_clean['tweet_id'] = archive_clean['tweet_id'].astype(str)\n",
    "archive_clean['timestamp'] = pd.to_datetime(archive_clean['timestamp'])"
   ]
  },
  {
   "cell_type": "markdown",
   "metadata": {},
   "source": [
    "#### Test"
   ]
  },
  {
   "cell_type": "code",
   "execution_count": 48,
   "metadata": {},
   "outputs": [
    {
     "name": "stdout",
     "output_type": "stream",
     "text": [
      "<class 'pandas.core.frame.DataFrame'>\n",
      "RangeIndex: 2356 entries, 0 to 2355\n",
      "Data columns (total 19 columns):\n",
      "tweet_id                      2356 non-null object\n",
      "in_reply_to_status_id         78 non-null float64\n",
      "in_reply_to_user_id           78 non-null float64\n",
      "timestamp                     2356 non-null datetime64[ns]\n",
      "source                        2356 non-null object\n",
      "text                          2356 non-null object\n",
      "retweeted_status_id           181 non-null float64\n",
      "retweeted_status_user_id      181 non-null float64\n",
      "retweeted_status_timestamp    181 non-null object\n",
      "expanded_urls                 2297 non-null object\n",
      "rating_numerator              2356 non-null int64\n",
      "rating_denominator            2356 non-null int64\n",
      "name                          2356 non-null object\n",
      "doggo                         2356 non-null object\n",
      "floofer                       2356 non-null object\n",
      "pupper                        2356 non-null object\n",
      "puppo                         2356 non-null object\n",
      "Name_FirstLetter              2356 non-null object\n",
      "Name_FirstLetter_Lower        2356 non-null bool\n",
      "dtypes: bool(1), datetime64[ns](1), float64(4), int64(2), object(11)\n",
      "memory usage: 333.7+ KB\n"
     ]
    }
   ],
   "source": [
    "archive_clean.info()"
   ]
  },
  {
   "cell_type": "markdown",
   "metadata": {},
   "source": [
    "Conversion to String and DateTime object successful."
   ]
  },
  {
   "cell_type": "markdown",
   "metadata": {},
   "source": [
    "#### Define\n",
    "- Drop rows where **rating_denominator** is not 10 (23 rows)\n",
    "\n",
    "#### Code"
   ]
  },
  {
   "cell_type": "code",
   "execution_count": 49,
   "metadata": {},
   "outputs": [],
   "source": [
    "archive_clean = archive_clean[archive_clean.rating_denominator==10]"
   ]
  },
  {
   "cell_type": "markdown",
   "metadata": {},
   "source": [
    "#### Test"
   ]
  },
  {
   "cell_type": "code",
   "execution_count": 50,
   "metadata": {},
   "outputs": [
    {
     "data": {
      "text/plain": [
       "2333"
      ]
     },
     "execution_count": 50,
     "metadata": {},
     "output_type": "execute_result"
    }
   ],
   "source": [
    "archive_clean.shape[0]"
   ]
  },
  {
   "cell_type": "code",
   "execution_count": 51,
   "metadata": {},
   "outputs": [
    {
     "name": "stdout",
     "output_type": "stream",
     "text": [
      "<class 'pandas.core.frame.DataFrame'>\n",
      "Int64Index: 2333 entries, 0 to 2355\n",
      "Data columns (total 19 columns):\n",
      "tweet_id                      2333 non-null object\n",
      "in_reply_to_status_id         73 non-null float64\n",
      "in_reply_to_user_id           73 non-null float64\n",
      "timestamp                     2333 non-null datetime64[ns]\n",
      "source                        2333 non-null object\n",
      "text                          2333 non-null object\n",
      "retweeted_status_id           180 non-null float64\n",
      "retweeted_status_user_id      180 non-null float64\n",
      "retweeted_status_timestamp    180 non-null object\n",
      "expanded_urls                 2278 non-null object\n",
      "rating_numerator              2333 non-null int64\n",
      "rating_denominator            2333 non-null int64\n",
      "name                          2333 non-null object\n",
      "doggo                         2333 non-null object\n",
      "floofer                       2333 non-null object\n",
      "pupper                        2333 non-null object\n",
      "puppo                         2333 non-null object\n",
      "Name_FirstLetter              2333 non-null object\n",
      "Name_FirstLetter_Lower        2333 non-null bool\n",
      "dtypes: bool(1), datetime64[ns](1), float64(4), int64(2), object(11)\n",
      "memory usage: 348.6+ KB\n"
     ]
    }
   ],
   "source": [
    "archive_clean.info()"
   ]
  },
  {
   "cell_type": "markdown",
   "metadata": {},
   "source": [
    "Rows were deleted successfully (size before dropping was 2356, thus, 23 rows were dropped)"
   ]
  },
  {
   "cell_type": "markdown",
   "metadata": {},
   "source": [
    "#### Define\n",
    "- Keep only those rows where **rating_numerator** is lower than 26. Higher ratings are considered as wrong formatting or outliers (9 rows)\n",
    "\n",
    "#### Code"
   ]
  },
  {
   "cell_type": "code",
   "execution_count": 52,
   "metadata": {},
   "outputs": [],
   "source": [
    "archive_clean = archive_clean.query('rating_numerator<26')"
   ]
  },
  {
   "cell_type": "markdown",
   "metadata": {},
   "source": [
    "#### Test"
   ]
  },
  {
   "cell_type": "code",
   "execution_count": 53,
   "metadata": {},
   "outputs": [
    {
     "data": {
      "text/plain": [
       "2324"
      ]
     },
     "execution_count": 53,
     "metadata": {},
     "output_type": "execute_result"
    }
   ],
   "source": [
    "archive_clean.shape[0]"
   ]
  },
  {
   "cell_type": "markdown",
   "metadata": {},
   "source": [
    "Rows were deleted successfully (size before dropping was 2333, thus, 9 rows were dropped)"
   ]
  },
  {
   "cell_type": "markdown",
   "metadata": {},
   "source": [
    "#### Define\n",
    "- Create new column **dog_stage** for columns **doggo, floofer, pupper, and puppo**\n",
    "note: melt function cannot be used since not all rows have defined dog stage and thus 'None' values cannot be removed afterwards (since those rows would then be removed as well)"
   ]
  },
  {
   "cell_type": "markdown",
   "metadata": {},
   "source": [
    "#### Define\n",
    "- Replcae erronous entries in **name** column with 'None' (stored in array archive_name_none)\n",
    "\n",
    "#### Code"
   ]
  },
  {
   "cell_type": "code",
   "execution_count": 54,
   "metadata": {},
   "outputs": [],
   "source": [
    "archive_clean.name.replace(archive_name_none, \"None\", inplace = True)"
   ]
  },
  {
   "cell_type": "markdown",
   "metadata": {},
   "source": [
    "#### Test"
   ]
  },
  {
   "cell_type": "code",
   "execution_count": 55,
   "metadata": {},
   "outputs": [
    {
     "name": "stdout",
     "output_type": "stream",
     "text": [
      "745 'None' in archive // 829 'None' in archive_clean\n"
     ]
    }
   ],
   "source": [
    "print(\"{} 'None' in archive // {} 'None' in archive_clean\".format(archive.name.value_counts().loc['None'], archive_clean.name.value_counts().loc['None']))"
   ]
  },
  {
   "cell_type": "code",
   "execution_count": 56,
   "metadata": {},
   "outputs": [
    {
     "data": {
      "text/plain": [
       "109"
      ]
     },
     "execution_count": 56,
     "metadata": {},
     "output_type": "execute_result"
    }
   ],
   "source": [
    "archive_name_lower.shape[0]"
   ]
  },
  {
   "cell_type": "markdown",
   "metadata": {},
   "source": [
    "Count of \"None\" values for name was increased by 109, which is the number of entries in archive_name_lower (before 745, now 854)"
   ]
  },
  {
   "cell_type": "markdown",
   "metadata": {},
   "source": [
    "### Tweet Image Prediction\n",
    "\n",
    "#### Define\n",
    "- Convert column **tweet_id** to String\n",
    "\n",
    "#### Code"
   ]
  },
  {
   "cell_type": "code",
   "execution_count": 57,
   "metadata": {},
   "outputs": [],
   "source": [
    "image_clean['tweet_id'] = image_clean['tweet_id'].astype(str)"
   ]
  },
  {
   "cell_type": "markdown",
   "metadata": {},
   "source": [
    "#### Test"
   ]
  },
  {
   "cell_type": "code",
   "execution_count": 58,
   "metadata": {},
   "outputs": [
    {
     "name": "stdout",
     "output_type": "stream",
     "text": [
      "<class 'pandas.core.frame.DataFrame'>\n",
      "RangeIndex: 2075 entries, 0 to 2074\n",
      "Data columns (total 12 columns):\n",
      "tweet_id    2075 non-null object\n",
      "jpg_url     2075 non-null object\n",
      "img_num     2075 non-null int64\n",
      "p1          2075 non-null object\n",
      "p1_conf     2075 non-null float64\n",
      "p1_dog      2075 non-null bool\n",
      "p2          2075 non-null object\n",
      "p2_conf     2075 non-null float64\n",
      "p2_dog      2075 non-null bool\n",
      "p3          2075 non-null object\n",
      "p3_conf     2075 non-null float64\n",
      "p3_dog      2075 non-null bool\n",
      "dtypes: bool(3), float64(3), int64(1), object(5)\n",
      "memory usage: 152.0+ KB\n"
     ]
    }
   ],
   "source": [
    "image_clean.info()"
   ]
  },
  {
   "cell_type": "markdown",
   "metadata": {},
   "source": [
    "#### Define\n",
    "- Rename existing columns **px_dog** to 'isdog', **px** to'dogbreed', and **px_conf** to 'p_value' to store most confident prediction for dog and dog breed\n",
    "- For img_num=1 use **p1**, for img_num=2 use **p2**, for img_num=3 use **p3**, and for img_num=4 use **p3**\n",
    "- Capitalize dog breeds, since sometimes valid dog breeds are stored with lower case\n",
    "\n",
    "#### Code"
   ]
  },
  {
   "cell_type": "code",
   "execution_count": 59,
   "metadata": {},
   "outputs": [],
   "source": [
    "# Use p1_dog and p1 for img_num=1\n",
    "image_clean_1 = image_clean\n",
    "image_clean_1 = image_clean_1[image_clean_1.img_num==1]\n",
    "image_clean_1 = image_clean_1.rename(columns = {'p1_dog':'isdog', 'p1':'dogbreed', 'p1_conf':'p_value'})\n",
    "\n",
    "# Use p2_dog and p2 for img_num=2\n",
    "image_clean_2 = image_clean\n",
    "image_clean_2 = image_clean_2[image_clean_2.img_num==2]\n",
    "image_clean_2 = image_clean_2.rename(columns = {'p2_dog':'isdog', 'p2':'dogbreed', 'p2_conf':'p_value'})\n",
    "\n",
    "# Use p3_dog and p3 for img_num=3\n",
    "image_clean_3 = image_clean\n",
    "image_clean_3 = image_clean_3[image_clean_3.img_num==3]\n",
    "image_clean_3 = image_clean_3.rename(columns = {'p3_dog':'isdog', 'p3':'dogbreed', 'p3_conf':'p_value'})\n",
    "\n",
    "# Use p3_dog and p3 for img_num=4\n",
    "image_clean_4 = image_clean\n",
    "image_clean_4 = image_clean_4[image_clean_4.img_num==4]\n",
    "image_clean_4 = image_clean_4.rename(columns = {'p3_dog':'isdog', 'p3':'dogbreed', 'p3_conf':'p_value'})"
   ]
  },
  {
   "cell_type": "code",
   "execution_count": 60,
   "metadata": {},
   "outputs": [],
   "source": [
    "# Keept only columns 'tweetid, 'isdog', 'dogbreed', and 'p_value'\n",
    "clean_1 = image_clean_1[['tweet_id','isdog','dogbreed','p_value']]\n",
    "clean_2 = image_clean_2[['tweet_id','isdog','dogbreed','p_value']]\n",
    "clean_3 = image_clean_3[['tweet_id','isdog','dogbreed','p_value']]\n",
    "clean_4 = image_clean_4[['tweet_id','isdog','dogbreed','p_value']]"
   ]
  },
  {
   "cell_type": "code",
   "execution_count": 61,
   "metadata": {},
   "outputs": [],
   "source": [
    "# Append data frames to one data frame\n",
    "clean_1_2 = clean_1.append(clean_2, ignore_index=True)\n",
    "clean_1_2_3 = clean_1_2.append(clean_3, ignore_index=True)\n",
    "image_clean = clean_1_2_3.append(clean_4, ignore_index=True)"
   ]
  },
  {
   "cell_type": "code",
   "execution_count": 62,
   "metadata": {},
   "outputs": [],
   "source": [
    "image_clean.dogbreed = image_clean.dogbreed.str.capitalize()"
   ]
  },
  {
   "cell_type": "markdown",
   "metadata": {},
   "source": [
    "#### Test"
   ]
  },
  {
   "cell_type": "code",
   "execution_count": 63,
   "metadata": {},
   "outputs": [
    {
     "data": {
      "text/plain": [
       "2075"
      ]
     },
     "execution_count": 63,
     "metadata": {},
     "output_type": "execute_result"
    }
   ],
   "source": [
    "image.shape[0]"
   ]
  },
  {
   "cell_type": "code",
   "execution_count": 64,
   "metadata": {
    "scrolled": true
   },
   "outputs": [
    {
     "name": "stdout",
     "output_type": "stream",
     "text": [
      "<class 'pandas.core.frame.DataFrame'>\n",
      "RangeIndex: 2075 entries, 0 to 2074\n",
      "Data columns (total 4 columns):\n",
      "tweet_id    2075 non-null object\n",
      "isdog       2075 non-null bool\n",
      "dogbreed    2075 non-null object\n",
      "p_value     2075 non-null float64\n",
      "dtypes: bool(1), float64(1), object(2)\n",
      "memory usage: 50.7+ KB\n"
     ]
    }
   ],
   "source": [
    "image_clean.info()"
   ]
  },
  {
   "cell_type": "code",
   "execution_count": 65,
   "metadata": {},
   "outputs": [
    {
     "data": {
      "text/plain": [
       "Golden_retriever             123\n",
       "Labrador_retriever           109\n",
       "Pembroke                     80 \n",
       "Chihuahua                    76 \n",
       "Pug                          53 \n",
       "Chow                         39 \n",
       "Samoyed                      39 \n",
       "Pomeranian                   38 \n",
       "Toy_poodle                   37 \n",
       "Cocker_spaniel               31 \n",
       "Malamute                     30 \n",
       "French_bulldog               27 \n",
       "Eskimo_dog                   26 \n",
       "Chesapeake_bay_retriever     23 \n",
       "Kuvasz                       22 \n",
       "Shetland_sheepdog            21 \n",
       "Cardigan                     21 \n",
       "Staffordshire_bullterrier    21 \n",
       "Siberian_husky               21 \n",
       "Seat_belt                    21 \n",
       "Beagle                       19 \n",
       "Italian_greyhound            19 \n",
       "Pekinese                     19 \n",
       "Miniature_pinscher           18 \n",
       "Web_site                     16 \n",
       "Rottweiler                   16 \n",
       "Kelpie                       16 \n",
       "Lakeland_terrier             16 \n",
       "German_shepherd              16 \n",
       "Teddy                        15 \n",
       "                             .. \n",
       "Bannister                    1  \n",
       "Bald_eagle                   1  \n",
       "Walking_stick                1  \n",
       "African_hunting_dog          1  \n",
       "Consomme                     1  \n",
       "Tailed_frog                  1  \n",
       "Timber_wolf                  1  \n",
       "Cliff                        1  \n",
       "Lacewing                     1  \n",
       "Minibus                      1  \n",
       "Desktop_computer             1  \n",
       "American_black_bear          1  \n",
       "Espresso                     1  \n",
       "Guenon                       1  \n",
       "Suit                         1  \n",
       "Bearskin                     1  \n",
       "Window_screen                1  \n",
       "Restaurant                   1  \n",
       "Stove                        1  \n",
       "Syringe                      1  \n",
       "Loafer                       1  \n",
       "Binoculars                   1  \n",
       "Panpipe                      1  \n",
       "Pitcher                      1  \n",
       "Traffic_light                1  \n",
       "Fountain                     1  \n",
       "Polecat                      1  \n",
       "English_foxhound             1  \n",
       "Radio_telescope              1  \n",
       "Robin                        1  \n",
       "Name: dogbreed, Length: 382, dtype: int64"
      ]
     },
     "execution_count": 65,
     "metadata": {},
     "output_type": "execute_result"
    }
   ],
   "source": [
    "image_clean.dogbreed.value_counts()"
   ]
  },
  {
   "cell_type": "markdown",
   "metadata": {},
   "source": [
    "The original data frame and the cleaned data frame have the same shape and the entries in column **dogbreed** are capitalized."
   ]
  },
  {
   "cell_type": "markdown",
   "metadata": {},
   "source": [
    "### Favorite/Retweet Count\n",
    "\n",
    "#### Define\n",
    "- Convert column **tweet_id** to String\n",
    "\n",
    "#### Code"
   ]
  },
  {
   "cell_type": "code",
   "execution_count": 66,
   "metadata": {},
   "outputs": [],
   "source": [
    "favoretweet_clean['tweet_id'] = favoretweet_clean['tweet_id'].astype(str)"
   ]
  },
  {
   "cell_type": "markdown",
   "metadata": {},
   "source": [
    "#### Test"
   ]
  },
  {
   "cell_type": "code",
   "execution_count": 67,
   "metadata": {},
   "outputs": [
    {
     "name": "stdout",
     "output_type": "stream",
     "text": [
      "<class 'pandas.core.frame.DataFrame'>\n",
      "RangeIndex: 2334 entries, 0 to 2333\n",
      "Data columns (total 3 columns):\n",
      "tweet_id          2334 non-null object\n",
      "favorite_count    2334 non-null int64\n",
      "retweet_count     2334 non-null int64\n",
      "dtypes: int64(2), object(1)\n",
      "memory usage: 54.8+ KB\n"
     ]
    }
   ],
   "source": [
    "favoretweet_clean.info()"
   ]
  },
  {
   "cell_type": "markdown",
   "metadata": {},
   "source": [
    "### Merge Dataframes\n",
    "\n",
    "#### Define\n",
    "- Merge all tables into one table (since three tables are merged, this is done in two steps); use 'inner-join' so each tweet_id has all information of interest\n",
    "\n",
    "#### Code"
   ]
  },
  {
   "cell_type": "code",
   "execution_count": 75,
   "metadata": {},
   "outputs": [],
   "source": [
    "tweet_merged = pd.merge(archive_clean, image_clean, on=['tweet_id'], how='inner') # step1: merge archive and image\n",
    "tweet_merged = pd.merge(tweet_merged, favoretweet_clean, on=['tweet_id'], how='inner') # step1: merge master and favorite/retweet"
   ]
  },
  {
   "cell_type": "markdown",
   "metadata": {},
   "source": [
    "#### Test"
   ]
  },
  {
   "cell_type": "code",
   "execution_count": 76,
   "metadata": {},
   "outputs": [
    {
     "name": "stdout",
     "output_type": "stream",
     "text": [
      "<class 'pandas.core.frame.DataFrame'>\n",
      "Int64Index: 2038 entries, 0 to 2037\n",
      "Data columns (total 24 columns):\n",
      "tweet_id                      2038 non-null object\n",
      "in_reply_to_status_id         22 non-null float64\n",
      "in_reply_to_user_id           22 non-null float64\n",
      "timestamp                     2038 non-null datetime64[ns]\n",
      "source                        2038 non-null object\n",
      "text                          2038 non-null object\n",
      "retweeted_status_id           75 non-null float64\n",
      "retweeted_status_user_id      75 non-null float64\n",
      "retweeted_status_timestamp    75 non-null object\n",
      "expanded_urls                 2038 non-null object\n",
      "rating_numerator              2038 non-null int64\n",
      "rating_denominator            2038 non-null int64\n",
      "name                          2038 non-null object\n",
      "doggo                         2038 non-null object\n",
      "floofer                       2038 non-null object\n",
      "pupper                        2038 non-null object\n",
      "puppo                         2038 non-null object\n",
      "Name_FirstLetter              2038 non-null object\n",
      "Name_FirstLetter_Lower        2038 non-null bool\n",
      "isdog                         2038 non-null bool\n",
      "dogbreed                      2038 non-null object\n",
      "p_value                       2038 non-null float64\n",
      "favorite_count                2038 non-null int64\n",
      "retweet_count                 2038 non-null int64\n",
      "dtypes: bool(2), datetime64[ns](1), float64(5), int64(4), object(12)\n",
      "memory usage: 370.2+ KB\n"
     ]
    }
   ],
   "source": [
    "tweet_merged.info()"
   ]
  },
  {
   "cell_type": "markdown",
   "metadata": {},
   "source": [
    "Tables have been merged; complete set of information available for 2038 tweets."
   ]
  },
  {
   "cell_type": "markdown",
   "metadata": {},
   "source": [
    "### Reduce Dataframe to columns of interest\n",
    "#### Define\n",
    "- Keep only those columns that could be of interest for the analysis\n",
    "- note: **rating_denominator** can be dropped, since its value is always 10\n",
    "#### Code"
   ]
  },
  {
   "cell_type": "code",
   "execution_count": 79,
   "metadata": {},
   "outputs": [],
   "source": [
    "tweet_master = tweet_merged[['tweet_id','timestamp','source','rating_numerator','name','isdog','dogbreed','p_value',\n",
    "                             'favorite_count','retweet_count']]\n",
    "# Store master as csv file\n",
    "tweet_master.to_csv('twitter_archive_master.csv', index=False)"
   ]
  },
  {
   "cell_type": "markdown",
   "metadata": {},
   "source": [
    "#### Test"
   ]
  },
  {
   "cell_type": "code",
   "execution_count": 80,
   "metadata": {},
   "outputs": [
    {
     "name": "stdout",
     "output_type": "stream",
     "text": [
      "<class 'pandas.core.frame.DataFrame'>\n",
      "Int64Index: 2038 entries, 0 to 2037\n",
      "Data columns (total 10 columns):\n",
      "tweet_id            2038 non-null object\n",
      "timestamp           2038 non-null datetime64[ns]\n",
      "source              2038 non-null object\n",
      "rating_numerator    2038 non-null int64\n",
      "name                2038 non-null object\n",
      "isdog               2038 non-null bool\n",
      "dogbreed            2038 non-null object\n",
      "p_value             2038 non-null float64\n",
      "favorite_count      2038 non-null int64\n",
      "retweet_count       2038 non-null int64\n",
      "dtypes: bool(1), datetime64[ns](1), float64(1), int64(3), object(4)\n",
      "memory usage: 161.2+ KB\n"
     ]
    }
   ],
   "source": [
    "tweet_master.info()"
   ]
  },
  {
   "cell_type": "markdown",
   "metadata": {},
   "source": [
    "Merging all three tables into one was successful."
   ]
  },
  {
   "cell_type": "markdown",
   "metadata": {},
   "source": [
    "<a id='analysis'></a>\n",
    "## Data Analysis"
   ]
  },
  {
   "cell_type": "markdown",
   "metadata": {},
   "source": [
    "At least three (3) insights and one (1) visualization must be produced."
   ]
  },
  {
   "cell_type": "code",
   "execution_count": 96,
   "metadata": {},
   "outputs": [
    {
     "data": {
      "text/plain": [
       "None       658\n",
       "Cooper     10 \n",
       "Penny      10 \n",
       "Lucy       10 \n",
       "Tucker     10 \n",
       "Charlie    10 \n",
       "Oliver     10 \n",
       "Winston    8  \n",
       "Sadie      8  \n",
       "Lola       8  \n",
       "Name: name, dtype: int64"
      ]
     },
     "execution_count": 96,
     "metadata": {},
     "output_type": "execute_result"
    }
   ],
   "source": [
    "tweet_master.name.value_counts().nlargest(10)"
   ]
  },
  {
   "cell_type": "markdown",
   "metadata": {},
   "source": [
    "Cooper, Penny, Lucy, Tucker, Charlie and Oliver are the most popular names for dogs (though 658 tweets have no name associated)"
   ]
  },
  {
   "cell_type": "code",
   "execution_count": 112,
   "metadata": {},
   "outputs": [
    {
     "data": {
      "text/plain": [
       "Golden_retriever      121\n",
       "Labrador_retriever    105\n",
       "Pembroke              79 \n",
       "Chihuahua             73 \n",
       "Pug                   53 \n",
       "Chow                  39 \n",
       "Toy_poodle            37 \n",
       "Pomeranian            37 \n",
       "Samoyed               37 \n",
       "Cocker_spaniel        31 \n",
       "Name: dogbreed, dtype: int64"
      ]
     },
     "execution_count": 112,
     "metadata": {},
     "output_type": "execute_result"
    }
   ],
   "source": [
    "breed_top10 = tweet_master.dogbreed.value_counts().nlargest(10)\n",
    "breed_top10"
   ]
  },
  {
   "cell_type": "markdown",
   "metadata": {},
   "source": [
    "Golden Retriever and Labrador Retriever are the dog breeds with the highest number of tweets."
   ]
  },
  {
   "cell_type": "code",
   "execution_count": 109,
   "metadata": {},
   "outputs": [
    {
     "data": {
      "text/html": [
       "<div>\n",
       "<style scoped>\n",
       "    .dataframe tbody tr th:only-of-type {\n",
       "        vertical-align: middle;\n",
       "    }\n",
       "\n",
       "    .dataframe tbody tr th {\n",
       "        vertical-align: top;\n",
       "    }\n",
       "\n",
       "    .dataframe thead th {\n",
       "        text-align: right;\n",
       "    }\n",
       "</style>\n",
       "<table border=\"1\" class=\"dataframe\">\n",
       "  <thead>\n",
       "    <tr style=\"text-align: right;\">\n",
       "      <th></th>\n",
       "      <th>dogbreed</th>\n",
       "      <th>favorite_count</th>\n",
       "    </tr>\n",
       "  </thead>\n",
       "  <tbody>\n",
       "    <tr>\n",
       "      <th>134</th>\n",
       "      <td>Golden_retriever</td>\n",
       "      <td>1258992</td>\n",
       "    </tr>\n",
       "    <tr>\n",
       "      <th>186</th>\n",
       "      <td>Labrador_retriever</td>\n",
       "      <td>1250614</td>\n",
       "    </tr>\n",
       "    <tr>\n",
       "      <th>248</th>\n",
       "      <td>Pembroke</td>\n",
       "      <td>882988</td>\n",
       "    </tr>\n",
       "    <tr>\n",
       "      <th>76</th>\n",
       "      <td>Chihuahua</td>\n",
       "      <td>513201</td>\n",
       "    </tr>\n",
       "    <tr>\n",
       "      <th>277</th>\n",
       "      <td>Samoyed</td>\n",
       "      <td>458705</td>\n",
       "    </tr>\n",
       "    <tr>\n",
       "      <th>118</th>\n",
       "      <td>Eskimo_dog</td>\n",
       "      <td>371886</td>\n",
       "    </tr>\n",
       "    <tr>\n",
       "      <th>83</th>\n",
       "      <td>Cocker_spaniel</td>\n",
       "      <td>334976</td>\n",
       "    </tr>\n",
       "    <tr>\n",
       "      <th>128</th>\n",
       "      <td>French_bulldog</td>\n",
       "      <td>327150</td>\n",
       "    </tr>\n",
       "    <tr>\n",
       "      <th>79</th>\n",
       "      <td>Chow</td>\n",
       "      <td>278878</td>\n",
       "    </tr>\n",
       "    <tr>\n",
       "      <th>262</th>\n",
       "      <td>Pug</td>\n",
       "      <td>273460</td>\n",
       "    </tr>\n",
       "  </tbody>\n",
       "</table>\n",
       "</div>"
      ],
      "text/plain": [
       "               dogbreed  favorite_count\n",
       "134  Golden_retriever    1258992       \n",
       "186  Labrador_retriever  1250614       \n",
       "248  Pembroke            882988        \n",
       "76   Chihuahua           513201        \n",
       "277  Samoyed             458705        \n",
       "118  Eskimo_dog          371886        \n",
       "83   Cocker_spaniel      334976        \n",
       "128  French_bulldog      327150        \n",
       "79   Chow                278878        \n",
       "262  Pug                 273460        "
      ]
     },
     "execution_count": 109,
     "metadata": {},
     "output_type": "execute_result"
    }
   ],
   "source": [
    "fav_breed = tweet_master.groupby(['dogbreed'])['favorite_count'].sum().reset_index()\n",
    "fav_breed = fav_breed.sort_values(by = ['favorite_count'], ascending=False)\n",
    "fav_breed.nlargest(10, 'favorite_count')"
   ]
  },
  {
   "cell_type": "code",
   "execution_count": 110,
   "metadata": {},
   "outputs": [
    {
     "data": {
      "text/html": [
       "<div>\n",
       "<style scoped>\n",
       "    .dataframe tbody tr th:only-of-type {\n",
       "        vertical-align: middle;\n",
       "    }\n",
       "\n",
       "    .dataframe tbody tr th {\n",
       "        vertical-align: top;\n",
       "    }\n",
       "\n",
       "    .dataframe thead th {\n",
       "        text-align: right;\n",
       "    }\n",
       "</style>\n",
       "<table border=\"1\" class=\"dataframe\">\n",
       "  <thead>\n",
       "    <tr style=\"text-align: right;\">\n",
       "      <th></th>\n",
       "      <th>dogbreed</th>\n",
       "      <th>retweet_count</th>\n",
       "    </tr>\n",
       "  </thead>\n",
       "  <tbody>\n",
       "    <tr>\n",
       "      <th>186</th>\n",
       "      <td>Labrador_retriever</td>\n",
       "      <td>452809</td>\n",
       "    </tr>\n",
       "    <tr>\n",
       "      <th>134</th>\n",
       "      <td>Golden_retriever</td>\n",
       "      <td>431792</td>\n",
       "    </tr>\n",
       "    <tr>\n",
       "      <th>248</th>\n",
       "      <td>Pembroke</td>\n",
       "      <td>238515</td>\n",
       "    </tr>\n",
       "    <tr>\n",
       "      <th>76</th>\n",
       "      <td>Chihuahua</td>\n",
       "      <td>175249</td>\n",
       "    </tr>\n",
       "    <tr>\n",
       "      <th>277</th>\n",
       "      <td>Samoyed</td>\n",
       "      <td>167191</td>\n",
       "    </tr>\n",
       "    <tr>\n",
       "      <th>118</th>\n",
       "      <td>Eskimo_dog</td>\n",
       "      <td>142168</td>\n",
       "    </tr>\n",
       "    <tr>\n",
       "      <th>83</th>\n",
       "      <td>Cocker_spaniel</td>\n",
       "      <td>121614</td>\n",
       "    </tr>\n",
       "    <tr>\n",
       "      <th>309</th>\n",
       "      <td>Standard_poodle</td>\n",
       "      <td>96393</td>\n",
       "    </tr>\n",
       "    <tr>\n",
       "      <th>262</th>\n",
       "      <td>Pug</td>\n",
       "      <td>95182</td>\n",
       "    </tr>\n",
       "    <tr>\n",
       "      <th>79</th>\n",
       "      <td>Chow</td>\n",
       "      <td>89997</td>\n",
       "    </tr>\n",
       "  </tbody>\n",
       "</table>\n",
       "</div>"
      ],
      "text/plain": [
       "               dogbreed  retweet_count\n",
       "186  Labrador_retriever  452809       \n",
       "134  Golden_retriever    431792       \n",
       "248  Pembroke            238515       \n",
       "76   Chihuahua           175249       \n",
       "277  Samoyed             167191       \n",
       "118  Eskimo_dog          142168       \n",
       "83   Cocker_spaniel      121614       \n",
       "309  Standard_poodle     96393        \n",
       "262  Pug                 95182        \n",
       "79   Chow                89997        "
      ]
     },
     "execution_count": 110,
     "metadata": {},
     "output_type": "execute_result"
    }
   ],
   "source": [
    "retweet_breed = tweet_master.groupby(['dogbreed'])['retweet_count'].sum().reset_index()\n",
    "retweet_breed = retweet_breed.sort_values(by = ['retweet_count'], ascending=False)\n",
    "retweet_breed.nlargest(10, 'retweet_count')"
   ]
  },
  {
   "cell_type": "code",
   "execution_count": null,
   "metadata": {},
   "outputs": [],
   "source": []
  },
  {
   "cell_type": "code",
   "execution_count": 90,
   "metadata": {},
   "outputs": [
    {
     "data": {
      "text/plain": [
       "<matplotlib.axes._subplots.AxesSubplot at 0x17394a20>"
      ]
     },
     "execution_count": 90,
     "metadata": {},
     "output_type": "execute_result"
    },
    {
     "data": {
      "image/png": "[encoded data removed]",
      "text/plain": [
       "<Figure size 432x288 with 1 Axes>"
      ]
     },
     "metadata": {
      "needs_background": "light"
     },
     "output_type": "display_data"
    }
   ],
   "source": [
    "#plt.scatter(data=tweet_master, x='rating_numerator', y='favorite_count')\n"
   ]
  },
  {
   "cell_type": "code",
   "execution_count": 95,
   "metadata": {},
   "outputs": [
    {
     "data": {
      "text/plain": [
       "Text(0,0.5,'# retweets')"
      ]
     },
     "execution_count": 95,
     "metadata": {},
     "output_type": "execute_result"
    },
    {
     "data": {
      "image/png": "[encoded data removed]",
      "text/plain": [
       "<Figure size 1080x432 with 2 Axes>"
      ]
     },
     "metadata": {
      "needs_background": "light"
     },
     "output_type": "display_data"
    }
   ],
   "source": [
    "plt.figure(figsize=[15,6])\n",
    "plt.subplot(1,2,1)\n",
    "sns.regplot(data=tweet_master, x='rating_numerator', y='favorite_count', x_jitter=0.1, fit_reg=False)\n",
    "plt.title('Are high rated dogs more likely to be favorited?')\n",
    "plt.xlabel('rating')\n",
    "plt.ylabel('# favorited')\n",
    "plt.subplot(1,2,2)\n",
    "sns.regplot(data=tweet_master, x='rating_numerator', y='retweet_count', x_jitter=0.1, fit_reg=False)\n",
    "plt.title('Are high rated dogs more likely to be retweeted?')\n",
    "plt.xlabel('rating')\n",
    "plt.ylabel('# retweets')"
   ]
  },
  {
   "cell_type": "markdown",
   "metadata": {},
   "source": []
  },
  {
   "cell_type": "markdown",
   "metadata": {},
   "source": []
  },
  {
   "cell_type": "markdown",
   "metadata": {},
   "source": [
    "<a id='conc'></a>\n",
    "## Conclusions"
   ]
  },
  {
   "cell_type": "markdown",
   "metadata": {},
   "source": []
  },
  {
   "cell_type": "markdown",
   "metadata": {},
   "source": []
  },
  {
   "cell_type": "markdown",
   "metadata": {},
   "source": []
  }
 ],
 "metadata": {
  "kernelspec": {
   "display_name": "Python 2",
   "language": "python",
   "name": "python2"
  },
  "language_info": {
   "codemirror_mode": {
    "name": "ipython",
    "version": 2
   },
   "file_extension": ".py",
   "mimetype": "text/x-python",
   "name": "python",
   "nbconvert_exporter": "python",
   "pygments_lexer": "ipython2",
   "version": "2.7.15"
  }
 },
 "nbformat": 4,
 "nbformat_minor": 2
}
