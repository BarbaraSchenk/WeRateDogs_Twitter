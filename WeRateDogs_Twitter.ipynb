{
 "cells": [
  {
   "cell_type": "markdown",
   "metadata": {},
   "source": [
    "# Project: Analysis of WeRateDogs Tweets\n",
    "\n",
    "## Table of Contents\n",
    "<ul>\n",
    "<li><a href=\"#intro\">Introduction</a></li>\n",
    "<li><a href=\"#packages\">Import of Packages</a></li>\n",
    "<li><a href=\"#gather\">Gather Data</a></li>\n",
    "<li><a href=\"#asses\">Asses Data</a></li>\n",
    "<li><a href=\"#clean\">Clean Data</a></li>\n",
    "<li><a href=\"#analysis\">Data Analysis</a></li>\n",
    "<li><a href=\"#conc\">Conclusions</a></li>\n",
    "</ul>"
   ]
  },
  {
   "cell_type": "markdown",
   "metadata": {},
   "source": [
    "<a id='intro'></a>\n",
    "## Introduction\n",
    "\n",
    "The dataset used is the tweet archive of Twitter user @dog_rates, also known as WeRateDogs. WeRateDogs is a Twitter account that rates people's dogs with a humorous comment about the dog. These ratings almost always have a denominator of 10 with a numerator of 10 or greater. WeRateDogs has over 4 million followers and has received international media coverage.\n",
    "\n",
    "The steps performed are data gathering, wrangling, and cleaning. Based on the cleaned dataset, some analysis are performed. The focus in this project is on gathering data from different sources and providing a cleaned dataset.\n",
    "\n",
    "Files from three different sources are gathered and later combined:\n",
    "- **Enhanced Twitter Archive (csv-file // local drive)**\n",
    "The WeRateDogs Twitter archive contains basic tweet data for all 5000+ of their tweets. Based on the tweet's text information on rating, dog name, and dog \"stage\" (i.e. doggo, floofer, pupper, and puppo) have been extracted. This \"enhanced\" file was provided as a csv file.\n",
    "\n",
    "- **Tweet Image Prediction (tsv-file // Request library)**\n",
    "For each image in the WeRateDogs Twitter archive the dog breed was classified using a neural network. The file contains the three most confident predictions for each tweet and is hosted on Udacity's servers. It was downloaded programmatically using the Requests library and a provided URL.\n",
    "\n",
    "- **Retweet Favorite Count (JSON // Twitter API)**\n",
    "The Twitter API was queried to get JSON data for each tweet in the WeRateDogs Twitter archive using Python's Tweepy library. Each tweet's entire set of JSON data was stored in a file called tweet_json.txt. Then this .txt file was read line by line into a pandas DataFrame with tweet ID, retweet count, and favorite count."
   ]
  },
  {
   "cell_type": "markdown",
   "metadata": {},
   "source": [
    "## Import of requiered Packages"
   ]
  },
  {
   "cell_type": "code",
   "execution_count": 371,
   "metadata": {},
   "outputs": [],
   "source": [
    "import pandas as pd\n",
    "import numpy as np\n",
    "import datetime\n",
    "import requests\n",
    "import os\n",
    "import tweepy\n",
    "import json\n",
    "\n",
    "import seaborn as sns\n",
    "import matplotlib.pyplot as plt\n",
    "%matplotlib inline\n"
   ]
  },
  {
   "cell_type": "markdown",
   "metadata": {},
   "source": [
    "<a id='gather'></a>\n",
    "## Gather Data"
   ]
  },
  {
   "cell_type": "markdown",
   "metadata": {},
   "source": [
    "### Tweet Archive"
   ]
  },
  {
   "cell_type": "code",
   "execution_count": 372,
   "metadata": {},
   "outputs": [
    {
     "data": {
      "text/html": [
       "<div>\n",
       "<style scoped>\n",
       "    .dataframe tbody tr th:only-of-type {\n",
       "        vertical-align: middle;\n",
       "    }\n",
       "\n",
       "    .dataframe tbody tr th {\n",
       "        vertical-align: top;\n",
       "    }\n",
       "\n",
       "    .dataframe thead th {\n",
       "        text-align: right;\n",
       "    }\n",
       "</style>\n",
       "<table border=\"1\" class=\"dataframe\">\n",
       "  <thead>\n",
       "    <tr style=\"text-align: right;\">\n",
       "      <th></th>\n",
       "      <th>tweet_id</th>\n",
       "      <th>in_reply_to_status_id</th>\n",
       "      <th>in_reply_to_user_id</th>\n",
       "      <th>timestamp</th>\n",
       "      <th>source</th>\n",
       "      <th>text</th>\n",
       "      <th>retweeted_status_id</th>\n",
       "      <th>retweeted_status_user_id</th>\n",
       "      <th>retweeted_status_timestamp</th>\n",
       "      <th>expanded_urls</th>\n",
       "      <th>rating_numerator</th>\n",
       "      <th>rating_denominator</th>\n",
       "      <th>name</th>\n",
       "      <th>doggo</th>\n",
       "      <th>floofer</th>\n",
       "      <th>pupper</th>\n",
       "      <th>puppo</th>\n",
       "    </tr>\n",
       "  </thead>\n",
       "  <tbody>\n",
       "    <tr>\n",
       "      <th>0</th>\n",
       "      <td>892420643555336193</td>\n",
       "      <td>NaN</td>\n",
       "      <td>NaN</td>\n",
       "      <td>2017-08-01 16:23:56 +0000</td>\n",
       "      <td>&lt;a href=\"http://twitter.com/download/iphone\" rel=\"nofollow\"&gt;Twitter for iPhone&lt;/a&gt;</td>\n",
       "      <td>This is Phineas. He's a mystical boy. Only ever appears in the hole of a donut. 13/10 https://t.co/MgUWQ76dJU</td>\n",
       "      <td>NaN</td>\n",
       "      <td>NaN</td>\n",
       "      <td>NaN</td>\n",
       "      <td>https://twitter.com/dog_rates/status/892420643555336193/photo/1</td>\n",
       "      <td>13</td>\n",
       "      <td>10</td>\n",
       "      <td>Phineas</td>\n",
       "      <td>None</td>\n",
       "      <td>None</td>\n",
       "      <td>None</td>\n",
       "      <td>None</td>\n",
       "    </tr>\n",
       "    <tr>\n",
       "      <th>1</th>\n",
       "      <td>892177421306343426</td>\n",
       "      <td>NaN</td>\n",
       "      <td>NaN</td>\n",
       "      <td>2017-08-01 00:17:27 +0000</td>\n",
       "      <td>&lt;a href=\"http://twitter.com/download/iphone\" rel=\"nofollow\"&gt;Twitter for iPhone&lt;/a&gt;</td>\n",
       "      <td>This is Tilly. She's just checking pup on you. Hopes you're doing ok. If not, she's available for pats, snugs, boops, the whole bit. 13/10 https://t.co/0Xxu71qeIV</td>\n",
       "      <td>NaN</td>\n",
       "      <td>NaN</td>\n",
       "      <td>NaN</td>\n",
       "      <td>https://twitter.com/dog_rates/status/892177421306343426/photo/1</td>\n",
       "      <td>13</td>\n",
       "      <td>10</td>\n",
       "      <td>Tilly</td>\n",
       "      <td>None</td>\n",
       "      <td>None</td>\n",
       "      <td>None</td>\n",
       "      <td>None</td>\n",
       "    </tr>\n",
       "    <tr>\n",
       "      <th>2</th>\n",
       "      <td>891815181378084864</td>\n",
       "      <td>NaN</td>\n",
       "      <td>NaN</td>\n",
       "      <td>2017-07-31 00:18:03 +0000</td>\n",
       "      <td>&lt;a href=\"http://twitter.com/download/iphone\" rel=\"nofollow\"&gt;Twitter for iPhone&lt;/a&gt;</td>\n",
       "      <td>This is Archie. He is a rare Norwegian Pouncing Corgo. Lives in the tall grass. You never know when one may strike. 12/10 https://t.co/wUnZnhtVJB</td>\n",
       "      <td>NaN</td>\n",
       "      <td>NaN</td>\n",
       "      <td>NaN</td>\n",
       "      <td>https://twitter.com/dog_rates/status/891815181378084864/photo/1</td>\n",
       "      <td>12</td>\n",
       "      <td>10</td>\n",
       "      <td>Archie</td>\n",
       "      <td>None</td>\n",
       "      <td>None</td>\n",
       "      <td>None</td>\n",
       "      <td>None</td>\n",
       "    </tr>\n",
       "    <tr>\n",
       "      <th>3</th>\n",
       "      <td>891689557279858688</td>\n",
       "      <td>NaN</td>\n",
       "      <td>NaN</td>\n",
       "      <td>2017-07-30 15:58:51 +0000</td>\n",
       "      <td>&lt;a href=\"http://twitter.com/download/iphone\" rel=\"nofollow\"&gt;Twitter for iPhone&lt;/a&gt;</td>\n",
       "      <td>This is Darla. She commenced a snooze mid meal. 13/10 happens to the best of us https://t.co/tD36da7qLQ</td>\n",
       "      <td>NaN</td>\n",
       "      <td>NaN</td>\n",
       "      <td>NaN</td>\n",
       "      <td>https://twitter.com/dog_rates/status/891689557279858688/photo/1</td>\n",
       "      <td>13</td>\n",
       "      <td>10</td>\n",
       "      <td>Darla</td>\n",
       "      <td>None</td>\n",
       "      <td>None</td>\n",
       "      <td>None</td>\n",
       "      <td>None</td>\n",
       "    </tr>\n",
       "    <tr>\n",
       "      <th>4</th>\n",
       "      <td>891327558926688256</td>\n",
       "      <td>NaN</td>\n",
       "      <td>NaN</td>\n",
       "      <td>2017-07-29 16:00:24 +0000</td>\n",
       "      <td>&lt;a href=\"http://twitter.com/download/iphone\" rel=\"nofollow\"&gt;Twitter for iPhone&lt;/a&gt;</td>\n",
       "      <td>This is Franklin. He would like you to stop calling him \"cute.\" He is a very fierce shark and should be respected as such. 12/10 #BarkWeek https://t.co/AtUZn91f7f</td>\n",
       "      <td>NaN</td>\n",
       "      <td>NaN</td>\n",
       "      <td>NaN</td>\n",
       "      <td>https://twitter.com/dog_rates/status/891327558926688256/photo/1,https://twitter.com/dog_rates/status/891327558926688256/photo/1</td>\n",
       "      <td>12</td>\n",
       "      <td>10</td>\n",
       "      <td>Franklin</td>\n",
       "      <td>None</td>\n",
       "      <td>None</td>\n",
       "      <td>None</td>\n",
       "      <td>None</td>\n",
       "    </tr>\n",
       "  </tbody>\n",
       "</table>\n",
       "</div>"
      ],
      "text/plain": [
       "             tweet_id  in_reply_to_status_id  in_reply_to_user_id  \\\n",
       "0  892420643555336193 NaN                    NaN                    \n",
       "1  892177421306343426 NaN                    NaN                    \n",
       "2  891815181378084864 NaN                    NaN                    \n",
       "3  891689557279858688 NaN                    NaN                    \n",
       "4  891327558926688256 NaN                    NaN                    \n",
       "\n",
       "                   timestamp  \\\n",
       "0  2017-08-01 16:23:56 +0000   \n",
       "1  2017-08-01 00:17:27 +0000   \n",
       "2  2017-07-31 00:18:03 +0000   \n",
       "3  2017-07-30 15:58:51 +0000   \n",
       "4  2017-07-29 16:00:24 +0000   \n",
       "\n",
       "                                                                               source  \\\n",
       "0  <a href=\"http://twitter.com/download/iphone\" rel=\"nofollow\">Twitter for iPhone</a>   \n",
       "1  <a href=\"http://twitter.com/download/iphone\" rel=\"nofollow\">Twitter for iPhone</a>   \n",
       "2  <a href=\"http://twitter.com/download/iphone\" rel=\"nofollow\">Twitter for iPhone</a>   \n",
       "3  <a href=\"http://twitter.com/download/iphone\" rel=\"nofollow\">Twitter for iPhone</a>   \n",
       "4  <a href=\"http://twitter.com/download/iphone\" rel=\"nofollow\">Twitter for iPhone</a>   \n",
       "\n",
       "                                                                                                                                                                 text  \\\n",
       "0  This is Phineas. He's a mystical boy. Only ever appears in the hole of a donut. 13/10 https://t.co/MgUWQ76dJU                                                        \n",
       "1  This is Tilly. She's just checking pup on you. Hopes you're doing ok. If not, she's available for pats, snugs, boops, the whole bit. 13/10 https://t.co/0Xxu71qeIV   \n",
       "2  This is Archie. He is a rare Norwegian Pouncing Corgo. Lives in the tall grass. You never know when one may strike. 12/10 https://t.co/wUnZnhtVJB                    \n",
       "3  This is Darla. She commenced a snooze mid meal. 13/10 happens to the best of us https://t.co/tD36da7qLQ                                                              \n",
       "4  This is Franklin. He would like you to stop calling him \"cute.\" He is a very fierce shark and should be respected as such. 12/10 #BarkWeek https://t.co/AtUZn91f7f   \n",
       "\n",
       "   retweeted_status_id  retweeted_status_user_id retweeted_status_timestamp  \\\n",
       "0 NaN                  NaN                        NaN                         \n",
       "1 NaN                  NaN                        NaN                         \n",
       "2 NaN                  NaN                        NaN                         \n",
       "3 NaN                  NaN                        NaN                         \n",
       "4 NaN                  NaN                        NaN                         \n",
       "\n",
       "                                                                                                                     expanded_urls  \\\n",
       "0  https://twitter.com/dog_rates/status/892420643555336193/photo/1                                                                   \n",
       "1  https://twitter.com/dog_rates/status/892177421306343426/photo/1                                                                   \n",
       "2  https://twitter.com/dog_rates/status/891815181378084864/photo/1                                                                   \n",
       "3  https://twitter.com/dog_rates/status/891689557279858688/photo/1                                                                   \n",
       "4  https://twitter.com/dog_rates/status/891327558926688256/photo/1,https://twitter.com/dog_rates/status/891327558926688256/photo/1   \n",
       "\n",
       "   rating_numerator  rating_denominator      name doggo floofer pupper puppo  \n",
       "0  13                10                  Phineas   None  None    None   None  \n",
       "1  13                10                  Tilly     None  None    None   None  \n",
       "2  12                10                  Archie    None  None    None   None  \n",
       "3  13                10                  Darla     None  None    None   None  \n",
       "4  12                10                  Franklin  None  None    None   None  "
      ]
     },
     "execution_count": 372,
     "metadata": {},
     "output_type": "execute_result"
    }
   ],
   "source": [
    "# Read Twitter Archive from provided csv file\n",
    "archive = pd.read_csv('./Twitter_Files/twitter-archive-enhanced.csv')\n",
    "archive.head()"
   ]
  },
  {
   "cell_type": "code",
   "execution_count": 373,
   "metadata": {},
   "outputs": [
    {
     "name": "stdout",
     "output_type": "stream",
     "text": [
      "<class 'pandas.core.frame.DataFrame'>\n",
      "RangeIndex: 2356 entries, 0 to 2355\n",
      "Data columns (total 17 columns):\n",
      "tweet_id                      2356 non-null int64\n",
      "in_reply_to_status_id         78 non-null float64\n",
      "in_reply_to_user_id           78 non-null float64\n",
      "timestamp                     2356 non-null object\n",
      "source                        2356 non-null object\n",
      "text                          2356 non-null object\n",
      "retweeted_status_id           181 non-null float64\n",
      "retweeted_status_user_id      181 non-null float64\n",
      "retweeted_status_timestamp    181 non-null object\n",
      "expanded_urls                 2297 non-null object\n",
      "rating_numerator              2356 non-null int64\n",
      "rating_denominator            2356 non-null int64\n",
      "name                          2356 non-null object\n",
      "doggo                         2356 non-null object\n",
      "floofer                       2356 non-null object\n",
      "pupper                        2356 non-null object\n",
      "puppo                         2356 non-null object\n",
      "dtypes: float64(4), int64(3), object(10)\n",
      "memory usage: 313.0+ KB\n"
     ]
    }
   ],
   "source": [
    "archive.info()"
   ]
  },
  {
   "cell_type": "markdown",
   "metadata": {},
   "source": [
    "### Tweet Image Prediction"
   ]
  },
  {
   "cell_type": "code",
   "execution_count": 374,
   "metadata": {},
   "outputs": [
    {
     "data": {
      "text/html": [
       "<div>\n",
       "<style scoped>\n",
       "    .dataframe tbody tr th:only-of-type {\n",
       "        vertical-align: middle;\n",
       "    }\n",
       "\n",
       "    .dataframe tbody tr th {\n",
       "        vertical-align: top;\n",
       "    }\n",
       "\n",
       "    .dataframe thead th {\n",
       "        text-align: right;\n",
       "    }\n",
       "</style>\n",
       "<table border=\"1\" class=\"dataframe\">\n",
       "  <thead>\n",
       "    <tr style=\"text-align: right;\">\n",
       "      <th></th>\n",
       "      <th>tweet_id</th>\n",
       "      <th>jpg_url</th>\n",
       "      <th>img_num</th>\n",
       "      <th>p1</th>\n",
       "      <th>p1_conf</th>\n",
       "      <th>p1_dog</th>\n",
       "      <th>p2</th>\n",
       "      <th>p2_conf</th>\n",
       "      <th>p2_dog</th>\n",
       "      <th>p3</th>\n",
       "      <th>p3_conf</th>\n",
       "      <th>p3_dog</th>\n",
       "    </tr>\n",
       "  </thead>\n",
       "  <tbody>\n",
       "    <tr>\n",
       "      <th>0</th>\n",
       "      <td>666020888022790149</td>\n",
       "      <td>https://pbs.twimg.com/media/CT4udn0WwAA0aMy.jpg</td>\n",
       "      <td>1</td>\n",
       "      <td>Welsh_springer_spaniel</td>\n",
       "      <td>0.465074</td>\n",
       "      <td>True</td>\n",
       "      <td>collie</td>\n",
       "      <td>0.156665</td>\n",
       "      <td>True</td>\n",
       "      <td>Shetland_sheepdog</td>\n",
       "      <td>0.061428</td>\n",
       "      <td>True</td>\n",
       "    </tr>\n",
       "    <tr>\n",
       "      <th>1</th>\n",
       "      <td>666029285002620928</td>\n",
       "      <td>https://pbs.twimg.com/media/CT42GRgUYAA5iDo.jpg</td>\n",
       "      <td>1</td>\n",
       "      <td>redbone</td>\n",
       "      <td>0.506826</td>\n",
       "      <td>True</td>\n",
       "      <td>miniature_pinscher</td>\n",
       "      <td>0.074192</td>\n",
       "      <td>True</td>\n",
       "      <td>Rhodesian_ridgeback</td>\n",
       "      <td>0.072010</td>\n",
       "      <td>True</td>\n",
       "    </tr>\n",
       "    <tr>\n",
       "      <th>2</th>\n",
       "      <td>666033412701032449</td>\n",
       "      <td>https://pbs.twimg.com/media/CT4521TWwAEvMyu.jpg</td>\n",
       "      <td>1</td>\n",
       "      <td>German_shepherd</td>\n",
       "      <td>0.596461</td>\n",
       "      <td>True</td>\n",
       "      <td>malinois</td>\n",
       "      <td>0.138584</td>\n",
       "      <td>True</td>\n",
       "      <td>bloodhound</td>\n",
       "      <td>0.116197</td>\n",
       "      <td>True</td>\n",
       "    </tr>\n",
       "    <tr>\n",
       "      <th>3</th>\n",
       "      <td>666044226329800704</td>\n",
       "      <td>https://pbs.twimg.com/media/CT5Dr8HUEAA-lEu.jpg</td>\n",
       "      <td>1</td>\n",
       "      <td>Rhodesian_ridgeback</td>\n",
       "      <td>0.408143</td>\n",
       "      <td>True</td>\n",
       "      <td>redbone</td>\n",
       "      <td>0.360687</td>\n",
       "      <td>True</td>\n",
       "      <td>miniature_pinscher</td>\n",
       "      <td>0.222752</td>\n",
       "      <td>True</td>\n",
       "    </tr>\n",
       "    <tr>\n",
       "      <th>4</th>\n",
       "      <td>666049248165822465</td>\n",
       "      <td>https://pbs.twimg.com/media/CT5IQmsXIAAKY4A.jpg</td>\n",
       "      <td>1</td>\n",
       "      <td>miniature_pinscher</td>\n",
       "      <td>0.560311</td>\n",
       "      <td>True</td>\n",
       "      <td>Rottweiler</td>\n",
       "      <td>0.243682</td>\n",
       "      <td>True</td>\n",
       "      <td>Doberman</td>\n",
       "      <td>0.154629</td>\n",
       "      <td>True</td>\n",
       "    </tr>\n",
       "  </tbody>\n",
       "</table>\n",
       "</div>"
      ],
      "text/plain": [
       "             tweet_id                                          jpg_url  \\\n",
       "0  666020888022790149  https://pbs.twimg.com/media/CT4udn0WwAA0aMy.jpg   \n",
       "1  666029285002620928  https://pbs.twimg.com/media/CT42GRgUYAA5iDo.jpg   \n",
       "2  666033412701032449  https://pbs.twimg.com/media/CT4521TWwAEvMyu.jpg   \n",
       "3  666044226329800704  https://pbs.twimg.com/media/CT5Dr8HUEAA-lEu.jpg   \n",
       "4  666049248165822465  https://pbs.twimg.com/media/CT5IQmsXIAAKY4A.jpg   \n",
       "\n",
       "   img_num                      p1   p1_conf  p1_dog                  p2  \\\n",
       "0  1        Welsh_springer_spaniel  0.465074  True    collie               \n",
       "1  1        redbone                 0.506826  True    miniature_pinscher   \n",
       "2  1        German_shepherd         0.596461  True    malinois             \n",
       "3  1        Rhodesian_ridgeback     0.408143  True    redbone              \n",
       "4  1        miniature_pinscher      0.560311  True    Rottweiler           \n",
       "\n",
       "    p2_conf  p2_dog                   p3   p3_conf  p3_dog  \n",
       "0  0.156665  True    Shetland_sheepdog    0.061428  True    \n",
       "1  0.074192  True    Rhodesian_ridgeback  0.072010  True    \n",
       "2  0.138584  True    bloodhound           0.116197  True    \n",
       "3  0.360687  True    miniature_pinscher   0.222752  True    \n",
       "4  0.243682  True    Doberman             0.154629  True    "
      ]
     },
     "execution_count": 374,
     "metadata": {},
     "output_type": "execute_result"
    }
   ],
   "source": [
    "# Download Tweet Image Predictions file from udacity server\n",
    "url = 'https://d17h27t6h515a5.cloudfront.net/topher/2017/August/599fd2ad_image-predictions/image-predictions.tsv'\n",
    "response = requests.get(url)\n",
    "\n",
    "# Save file on local drive\n",
    "with open (os.path.join('Twitter_Files', url.split('/')[-1]), mode='wb') as file:\n",
    "    file.write(response.content)\n",
    "\n",
    "# Read file into data frame\n",
    "image = pd.read_csv('./Twitter_Files/image-predictions.tsv', sep='\\t') # set \\t as seperator, since it is a .tsv file\n",
    "image.head()"
   ]
  },
  {
   "cell_type": "code",
   "execution_count": 375,
   "metadata": {},
   "outputs": [
    {
     "name": "stdout",
     "output_type": "stream",
     "text": [
      "<class 'pandas.core.frame.DataFrame'>\n",
      "RangeIndex: 2075 entries, 0 to 2074\n",
      "Data columns (total 12 columns):\n",
      "tweet_id    2075 non-null int64\n",
      "jpg_url     2075 non-null object\n",
      "img_num     2075 non-null int64\n",
      "p1          2075 non-null object\n",
      "p1_conf     2075 non-null float64\n",
      "p1_dog      2075 non-null bool\n",
      "p2          2075 non-null object\n",
      "p2_conf     2075 non-null float64\n",
      "p2_dog      2075 non-null bool\n",
      "p3          2075 non-null object\n",
      "p3_conf     2075 non-null float64\n",
      "p3_dog      2075 non-null bool\n",
      "dtypes: bool(3), float64(3), int64(2), object(4)\n",
      "memory usage: 152.0+ KB\n"
     ]
    }
   ],
   "source": [
    "image.info()"
   ]
  },
  {
   "cell_type": "markdown",
   "metadata": {},
   "source": [
    "### Retweet Favorite Count"
   ]
  },
  {
   "cell_type": "code",
   "execution_count": 376,
   "metadata": {},
   "outputs": [
    {
     "data": {
      "text/plain": [
       "\"\\nSince tweet information is already stored in tweet_json.txt file, do not request data from api again\\n\\n# Store Twitter authentication details\\n# https://developer.twitter.com/en/account/get-started --> Apps --> BS_Udacity_Dogs\\nmy_api_key = 'xxxxxxxxxxxxxx'\\nmy_api_secret_key = 'xxxxxxxxxxxxxx'\\nmy_access_token = 'xxxxxxxxxxxxxx'\\nmy_access_token_secret = 'xxxxxxxxxxxxxx'\\n\\n# Twitter API connection\\nauth = tweepy.OAuthHandler(my_api_key, my_api_secret_key)\\nauth.set_access_token(my_access_token, my_access_token_secret)\\napi = tweepy.API(auth, wait_on_rate_limit = True)\\n\\n# Get information from Twitter API for each tweet_id in Twitter Archive file\\ntweet_ids = archive['tweet_id']\\nwith open('./Twitter_Files/tweet_json.txt', mode = 'w') as tweet_json:\\n    for tweet_id in tweet_ids:\\n        try:\\n            status = api.get_status(tweet_id) #, tweet_mode='extended'\\n            json_str = json.dumps(status._json) # convert to JSON\\n            tweet_json.write(json_str + '\\n') # write information to tweet_json.txt file\\n        except:\\n            # Tweet does not exist anymore \\n             continue\\n\\n\""
      ]
     },
     "execution_count": 376,
     "metadata": {},
     "output_type": "execute_result"
    }
   ],
   "source": [
    "'''\n",
    "Since tweet information is already stored in tweet_json.txt file, do not request data from api again\n",
    "\n",
    "# Store Twitter authentication details\n",
    "# https://developer.twitter.com/en/account/get-started --> Apps --> BS_Udacity_Dogs\n",
    "my_api_key = 'xxxxxxxxxxxxxx'\n",
    "my_api_secret_key = 'xxxxxxxxxxxxxx'\n",
    "my_access_token = 'xxxxxxxxxxxxxx'\n",
    "my_access_token_secret = 'xxxxxxxxxxxxxx'\n",
    "\n",
    "# Twitter API connection\n",
    "auth = tweepy.OAuthHandler(my_api_key, my_api_secret_key)\n",
    "auth.set_access_token(my_access_token, my_access_token_secret)\n",
    "api = tweepy.API(auth, wait_on_rate_limit = True)\n",
    "\n",
    "# Get information from Twitter API for each tweet_id in Twitter Archive file\n",
    "tweet_ids = archive['tweet_id']\n",
    "with open('./Twitter_Files/tweet_json.txt', mode = 'w') as tweet_json:\n",
    "    for tweet_id in tweet_ids:\n",
    "        try:\n",
    "            status = api.get_status(tweet_id) #, tweet_mode='extended'\n",
    "            json_str = json.dumps(status._json) # convert to JSON\n",
    "            tweet_json.write(json_str + '\\n') # write information to tweet_json.txt file\n",
    "        except:\n",
    "            # Tweet does not exist anymore \n",
    "             continue\n",
    "\n",
    "'''"
   ]
  },
  {
   "cell_type": "code",
   "execution_count": 377,
   "metadata": {},
   "outputs": [
    {
     "name": "stdout",
     "output_type": "stream",
     "text": [
      "<class 'pandas.core.frame.DataFrame'>\n",
      "RangeIndex: 2334 entries, 0 to 2333\n",
      "Data columns (total 3 columns):\n",
      "tweet_id          2334 non-null int64\n",
      "favorite_count    2334 non-null int64\n",
      "retweet_count     2334 non-null int64\n",
      "dtypes: int64(3)\n",
      "memory usage: 54.8 KB\n"
     ]
    }
   ],
   "source": [
    "# Read data from txt into a list (each line is one entry in list)\n",
    "tweets_list = []\n",
    "tweet_json = open('./Twitter_Files/tweet_json.txt', 'r')\n",
    "\n",
    "for line in tweet_json:\n",
    "    try:\n",
    "        tweet = json.loads(line)\n",
    "        tweets_list.append(tweet)\n",
    "    except:\n",
    "         continue\n",
    "tweet_json.close()\n",
    "\n",
    "# Extract 'retweet_count' and 'favorite_count' from list and store in dataframe (together with tweet_id)\n",
    "favoretweet = pd.DataFrame() #create dataframe\n",
    "favoretweet['tweet_id'] = list(map(lambda tweet: tweet['id'], tweets_list))\n",
    "favoretweet['favorite_count'] = list(map(lambda tweet: tweet['favorite_count'], tweets_list))\n",
    "favoretweet['retweet_count'] = list(map(lambda tweet: tweet['retweet_count'], tweets_list))\n",
    "\n",
    "favoretweet.info()"
   ]
  },
  {
   "cell_type": "markdown",
   "metadata": {},
   "source": [
    "<a id='assess'></a>\n",
    "## Assess Data"
   ]
  },
  {
   "cell_type": "markdown",
   "metadata": {},
   "source": [
    "### Tweet Archive"
   ]
  },
  {
   "cell_type": "code",
   "execution_count": 378,
   "metadata": {},
   "outputs": [
    {
     "data": {
      "text/html": [
       "<div>\n",
       "<style scoped>\n",
       "    .dataframe tbody tr th:only-of-type {\n",
       "        vertical-align: middle;\n",
       "    }\n",
       "\n",
       "    .dataframe tbody tr th {\n",
       "        vertical-align: top;\n",
       "    }\n",
       "\n",
       "    .dataframe thead th {\n",
       "        text-align: right;\n",
       "    }\n",
       "</style>\n",
       "<table border=\"1\" class=\"dataframe\">\n",
       "  <thead>\n",
       "    <tr style=\"text-align: right;\">\n",
       "      <th></th>\n",
       "      <th>tweet_id</th>\n",
       "      <th>in_reply_to_status_id</th>\n",
       "      <th>in_reply_to_user_id</th>\n",
       "      <th>timestamp</th>\n",
       "      <th>source</th>\n",
       "      <th>text</th>\n",
       "      <th>retweeted_status_id</th>\n",
       "      <th>retweeted_status_user_id</th>\n",
       "      <th>retweeted_status_timestamp</th>\n",
       "      <th>expanded_urls</th>\n",
       "      <th>rating_numerator</th>\n",
       "      <th>rating_denominator</th>\n",
       "      <th>name</th>\n",
       "      <th>doggo</th>\n",
       "      <th>floofer</th>\n",
       "      <th>pupper</th>\n",
       "      <th>puppo</th>\n",
       "    </tr>\n",
       "  </thead>\n",
       "  <tbody>\n",
       "    <tr>\n",
       "      <th>1091</th>\n",
       "      <td>737445876994609152</td>\n",
       "      <td>NaN</td>\n",
       "      <td>NaN</td>\n",
       "      <td>2016-05-31 00:49:32 +0000</td>\n",
       "      <td>&lt;a href=\"http://twitter.com/download/iphone\" rel=\"nofollow\"&gt;Twitter for iPhone&lt;/a&gt;</td>\n",
       "      <td>Just wanted to share this super rare Rainbow Floofer in case you guys haven't seen it yet. 13/10 colorful af https://t.co/CaG9MzD3WT</td>\n",
       "      <td>NaN</td>\n",
       "      <td>NaN</td>\n",
       "      <td>NaN</td>\n",
       "      <td>https://twitter.com/dog_rates/status/737445876994609152/photo/1</td>\n",
       "      <td>13</td>\n",
       "      <td>10</td>\n",
       "      <td>None</td>\n",
       "      <td>None</td>\n",
       "      <td>floofer</td>\n",
       "      <td>None</td>\n",
       "      <td>None</td>\n",
       "    </tr>\n",
       "    <tr>\n",
       "      <th>2054</th>\n",
       "      <td>671390180817915904</td>\n",
       "      <td>NaN</td>\n",
       "      <td>NaN</td>\n",
       "      <td>2015-11-30 18:07:47 +0000</td>\n",
       "      <td>&lt;a href=\"http://twitter.com/download/iphone\" rel=\"nofollow\"&gt;Twitter for iPhone&lt;/a&gt;</td>\n",
       "      <td>Striped dog here. Having fun playing on back. Sturdy paws. Looks like an organized Dalmatian. 7/10 would still pet https://t.co/U1mSS3Ykez</td>\n",
       "      <td>NaN</td>\n",
       "      <td>NaN</td>\n",
       "      <td>NaN</td>\n",
       "      <td>https://twitter.com/dog_rates/status/671390180817915904/photo/1</td>\n",
       "      <td>7</td>\n",
       "      <td>10</td>\n",
       "      <td>None</td>\n",
       "      <td>None</td>\n",
       "      <td>None</td>\n",
       "      <td>None</td>\n",
       "      <td>None</td>\n",
       "    </tr>\n",
       "    <tr>\n",
       "      <th>1356</th>\n",
       "      <td>703425003149250560</td>\n",
       "      <td>7.030419e+17</td>\n",
       "      <td>4.196984e+09</td>\n",
       "      <td>2016-02-27 03:42:44 +0000</td>\n",
       "      <td>&lt;a href=\"http://twitter.com/download/iphone\" rel=\"nofollow\"&gt;Twitter for iPhone&lt;/a&gt;</td>\n",
       "      <td>Really guys? Again? I know this is a rare Albanian Bingo Seal, but we only rate dogs. Only send in dogs... 9/10 https://t.co/6JYLpUmBrC</td>\n",
       "      <td>NaN</td>\n",
       "      <td>NaN</td>\n",
       "      <td>NaN</td>\n",
       "      <td>https://twitter.com/dog_rates/status/703425003149250560/photo/1</td>\n",
       "      <td>9</td>\n",
       "      <td>10</td>\n",
       "      <td>None</td>\n",
       "      <td>None</td>\n",
       "      <td>None</td>\n",
       "      <td>None</td>\n",
       "      <td>None</td>\n",
       "    </tr>\n",
       "    <tr>\n",
       "      <th>719</th>\n",
       "      <td>783391753726550016</td>\n",
       "      <td>NaN</td>\n",
       "      <td>NaN</td>\n",
       "      <td>2016-10-04 19:42:03 +0000</td>\n",
       "      <td>&lt;a href=\"http://twitter.com/download/iphone\" rel=\"nofollow\"&gt;Twitter for iPhone&lt;/a&gt;</td>\n",
       "      <td>Meet Godi. He's an avid beachgoer and part time rainbow summoner. Eyeliner flawless af. 13/10 would snug well https://t.co/BO936YdJdi</td>\n",
       "      <td>NaN</td>\n",
       "      <td>NaN</td>\n",
       "      <td>NaN</td>\n",
       "      <td>https://twitter.com/dog_rates/status/783391753726550016/photo/1,https://twitter.com/dog_rates/status/783391753726550016/photo/1,https://twitter.com/dog_rates/status/783391753726550016/photo/1,https://twitter.com/dog_rates/status/783391753726550016/photo/1</td>\n",
       "      <td>13</td>\n",
       "      <td>10</td>\n",
       "      <td>Godi</td>\n",
       "      <td>None</td>\n",
       "      <td>None</td>\n",
       "      <td>None</td>\n",
       "      <td>None</td>\n",
       "    </tr>\n",
       "    <tr>\n",
       "      <th>624</th>\n",
       "      <td>795464331001561088</td>\n",
       "      <td>NaN</td>\n",
       "      <td>NaN</td>\n",
       "      <td>2016-11-07 03:14:10 +0000</td>\n",
       "      <td>&lt;a href=\"http://twitter.com/download/iphone\" rel=\"nofollow\"&gt;Twitter for iPhone&lt;/a&gt;</td>\n",
       "      <td>Elder doggo does a splash. Both 13/10 incredible stuff https://t.co/gBUDjdEcqz</td>\n",
       "      <td>NaN</td>\n",
       "      <td>NaN</td>\n",
       "      <td>NaN</td>\n",
       "      <td>https://twitter.com/dog_rates/status/795464331001561088/video/1</td>\n",
       "      <td>13</td>\n",
       "      <td>10</td>\n",
       "      <td>None</td>\n",
       "      <td>doggo</td>\n",
       "      <td>None</td>\n",
       "      <td>None</td>\n",
       "      <td>None</td>\n",
       "    </tr>\n",
       "  </tbody>\n",
       "</table>\n",
       "</div>"
      ],
      "text/plain": [
       "                tweet_id  in_reply_to_status_id  in_reply_to_user_id  \\\n",
       "1091  737445876994609152 NaN                    NaN                    \n",
       "2054  671390180817915904 NaN                    NaN                    \n",
       "1356  703425003149250560  7.030419e+17           4.196984e+09          \n",
       "719   783391753726550016 NaN                    NaN                    \n",
       "624   795464331001561088 NaN                    NaN                    \n",
       "\n",
       "                      timestamp  \\\n",
       "1091  2016-05-31 00:49:32 +0000   \n",
       "2054  2015-11-30 18:07:47 +0000   \n",
       "1356  2016-02-27 03:42:44 +0000   \n",
       "719   2016-10-04 19:42:03 +0000   \n",
       "624   2016-11-07 03:14:10 +0000   \n",
       "\n",
       "                                                                                  source  \\\n",
       "1091  <a href=\"http://twitter.com/download/iphone\" rel=\"nofollow\">Twitter for iPhone</a>   \n",
       "2054  <a href=\"http://twitter.com/download/iphone\" rel=\"nofollow\">Twitter for iPhone</a>   \n",
       "1356  <a href=\"http://twitter.com/download/iphone\" rel=\"nofollow\">Twitter for iPhone</a>   \n",
       "719   <a href=\"http://twitter.com/download/iphone\" rel=\"nofollow\">Twitter for iPhone</a>   \n",
       "624   <a href=\"http://twitter.com/download/iphone\" rel=\"nofollow\">Twitter for iPhone</a>   \n",
       "\n",
       "                                                                                                                                            text  \\\n",
       "1091  Just wanted to share this super rare Rainbow Floofer in case you guys haven't seen it yet. 13/10 colorful af https://t.co/CaG9MzD3WT         \n",
       "2054  Striped dog here. Having fun playing on back. Sturdy paws. Looks like an organized Dalmatian. 7/10 would still pet https://t.co/U1mSS3Ykez   \n",
       "1356  Really guys? Again? I know this is a rare Albanian Bingo Seal, but we only rate dogs. Only send in dogs... 9/10 https://t.co/6JYLpUmBrC      \n",
       "719   Meet Godi. He's an avid beachgoer and part time rainbow summoner. Eyeliner flawless af. 13/10 would snug well https://t.co/BO936YdJdi        \n",
       "624   Elder doggo does a splash. Both 13/10 incredible stuff https://t.co/gBUDjdEcqz                                                               \n",
       "\n",
       "      retweeted_status_id  retweeted_status_user_id  \\\n",
       "1091 NaN                  NaN                         \n",
       "2054 NaN                  NaN                         \n",
       "1356 NaN                  NaN                         \n",
       "719  NaN                  NaN                         \n",
       "624  NaN                  NaN                         \n",
       "\n",
       "     retweeted_status_timestamp  \\\n",
       "1091  NaN                         \n",
       "2054  NaN                         \n",
       "1356  NaN                         \n",
       "719   NaN                         \n",
       "624   NaN                         \n",
       "\n",
       "                                                                                                                                                                                                                                                        expanded_urls  \\\n",
       "1091  https://twitter.com/dog_rates/status/737445876994609152/photo/1                                                                                                                                                                                                   \n",
       "2054  https://twitter.com/dog_rates/status/671390180817915904/photo/1                                                                                                                                                                                                   \n",
       "1356  https://twitter.com/dog_rates/status/703425003149250560/photo/1                                                                                                                                                                                                   \n",
       "719   https://twitter.com/dog_rates/status/783391753726550016/photo/1,https://twitter.com/dog_rates/status/783391753726550016/photo/1,https://twitter.com/dog_rates/status/783391753726550016/photo/1,https://twitter.com/dog_rates/status/783391753726550016/photo/1   \n",
       "624   https://twitter.com/dog_rates/status/795464331001561088/video/1                                                                                                                                                                                                   \n",
       "\n",
       "      rating_numerator  rating_denominator  name  doggo  floofer pupper puppo  \n",
       "1091  13                10                  None  None   floofer  None   None  \n",
       "2054  7                 10                  None  None   None     None   None  \n",
       "1356  9                 10                  None  None   None     None   None  \n",
       "719   13                10                  Godi  None   None     None   None  \n",
       "624   13                10                  None  doggo  None     None   None  "
      ]
     },
     "execution_count": 378,
     "metadata": {},
     "output_type": "execute_result"
    }
   ],
   "source": [
    "# Get a basic idea of columns in table and their values\n",
    "archive.sample(5)"
   ]
  },
  {
   "cell_type": "code",
   "execution_count": 379,
   "metadata": {},
   "outputs": [
    {
     "name": "stdout",
     "output_type": "stream",
     "text": [
      "<class 'pandas.core.frame.DataFrame'>\n",
      "RangeIndex: 2356 entries, 0 to 2355\n",
      "Data columns (total 17 columns):\n",
      "tweet_id                      2356 non-null int64\n",
      "in_reply_to_status_id         78 non-null float64\n",
      "in_reply_to_user_id           78 non-null float64\n",
      "timestamp                     2356 non-null object\n",
      "source                        2356 non-null object\n",
      "text                          2356 non-null object\n",
      "retweeted_status_id           181 non-null float64\n",
      "retweeted_status_user_id      181 non-null float64\n",
      "retweeted_status_timestamp    181 non-null object\n",
      "expanded_urls                 2297 non-null object\n",
      "rating_numerator              2356 non-null int64\n",
      "rating_denominator            2356 non-null int64\n",
      "name                          2356 non-null object\n",
      "doggo                         2356 non-null object\n",
      "floofer                       2356 non-null object\n",
      "pupper                        2356 non-null object\n",
      "puppo                         2356 non-null object\n",
      "dtypes: float64(4), int64(3), object(10)\n",
      "memory usage: 313.0+ KB\n"
     ]
    }
   ],
   "source": [
    "# Get data types of columns and number of non-null entries\n",
    "archive.info()"
   ]
  },
  {
   "cell_type": "markdown",
   "metadata": {},
   "source": [
    "- Column **tweet_id** has data type integer (string is more suited for an ID)\n",
    "- There a some columns with null values. However, all columns of interest have 2356 non-null values.\n",
    "- Colummn **timestamp** should be converted to DateTime object to be better suited for analysis"
   ]
  },
  {
   "cell_type": "code",
   "execution_count": 380,
   "metadata": {},
   "outputs": [
    {
     "data": {
      "text/plain": [
       "0"
      ]
     },
     "execution_count": 380,
     "metadata": {},
     "output_type": "execute_result"
    }
   ],
   "source": [
    "#Get number of duplicated rows\n",
    "sum(archive.duplicated())"
   ]
  },
  {
   "cell_type": "code",
   "execution_count": 381,
   "metadata": {},
   "outputs": [
    {
     "data": {
      "text/plain": [
       "0"
      ]
     },
     "execution_count": 381,
     "metadata": {},
     "output_type": "execute_result"
    }
   ],
   "source": [
    "# Check for duplicated values in 'tweet_id'\n",
    "sum(archive.tweet_id.duplicated())   # could have also been analyzed by archive.tweet_id.nunique()  "
   ]
  },
  {
   "cell_type": "markdown",
   "metadata": {},
   "source": [
    "There are no duplicated rows and only unique tweet_ids in this table."
   ]
  },
  {
   "cell_type": "code",
   "execution_count": 382,
   "metadata": {},
   "outputs": [
    {
     "data": {
      "text/html": [
       "<div>\n",
       "<style scoped>\n",
       "    .dataframe tbody tr th:only-of-type {\n",
       "        vertical-align: middle;\n",
       "    }\n",
       "\n",
       "    .dataframe tbody tr th {\n",
       "        vertical-align: top;\n",
       "    }\n",
       "\n",
       "    .dataframe thead th {\n",
       "        text-align: right;\n",
       "    }\n",
       "</style>\n",
       "<table border=\"1\" class=\"dataframe\">\n",
       "  <thead>\n",
       "    <tr style=\"text-align: right;\">\n",
       "      <th></th>\n",
       "      <th>tweet_id</th>\n",
       "      <th>in_reply_to_status_id</th>\n",
       "      <th>in_reply_to_user_id</th>\n",
       "      <th>retweeted_status_id</th>\n",
       "      <th>retweeted_status_user_id</th>\n",
       "      <th>rating_numerator</th>\n",
       "      <th>rating_denominator</th>\n",
       "    </tr>\n",
       "  </thead>\n",
       "  <tbody>\n",
       "    <tr>\n",
       "      <th>count</th>\n",
       "      <td>2.356000e+03</td>\n",
       "      <td>7.800000e+01</td>\n",
       "      <td>7.800000e+01</td>\n",
       "      <td>1.810000e+02</td>\n",
       "      <td>1.810000e+02</td>\n",
       "      <td>2356.000000</td>\n",
       "      <td>2356.000000</td>\n",
       "    </tr>\n",
       "    <tr>\n",
       "      <th>mean</th>\n",
       "      <td>7.427716e+17</td>\n",
       "      <td>7.455079e+17</td>\n",
       "      <td>2.014171e+16</td>\n",
       "      <td>7.720400e+17</td>\n",
       "      <td>1.241698e+16</td>\n",
       "      <td>13.126486</td>\n",
       "      <td>10.455433</td>\n",
       "    </tr>\n",
       "    <tr>\n",
       "      <th>std</th>\n",
       "      <td>6.856705e+16</td>\n",
       "      <td>7.582492e+16</td>\n",
       "      <td>1.252797e+17</td>\n",
       "      <td>6.236928e+16</td>\n",
       "      <td>9.599254e+16</td>\n",
       "      <td>45.876648</td>\n",
       "      <td>6.745237</td>\n",
       "    </tr>\n",
       "    <tr>\n",
       "      <th>min</th>\n",
       "      <td>6.660209e+17</td>\n",
       "      <td>6.658147e+17</td>\n",
       "      <td>1.185634e+07</td>\n",
       "      <td>6.661041e+17</td>\n",
       "      <td>7.832140e+05</td>\n",
       "      <td>0.000000</td>\n",
       "      <td>0.000000</td>\n",
       "    </tr>\n",
       "    <tr>\n",
       "      <th>25%</th>\n",
       "      <td>6.783989e+17</td>\n",
       "      <td>6.757419e+17</td>\n",
       "      <td>3.086374e+08</td>\n",
       "      <td>7.186315e+17</td>\n",
       "      <td>4.196984e+09</td>\n",
       "      <td>10.000000</td>\n",
       "      <td>10.000000</td>\n",
       "    </tr>\n",
       "    <tr>\n",
       "      <th>50%</th>\n",
       "      <td>7.196279e+17</td>\n",
       "      <td>7.038708e+17</td>\n",
       "      <td>4.196984e+09</td>\n",
       "      <td>7.804657e+17</td>\n",
       "      <td>4.196984e+09</td>\n",
       "      <td>11.000000</td>\n",
       "      <td>10.000000</td>\n",
       "    </tr>\n",
       "    <tr>\n",
       "      <th>75%</th>\n",
       "      <td>7.993373e+17</td>\n",
       "      <td>8.257804e+17</td>\n",
       "      <td>4.196984e+09</td>\n",
       "      <td>8.203146e+17</td>\n",
       "      <td>4.196984e+09</td>\n",
       "      <td>12.000000</td>\n",
       "      <td>10.000000</td>\n",
       "    </tr>\n",
       "    <tr>\n",
       "      <th>max</th>\n",
       "      <td>8.924206e+17</td>\n",
       "      <td>8.862664e+17</td>\n",
       "      <td>8.405479e+17</td>\n",
       "      <td>8.874740e+17</td>\n",
       "      <td>7.874618e+17</td>\n",
       "      <td>1776.000000</td>\n",
       "      <td>170.000000</td>\n",
       "    </tr>\n",
       "  </tbody>\n",
       "</table>\n",
       "</div>"
      ],
      "text/plain": [
       "           tweet_id  in_reply_to_status_id  in_reply_to_user_id  \\\n",
       "count  2.356000e+03  7.800000e+01           7.800000e+01          \n",
       "mean   7.427716e+17  7.455079e+17           2.014171e+16          \n",
       "std    6.856705e+16  7.582492e+16           1.252797e+17          \n",
       "min    6.660209e+17  6.658147e+17           1.185634e+07          \n",
       "25%    6.783989e+17  6.757419e+17           3.086374e+08          \n",
       "50%    7.196279e+17  7.038708e+17           4.196984e+09          \n",
       "75%    7.993373e+17  8.257804e+17           4.196984e+09          \n",
       "max    8.924206e+17  8.862664e+17           8.405479e+17          \n",
       "\n",
       "       retweeted_status_id  retweeted_status_user_id  rating_numerator  \\\n",
       "count  1.810000e+02         1.810000e+02              2356.000000        \n",
       "mean   7.720400e+17         1.241698e+16              13.126486          \n",
       "std    6.236928e+16         9.599254e+16              45.876648          \n",
       "min    6.661041e+17         7.832140e+05              0.000000           \n",
       "25%    7.186315e+17         4.196984e+09              10.000000          \n",
       "50%    7.804657e+17         4.196984e+09              11.000000          \n",
       "75%    8.203146e+17         4.196984e+09              12.000000          \n",
       "max    8.874740e+17         7.874618e+17              1776.000000        \n",
       "\n",
       "       rating_denominator  \n",
       "count  2356.000000         \n",
       "mean   10.455433           \n",
       "std    6.745237            \n",
       "min    0.000000            \n",
       "25%    10.000000           \n",
       "50%    10.000000           \n",
       "75%    10.000000           \n",
       "max    170.000000          "
      ]
     },
     "execution_count": 382,
     "metadata": {},
     "output_type": "execute_result"
    }
   ],
   "source": [
    "archive.describe()"
   ]
  },
  {
   "cell_type": "markdown",
   "metadata": {},
   "source": [
    "**rating_numerator** is supposed to be around/greater than 10. It ranges between 0 and 1776 and is further analyzed (e.g. for outliers. **rating_denominator** is supposed to be around 10. It ranges between 0 and 170 and is further analyzed (e.g. for outliers."
   ]
  },
  {
   "cell_type": "code",
   "execution_count": 383,
   "metadata": {},
   "outputs": [
    {
     "data": {
      "text/plain": [
       "10     2333\n",
       "11     3   \n",
       "50     3   \n",
       "80     2   \n",
       "20     2   \n",
       "2      1   \n",
       "16     1   \n",
       "40     1   \n",
       "70     1   \n",
       "15     1   \n",
       "90     1   \n",
       "110    1   \n",
       "120    1   \n",
       "130    1   \n",
       "150    1   \n",
       "170    1   \n",
       "7      1   \n",
       "0      1   \n",
       "Name: rating_denominator, dtype: int64"
      ]
     },
     "execution_count": 383,
     "metadata": {},
     "output_type": "execute_result"
    }
   ],
   "source": [
    "archive.rating_denominator.value_counts()"
   ]
  },
  {
   "cell_type": "code",
   "execution_count": 384,
   "metadata": {},
   "outputs": [
    {
     "data": {
      "text/plain": [
       "23"
      ]
     },
     "execution_count": 384,
     "metadata": {},
     "output_type": "execute_result"
    }
   ],
   "source": [
    "archive.query('rating_denominator!=10').count()[0]"
   ]
  },
  {
   "cell_type": "markdown",
   "metadata": {},
   "source": [
    "23 rows out of 2356 have a denominator which is not 10 (less than 1% of all rows). These rows will be deleted to ease later analysis."
   ]
  },
  {
   "cell_type": "code",
   "execution_count": 385,
   "metadata": {},
   "outputs": [
    {
     "data": {
      "text/plain": [
       "0       2  \n",
       "1       8  \n",
       "2       9  \n",
       "3       19 \n",
       "4       15 \n",
       "5       37 \n",
       "6       32 \n",
       "7       54 \n",
       "8       102\n",
       "9       156\n",
       "10      461\n",
       "11      463\n",
       "12      558\n",
       "13      351\n",
       "14      54 \n",
       "15      2  \n",
       "17      1  \n",
       "26      1  \n",
       "27      1  \n",
       "75      2  \n",
       "182     1  \n",
       "420     2  \n",
       "666     1  \n",
       "1776    1  \n",
       "Name: rating_numerator, dtype: int64"
      ]
     },
     "execution_count": 385,
     "metadata": {},
     "output_type": "execute_result"
    }
   ],
   "source": [
    "#create mask with denominators of 10, sicne all other rows will be removed later anyways\n",
    "archive_10 = archive.query('rating_denominator==10') \n",
    "archive_10['rating_numerator'].value_counts().sort_index()"
   ]
  },
  {
   "cell_type": "code",
   "execution_count": 386,
   "metadata": {},
   "outputs": [
    {
     "data": {
      "text/plain": [
       "188     @dhmontgomery We also gave snoop dogg a 420/10 but I think that predated your research                                                                           \n",
       "189     @s8n You tried very hard to portray this good boy as not so good, but you have ultimately failed. His goodness shines through. 666/10                            \n",
       "290     @markhoppus 182/10                                                                                                                                               \n",
       "340     RT @dog_rates: This is Logan, the Chow who lived. He solemnly swears he's up to lots of good. H*ckin magical af 9.75/10 https://t.co/yBO5wu…                     \n",
       "695     This is Logan, the Chow who lived. He solemnly swears he's up to lots of good. H*ckin magical af 9.75/10 https://t.co/yBO5wuqaPS                                 \n",
       "763     This is Sophie. She's a Jubilant Bush Pupper. Super h*ckin rare. Appears at random just to smile at the locals. 11.27/10 would smile back https://t.co/QFaUiIHxHq\n",
       "979     This is Atticus. He's quite simply America af. 1776/10 https://t.co/GRXwMxLBkh                                                                                   \n",
       "1712    Here we have uncovered an entire battalion of holiday puppers. Average of 11.26/10 https://t.co/eNm2S6p9BD                                                       \n",
       "2074    After so many requests... here you go.\\n\\nGood dogg. 420/10 https://t.co/yfAAo1gdeY                                                                              \n",
       "Name: text, dtype: object"
      ]
     },
     "execution_count": 386,
     "metadata": {},
     "output_type": "execute_result"
    }
   ],
   "source": [
    "pd.set_option('display.max_colwidth', -1)\n",
    "archive_10.query('rating_numerator>17').text"
   ]
  },
  {
   "cell_type": "markdown",
   "metadata": {},
   "source": [
    "After checking some of the tweets with rating higher than 17, it seems that there are few float ratings where the decimal places are stored in column **rating_numerator** (9.75, 11.27 and 11.26). Those rows will be removed. Ratings greater than or equal to 182 are considered as outliers and will be removed as well (this applies to 5 ratings, two relating to Snoop Dogg and one to Atticus (dog of independence) with a rating of 1776)."
   ]
  },
  {
   "cell_type": "code",
   "execution_count": 387,
   "metadata": {},
   "outputs": [
    {
     "data": {
      "text/plain": [
       "None         745\n",
       "a            55 \n",
       "Charlie      12 \n",
       "Cooper       11 \n",
       "Lucy         11 \n",
       "Oliver       11 \n",
       "Penny        10 \n",
       "Lola         10 \n",
       "Tucker       10 \n",
       "Winston      9  \n",
       "Bo           9  \n",
       "the          8  \n",
       "Sadie        8  \n",
       "Daisy        7  \n",
       "Toby         7  \n",
       "Bailey       7  \n",
       "Buddy        7  \n",
       "an           7  \n",
       "Stanley      6  \n",
       "Koda         6  \n",
       "Scout        6  \n",
       "Jax          6  \n",
       "Dave         6  \n",
       "Leo          6  \n",
       "Bella        6  \n",
       "Jack         6  \n",
       "Milo         6  \n",
       "Rusty        6  \n",
       "Oscar        6  \n",
       "Gus          5  \n",
       "            ..  \n",
       "Tove         1  \n",
       "Glacier      1  \n",
       "Pip          1  \n",
       "Zoe          1  \n",
       "Cilantro     1  \n",
       "Jennifur     1  \n",
       "Olaf         1  \n",
       "Teddy        1  \n",
       "Socks        1  \n",
       "Snoop        1  \n",
       "Lenox        1  \n",
       "Jeremy       1  \n",
       "Zooey        1  \n",
       "Todo         1  \n",
       "Kanu         1  \n",
       "Ember        1  \n",
       "Steve        1  \n",
       "Laika        1  \n",
       "Eazy         1  \n",
       "Obi          1  \n",
       "Kane         1  \n",
       "Finnegus     1  \n",
       "Alexander    1  \n",
       "Meatball     1  \n",
       "Zara         1  \n",
       "Bronte       1  \n",
       "Edgar        1  \n",
       "Glenn        1  \n",
       "Ester        1  \n",
       "Opie         1  \n",
       "Name: name, Length: 957, dtype: int64"
      ]
     },
     "execution_count": 387,
     "metadata": {},
     "output_type": "execute_result"
    }
   ],
   "source": [
    "# Check entries of name column\n",
    "archive.name.value_counts()"
   ]
  },
  {
   "cell_type": "markdown",
   "metadata": {},
   "source": [
    "There are some entries in **name** column which were not parsed correctly, e.g. 'a', 'an', 'such', 'quite'. Since all visibly identified erronous entries start with a lower case letter, this will be used to identify further erronous entries which will then be converted to 'None' in the Cleaning Process."
   ]
  },
  {
   "cell_type": "code",
   "execution_count": 388,
   "metadata": {},
   "outputs": [
    {
     "data": {
      "text/plain": [
       "a               55\n",
       "the             8 \n",
       "an              7 \n",
       "very            5 \n",
       "quite           4 \n",
       "one             4 \n",
       "just            4 \n",
       "not             2 \n",
       "mad             2 \n",
       "actually        2 \n",
       "getting         2 \n",
       "this            1 \n",
       "his             1 \n",
       "old             1 \n",
       "infuriating     1 \n",
       "by              1 \n",
       "light           1 \n",
       "officially      1 \n",
       "my              1 \n",
       "space           1 \n",
       "all             1 \n",
       "life            1 \n",
       "such            1 \n",
       "incredibly      1 \n",
       "unacceptable    1 \n",
       "Name: name, dtype: int64"
      ]
     },
     "execution_count": 388,
     "metadata": {},
     "output_type": "execute_result"
    }
   ],
   "source": [
    "archive['Name_FirstLetter'] = archive['name'].str[0]\n",
    "archive['Name_FirstLetter_Lower'] = archive['Name_FirstLetter'].str.islower()\n",
    "archive_name_lower = archive.query('Name_FirstLetter_Lower==True')\n",
    "archive_name_lower.name.value_counts()"
   ]
  },
  {
   "cell_type": "code",
   "execution_count": 389,
   "metadata": {},
   "outputs": [
    {
     "data": {
      "text/plain": [
       "['a',\n",
       " 'the',\n",
       " 'an',\n",
       " 'very',\n",
       " 'quite',\n",
       " 'one',\n",
       " 'just',\n",
       " 'not',\n",
       " 'mad',\n",
       " 'actually',\n",
       " 'getting',\n",
       " 'this',\n",
       " 'his',\n",
       " 'old',\n",
       " 'infuriating',\n",
       " 'by',\n",
       " 'light',\n",
       " 'officially',\n",
       " 'my',\n",
       " 'space',\n",
       " 'all',\n",
       " 'life',\n",
       " 'such',\n",
       " 'incredibly',\n",
       " 'unacceptable']"
      ]
     },
     "execution_count": 389,
     "metadata": {},
     "output_type": "execute_result"
    }
   ],
   "source": [
    "archive_name_none = archive_name_lower.name.value_counts().index.tolist()\n",
    "archive_name_none"
   ]
  },
  {
   "cell_type": "code",
   "execution_count": 390,
   "metadata": {},
   "outputs": [
    {
     "name": "stdout",
     "output_type": "stream",
     "text": [
      "None      2099\n",
      "pupper    257 \n",
      "Name: pupper, dtype: int64\n",
      "None     2259\n",
      "doggo    97  \n",
      "Name: doggo, dtype: int64\n",
      "None     2326\n",
      "puppo    30  \n",
      "Name: puppo, dtype: int64\n",
      "None       2346\n",
      "floofer    10  \n",
      "Name: floofer, dtype: int64\n",
      "------------------------------------------\n",
      "Pupper: 257\n",
      "Doggo: 97\n",
      "Puppo: 30\n",
      "Floofer: 10\n"
     ]
    }
   ],
   "source": [
    "# Check entries for columns **doggo, floofer, pupper, and puppo**\n",
    "print(archive.pupper.value_counts())\n",
    "print(archive.doggo.value_counts())\n",
    "print(archive.puppo.value_counts())\n",
    "print(archive.floofer.value_counts())\n",
    "print(\"------------------------------------------\")\n",
    "print(\"Pupper: {}\".format(archive.pupper.value_counts().loc['pupper']))\n",
    "print(\"Doggo: {}\".format(archive.doggo.value_counts().loc['doggo']))\n",
    "print(\"Puppo: {}\".format(archive.puppo.value_counts().loc['puppo']))\n",
    "print(\"Floofer: {}\".format(archive.floofer.value_counts().loc['floofer']))"
   ]
  },
  {
   "cell_type": "markdown",
   "metadata": {},
   "source": [
    "Since out of the 2,356 available data records only 394 records have information on the type of dog this information will not be considered in the further analysis. If it were to be considered, one possible cleaning action would be to combine columns **doggo, floofer, pupper, and puppo** into one 'dogtype' column."
   ]
  },
  {
   "cell_type": "markdown",
   "metadata": {},
   "source": [
    "### Tweet Image Prediction"
   ]
  },
  {
   "cell_type": "code",
   "execution_count": 391,
   "metadata": {},
   "outputs": [
    {
     "data": {
      "text/html": [
       "<div>\n",
       "<style scoped>\n",
       "    .dataframe tbody tr th:only-of-type {\n",
       "        vertical-align: middle;\n",
       "    }\n",
       "\n",
       "    .dataframe tbody tr th {\n",
       "        vertical-align: top;\n",
       "    }\n",
       "\n",
       "    .dataframe thead th {\n",
       "        text-align: right;\n",
       "    }\n",
       "</style>\n",
       "<table border=\"1\" class=\"dataframe\">\n",
       "  <thead>\n",
       "    <tr style=\"text-align: right;\">\n",
       "      <th></th>\n",
       "      <th>tweet_id</th>\n",
       "      <th>jpg_url</th>\n",
       "      <th>img_num</th>\n",
       "      <th>p1</th>\n",
       "      <th>p1_conf</th>\n",
       "      <th>p1_dog</th>\n",
       "      <th>p2</th>\n",
       "      <th>p2_conf</th>\n",
       "      <th>p2_dog</th>\n",
       "      <th>p3</th>\n",
       "      <th>p3_conf</th>\n",
       "      <th>p3_dog</th>\n",
       "    </tr>\n",
       "  </thead>\n",
       "  <tbody>\n",
       "    <tr>\n",
       "      <th>896</th>\n",
       "      <td>699691744225525762</td>\n",
       "      <td>https://pbs.twimg.com/media/CbXN7aPWIAE0Xt1.jpg</td>\n",
       "      <td>1</td>\n",
       "      <td>hippopotamus</td>\n",
       "      <td>0.982269</td>\n",
       "      <td>False</td>\n",
       "      <td>sea_lion</td>\n",
       "      <td>0.006295</td>\n",
       "      <td>False</td>\n",
       "      <td>dugong</td>\n",
       "      <td>0.005768</td>\n",
       "      <td>False</td>\n",
       "    </tr>\n",
       "    <tr>\n",
       "      <th>1573</th>\n",
       "      <td>795400264262053889</td>\n",
       "      <td>https://pbs.twimg.com/media/CwnUUGTWIAE8sFR.jpg</td>\n",
       "      <td>2</td>\n",
       "      <td>golden_retriever</td>\n",
       "      <td>0.925494</td>\n",
       "      <td>True</td>\n",
       "      <td>Labrador_retriever</td>\n",
       "      <td>0.059241</td>\n",
       "      <td>True</td>\n",
       "      <td>tennis_ball</td>\n",
       "      <td>0.004495</td>\n",
       "      <td>False</td>\n",
       "    </tr>\n",
       "    <tr>\n",
       "      <th>1908</th>\n",
       "      <td>852672615818899456</td>\n",
       "      <td>https://pbs.twimg.com/media/C9VNNp1XkAEWRFb.jpg</td>\n",
       "      <td>1</td>\n",
       "      <td>golden_retriever</td>\n",
       "      <td>0.711235</td>\n",
       "      <td>True</td>\n",
       "      <td>otterhound</td>\n",
       "      <td>0.068235</td>\n",
       "      <td>True</td>\n",
       "      <td>Sussex_spaniel</td>\n",
       "      <td>0.046562</td>\n",
       "      <td>True</td>\n",
       "    </tr>\n",
       "    <tr>\n",
       "      <th>1905</th>\n",
       "      <td>852226086759018497</td>\n",
       "      <td>https://pbs.twimg.com/ext_tw_video_thumb/852223481894903808/pu/img/JWNq40ol4DXvHoUP.jpg</td>\n",
       "      <td>1</td>\n",
       "      <td>prison</td>\n",
       "      <td>0.352793</td>\n",
       "      <td>False</td>\n",
       "      <td>dishwasher</td>\n",
       "      <td>0.110723</td>\n",
       "      <td>False</td>\n",
       "      <td>file</td>\n",
       "      <td>0.094112</td>\n",
       "      <td>False</td>\n",
       "    </tr>\n",
       "    <tr>\n",
       "      <th>1317</th>\n",
       "      <td>755206590534418437</td>\n",
       "      <td>https://pbs.twimg.com/media/CnsIT0WWcAAul8V.jpg</td>\n",
       "      <td>1</td>\n",
       "      <td>web_site</td>\n",
       "      <td>0.906673</td>\n",
       "      <td>False</td>\n",
       "      <td>printer</td>\n",
       "      <td>0.008600</td>\n",
       "      <td>False</td>\n",
       "      <td>carton</td>\n",
       "      <td>0.004533</td>\n",
       "      <td>False</td>\n",
       "    </tr>\n",
       "  </tbody>\n",
       "</table>\n",
       "</div>"
      ],
      "text/plain": [
       "                tweet_id  \\\n",
       "896   699691744225525762   \n",
       "1573  795400264262053889   \n",
       "1908  852672615818899456   \n",
       "1905  852226086759018497   \n",
       "1317  755206590534418437   \n",
       "\n",
       "                                                                                      jpg_url  \\\n",
       "896   https://pbs.twimg.com/media/CbXN7aPWIAE0Xt1.jpg                                           \n",
       "1573  https://pbs.twimg.com/media/CwnUUGTWIAE8sFR.jpg                                           \n",
       "1908  https://pbs.twimg.com/media/C9VNNp1XkAEWRFb.jpg                                           \n",
       "1905  https://pbs.twimg.com/ext_tw_video_thumb/852223481894903808/pu/img/JWNq40ol4DXvHoUP.jpg   \n",
       "1317  https://pbs.twimg.com/media/CnsIT0WWcAAul8V.jpg                                           \n",
       "\n",
       "      img_num                p1   p1_conf  p1_dog                  p2  \\\n",
       "896   1        hippopotamus      0.982269  False   sea_lion             \n",
       "1573  2        golden_retriever  0.925494  True    Labrador_retriever   \n",
       "1908  1        golden_retriever  0.711235  True    otterhound           \n",
       "1905  1        prison            0.352793  False   dishwasher           \n",
       "1317  1        web_site          0.906673  False   printer              \n",
       "\n",
       "       p2_conf  p2_dog              p3   p3_conf  p3_dog  \n",
       "896   0.006295  False   dugong          0.005768  False   \n",
       "1573  0.059241  True    tennis_ball     0.004495  False   \n",
       "1908  0.068235  True    Sussex_spaniel  0.046562  True    \n",
       "1905  0.110723  False   file            0.094112  False   \n",
       "1317  0.008600  False   carton          0.004533  False   "
      ]
     },
     "execution_count": 391,
     "metadata": {},
     "output_type": "execute_result"
    }
   ],
   "source": [
    "# Get a basic idea of columns in table and their values\n",
    "image.sample(5)"
   ]
  },
  {
   "cell_type": "code",
   "execution_count": 392,
   "metadata": {},
   "outputs": [
    {
     "name": "stdout",
     "output_type": "stream",
     "text": [
      "<class 'pandas.core.frame.DataFrame'>\n",
      "RangeIndex: 2075 entries, 0 to 2074\n",
      "Data columns (total 12 columns):\n",
      "tweet_id    2075 non-null int64\n",
      "jpg_url     2075 non-null object\n",
      "img_num     2075 non-null int64\n",
      "p1          2075 non-null object\n",
      "p1_conf     2075 non-null float64\n",
      "p1_dog      2075 non-null bool\n",
      "p2          2075 non-null object\n",
      "p2_conf     2075 non-null float64\n",
      "p2_dog      2075 non-null bool\n",
      "p3          2075 non-null object\n",
      "p3_conf     2075 non-null float64\n",
      "p3_dog      2075 non-null bool\n",
      "dtypes: bool(3), float64(3), int64(2), object(4)\n",
      "memory usage: 152.0+ KB\n"
     ]
    }
   ],
   "source": [
    "# Get data types of columns and number of non-null entries\n",
    "image.info()"
   ]
  },
  {
   "cell_type": "markdown",
   "metadata": {},
   "source": [
    "- Column **tweet_id** has data type integer (string is more suited for an ID)\n",
    "- The image prediction table has less entries than the Twitter archive table. Only a maximum of 2075 can be matched to 2356 tweets. No null values in this table."
   ]
  },
  {
   "cell_type": "code",
   "execution_count": 393,
   "metadata": {},
   "outputs": [
    {
     "data": {
      "text/plain": [
       "0"
      ]
     },
     "execution_count": 393,
     "metadata": {},
     "output_type": "execute_result"
    }
   ],
   "source": [
    "#Get number of duplicated rows\n",
    "sum(image.duplicated())"
   ]
  },
  {
   "cell_type": "code",
   "execution_count": 394,
   "metadata": {},
   "outputs": [
    {
     "data": {
      "text/plain": [
       "0"
      ]
     },
     "execution_count": 394,
     "metadata": {},
     "output_type": "execute_result"
    }
   ],
   "source": [
    "# Check for duplicated values in 'tweet_id'\n",
    "sum(image.tweet_id.duplicated())   # could have also been analyzed by archive.tweet_id.nunique()  "
   ]
  },
  {
   "cell_type": "markdown",
   "metadata": {},
   "source": [
    "There are no duplicated rows or tweet ids."
   ]
  },
  {
   "cell_type": "code",
   "execution_count": 395,
   "metadata": {},
   "outputs": [
    {
     "data": {
      "text/plain": [
       "1    1780\n",
       "2    198 \n",
       "3    66  \n",
       "4    31  \n",
       "Name: img_num, dtype: int64"
      ]
     },
     "execution_count": 395,
     "metadata": {},
     "output_type": "execute_result"
    }
   ],
   "source": [
    "# Check the distribution on which image number corresponds to the most confident prediction\n",
    "image.img_num.value_counts()"
   ]
  },
  {
   "cell_type": "markdown",
   "metadata": {},
   "source": [
    "Most times the first image is the most confident prediction, but also p2, p3, and p4 have the best predictions. However information from p4 column is missing. Instead of deleting those rows from the dataset the images with the average best fit are taken instead (lowest mean px_comf) (which is a bit simpler than identifying the second best fit for each row). "
   ]
  },
  {
   "cell_type": "code",
   "execution_count": 396,
   "metadata": {},
   "outputs": [
    {
     "data": {
      "text/html": [
       "<div>\n",
       "<style scoped>\n",
       "    .dataframe tbody tr th:only-of-type {\n",
       "        vertical-align: middle;\n",
       "    }\n",
       "\n",
       "    .dataframe tbody tr th {\n",
       "        vertical-align: top;\n",
       "    }\n",
       "\n",
       "    .dataframe thead th {\n",
       "        text-align: right;\n",
       "    }\n",
       "</style>\n",
       "<table border=\"1\" class=\"dataframe\">\n",
       "  <thead>\n",
       "    <tr style=\"text-align: right;\">\n",
       "      <th></th>\n",
       "      <th>tweet_id</th>\n",
       "      <th>img_num</th>\n",
       "      <th>p1_conf</th>\n",
       "      <th>p2_conf</th>\n",
       "      <th>p3_conf</th>\n",
       "    </tr>\n",
       "  </thead>\n",
       "  <tbody>\n",
       "    <tr>\n",
       "      <th>count</th>\n",
       "      <td>3.100000e+01</td>\n",
       "      <td>31.0</td>\n",
       "      <td>31.000000</td>\n",
       "      <td>31.000000</td>\n",
       "      <td>31.000000</td>\n",
       "    </tr>\n",
       "    <tr>\n",
       "      <th>mean</th>\n",
       "      <td>8.002106e+17</td>\n",
       "      <td>4.0</td>\n",
       "      <td>0.818488</td>\n",
       "      <td>0.058523</td>\n",
       "      <td>0.027473</td>\n",
       "    </tr>\n",
       "    <tr>\n",
       "      <th>std</th>\n",
       "      <td>5.388178e+16</td>\n",
       "      <td>0.0</td>\n",
       "      <td>0.189390</td>\n",
       "      <td>0.053816</td>\n",
       "      <td>0.031909</td>\n",
       "    </tr>\n",
       "    <tr>\n",
       "      <th>min</th>\n",
       "      <td>6.686232e+17</td>\n",
       "      <td>4.0</td>\n",
       "      <td>0.226716</td>\n",
       "      <td>0.000023</td>\n",
       "      <td>0.000003</td>\n",
       "    </tr>\n",
       "    <tr>\n",
       "      <th>25%</th>\n",
       "      <td>7.606596e+17</td>\n",
       "      <td>4.0</td>\n",
       "      <td>0.771316</td>\n",
       "      <td>0.022395</td>\n",
       "      <td>0.007357</td>\n",
       "    </tr>\n",
       "    <tr>\n",
       "      <th>50%</th>\n",
       "      <td>8.186145e+17</td>\n",
       "      <td>4.0</td>\n",
       "      <td>0.883991</td>\n",
       "      <td>0.035059</td>\n",
       "      <td>0.017943</td>\n",
       "    </tr>\n",
       "    <tr>\n",
       "      <th>75%</th>\n",
       "      <td>8.339563e+17</td>\n",
       "      <td>4.0</td>\n",
       "      <td>0.944413</td>\n",
       "      <td>0.084091</td>\n",
       "      <td>0.029551</td>\n",
       "    </tr>\n",
       "    <tr>\n",
       "      <th>max</th>\n",
       "      <td>8.851676e+17</td>\n",
       "      <td>4.0</td>\n",
       "      <td>0.999953</td>\n",
       "      <td>0.204177</td>\n",
       "      <td>0.125745</td>\n",
       "    </tr>\n",
       "  </tbody>\n",
       "</table>\n",
       "</div>"
      ],
      "text/plain": [
       "           tweet_id  img_num    p1_conf    p2_conf    p3_conf\n",
       "count  3.100000e+01  31.0     31.000000  31.000000  31.000000\n",
       "mean   8.002106e+17  4.0      0.818488   0.058523   0.027473 \n",
       "std    5.388178e+16  0.0      0.189390   0.053816   0.031909 \n",
       "min    6.686232e+17  4.0      0.226716   0.000023   0.000003 \n",
       "25%    7.606596e+17  4.0      0.771316   0.022395   0.007357 \n",
       "50%    8.186145e+17  4.0      0.883991   0.035059   0.017943 \n",
       "75%    8.339563e+17  4.0      0.944413   0.084091   0.029551 \n",
       "max    8.851676e+17  4.0      0.999953   0.204177   0.125745 "
      ]
     },
     "execution_count": 396,
     "metadata": {},
     "output_type": "execute_result"
    }
   ],
   "source": [
    "image_p4 = image.query('img_num==4')\n",
    "image_p4.describe()"
   ]
  },
  {
   "cell_type": "markdown",
   "metadata": {},
   "source": [
    "If img_num is 4, p3 should be used instead (since it has lowest mean p3_conf value)"
   ]
  },
  {
   "cell_type": "code",
   "execution_count": 397,
   "metadata": {},
   "outputs": [
    {
     "data": {
      "text/plain": [
       "Afghan_hound                      5 \n",
       "African_hunting_dog               1 \n",
       "Airedale                          7 \n",
       "American_Staffordshire_terrier    21\n",
       "American_alligator                2 \n",
       "American_black_bear               3 \n",
       "Angora                            4 \n",
       "Appenzeller                       3 \n",
       "Arabian_camel                     4 \n",
       "Arctic_fox                        4 \n",
       "Australian_terrier                2 \n",
       "Bedlington_terrier                5 \n",
       "Bernese_mountain_dog              1 \n",
       "Blenheim_spaniel                  4 \n",
       "Border_collie                     12\n",
       "Border_terrier                    4 \n",
       "Boston_bull                       19\n",
       "Brabancon_griffon                 10\n",
       "Brittany_spaniel                  8 \n",
       "Cardigan                          73\n",
       "Chesapeake_Bay_retriever          41\n",
       "Chihuahua                         44\n",
       "Christmas_stocking                3 \n",
       "Dandie_Dinmont                    4 \n",
       "Doberman                          6 \n",
       "English_foxhound                  2 \n",
       "English_setter                    7 \n",
       "English_springer                  10\n",
       "EntleBucher                       1 \n",
       "Eskimo_dog                        27\n",
       "                                  ..\n",
       "tow_truck                         2 \n",
       "toy_poodle                        37\n",
       "toy_terrier                       20\n",
       "toyshop                           2 \n",
       "tray                              1 \n",
       "tree_frog                         1 \n",
       "trench_coat                       1 \n",
       "triceratops                       1 \n",
       "tub                               5 \n",
       "turnstile                         1 \n",
       "umbrella                          1 \n",
       "vizsla                            7 \n",
       "volcano                           1 \n",
       "waffle_iron                       1 \n",
       "wallaby                           1 \n",
       "wallet                            2 \n",
       "warthog                           2 \n",
       "washbasin                         1 \n",
       "water_bottle                      1 \n",
       "water_buffalo                     1 \n",
       "weasel                            4 \n",
       "web_site                          1 \n",
       "whippet                           15\n",
       "white_wolf                        1 \n",
       "wig                               2 \n",
       "window_screen                     4 \n",
       "window_shade                      1 \n",
       "wire-haired_fox_terrier           4 \n",
       "wombat                            1 \n",
       "wood_rabbit                       1 \n",
       "Name: p2, Length: 405, dtype: int64"
      ]
     },
     "execution_count": 397,
     "metadata": {},
     "output_type": "execute_result"
    }
   ],
   "source": [
    "image.p2.value_counts().sort_index()"
   ]
  },
  {
   "cell_type": "markdown",
   "metadata": {},
   "source": [
    "When checking entries for p1, p2, and p3 it seems that real dog breeds are start with upper case letters whereas non dog breeds are start with lower case letters. This might be helpful later."
   ]
  },
  {
   "cell_type": "markdown",
   "metadata": {},
   "source": [
    "### Favorite/Retweet Count"
   ]
  },
  {
   "cell_type": "code",
   "execution_count": 398,
   "metadata": {},
   "outputs": [
    {
     "data": {
      "text/html": [
       "<div>\n",
       "<style scoped>\n",
       "    .dataframe tbody tr th:only-of-type {\n",
       "        vertical-align: middle;\n",
       "    }\n",
       "\n",
       "    .dataframe tbody tr th {\n",
       "        vertical-align: top;\n",
       "    }\n",
       "\n",
       "    .dataframe thead th {\n",
       "        text-align: right;\n",
       "    }\n",
       "</style>\n",
       "<table border=\"1\" class=\"dataframe\">\n",
       "  <thead>\n",
       "    <tr style=\"text-align: right;\">\n",
       "      <th></th>\n",
       "      <th>tweet_id</th>\n",
       "      <th>favorite_count</th>\n",
       "      <th>retweet_count</th>\n",
       "    </tr>\n",
       "  </thead>\n",
       "  <tbody>\n",
       "    <tr>\n",
       "      <th>2296</th>\n",
       "      <td>666454714377183233</td>\n",
       "      <td>514</td>\n",
       "      <td>208</td>\n",
       "    </tr>\n",
       "    <tr>\n",
       "      <th>1968</th>\n",
       "      <td>672640509974827008</td>\n",
       "      <td>981</td>\n",
       "      <td>328</td>\n",
       "    </tr>\n",
       "    <tr>\n",
       "      <th>2103</th>\n",
       "      <td>670361874861563904</td>\n",
       "      <td>329</td>\n",
       "      <td>69</td>\n",
       "    </tr>\n",
       "    <tr>\n",
       "      <th>1798</th>\n",
       "      <td>676590572941893632</td>\n",
       "      <td>940</td>\n",
       "      <td>132</td>\n",
       "    </tr>\n",
       "    <tr>\n",
       "      <th>1303</th>\n",
       "      <td>706291001778950144</td>\n",
       "      <td>1772</td>\n",
       "      <td>494</td>\n",
       "    </tr>\n",
       "  </tbody>\n",
       "</table>\n",
       "</div>"
      ],
      "text/plain": [
       "                tweet_id  favorite_count  retweet_count\n",
       "2296  666454714377183233  514             208          \n",
       "1968  672640509974827008  981             328          \n",
       "2103  670361874861563904  329             69           \n",
       "1798  676590572941893632  940             132          \n",
       "1303  706291001778950144  1772            494          "
      ]
     },
     "execution_count": 398,
     "metadata": {},
     "output_type": "execute_result"
    }
   ],
   "source": [
    "# Get a basic idea of columns in table and their values\n",
    "favoretweet.sample(5)"
   ]
  },
  {
   "cell_type": "code",
   "execution_count": 399,
   "metadata": {},
   "outputs": [
    {
     "name": "stdout",
     "output_type": "stream",
     "text": [
      "<class 'pandas.core.frame.DataFrame'>\n",
      "RangeIndex: 2334 entries, 0 to 2333\n",
      "Data columns (total 3 columns):\n",
      "tweet_id          2334 non-null int64\n",
      "favorite_count    2334 non-null int64\n",
      "retweet_count     2334 non-null int64\n",
      "dtypes: int64(3)\n",
      "memory usage: 54.8 KB\n"
     ]
    }
   ],
   "source": [
    "# Get data types of columns and number of non-null entries\n",
    "favoretweet.info()"
   ]
  },
  {
   "cell_type": "markdown",
   "metadata": {},
   "source": [
    "- Column **tweet_id** has data type integer (string is more suited for an ID)\n",
    "- The favorite/retweet table has less entries than the Twitter archive table (some tweets might already have been deleted). Only a maximum of 2334 can be matched to 2356 tweets. No null values in this table."
   ]
  },
  {
   "cell_type": "code",
   "execution_count": 400,
   "metadata": {},
   "outputs": [
    {
     "data": {
      "text/plain": [
       "0"
      ]
     },
     "execution_count": 400,
     "metadata": {},
     "output_type": "execute_result"
    }
   ],
   "source": [
    "#Get number of duplicated rows\n",
    "sum(favoretweet.duplicated())"
   ]
  },
  {
   "cell_type": "code",
   "execution_count": 401,
   "metadata": {},
   "outputs": [
    {
     "data": {
      "text/html": [
       "<div>\n",
       "<style scoped>\n",
       "    .dataframe tbody tr th:only-of-type {\n",
       "        vertical-align: middle;\n",
       "    }\n",
       "\n",
       "    .dataframe tbody tr th {\n",
       "        vertical-align: top;\n",
       "    }\n",
       "\n",
       "    .dataframe thead th {\n",
       "        text-align: right;\n",
       "    }\n",
       "</style>\n",
       "<table border=\"1\" class=\"dataframe\">\n",
       "  <thead>\n",
       "    <tr style=\"text-align: right;\">\n",
       "      <th></th>\n",
       "      <th>tweet_id</th>\n",
       "      <th>favorite_count</th>\n",
       "      <th>retweet_count</th>\n",
       "    </tr>\n",
       "  </thead>\n",
       "  <tbody>\n",
       "    <tr>\n",
       "      <th>count</th>\n",
       "      <td>2.334000e+03</td>\n",
       "      <td>2334.000000</td>\n",
       "      <td>2334.000000</td>\n",
       "    </tr>\n",
       "    <tr>\n",
       "      <th>mean</th>\n",
       "      <td>7.420377e+17</td>\n",
       "      <td>7883.542845</td>\n",
       "      <td>2904.165381</td>\n",
       "    </tr>\n",
       "    <tr>\n",
       "      <th>std</th>\n",
       "      <td>6.815496e+16</td>\n",
       "      <td>12239.167992</td>\n",
       "      <td>4904.200484</td>\n",
       "    </tr>\n",
       "    <tr>\n",
       "      <th>min</th>\n",
       "      <td>6.660209e+17</td>\n",
       "      <td>0.000000</td>\n",
       "      <td>0.000000</td>\n",
       "    </tr>\n",
       "    <tr>\n",
       "      <th>25%</th>\n",
       "      <td>6.783361e+17</td>\n",
       "      <td>1366.500000</td>\n",
       "      <td>583.000000</td>\n",
       "    </tr>\n",
       "    <tr>\n",
       "      <th>50%</th>\n",
       "      <td>7.185770e+17</td>\n",
       "      <td>3439.500000</td>\n",
       "      <td>1355.500000</td>\n",
       "    </tr>\n",
       "    <tr>\n",
       "      <th>75%</th>\n",
       "      <td>7.986802e+17</td>\n",
       "      <td>9676.000000</td>\n",
       "      <td>3382.750000</td>\n",
       "    </tr>\n",
       "    <tr>\n",
       "      <th>max</th>\n",
       "      <td>8.918152e+17</td>\n",
       "      <td>163368.000000</td>\n",
       "      <td>83074.000000</td>\n",
       "    </tr>\n",
       "  </tbody>\n",
       "</table>\n",
       "</div>"
      ],
      "text/plain": [
       "           tweet_id  favorite_count  retweet_count\n",
       "count  2.334000e+03  2334.000000     2334.000000  \n",
       "mean   7.420377e+17  7883.542845     2904.165381  \n",
       "std    6.815496e+16  12239.167992    4904.200484  \n",
       "min    6.660209e+17  0.000000        0.000000     \n",
       "25%    6.783361e+17  1366.500000     583.000000   \n",
       "50%    7.185770e+17  3439.500000     1355.500000  \n",
       "75%    7.986802e+17  9676.000000     3382.750000  \n",
       "max    8.918152e+17  163368.000000   83074.000000 "
      ]
     },
     "execution_count": 401,
     "metadata": {},
     "output_type": "execute_result"
    }
   ],
   "source": [
    "favoretweet.describe()"
   ]
  },
  {
   "cell_type": "markdown",
   "metadata": {},
   "source": [
    "No suspicious values (e.g. negative values) in this table. All vounts for favorite and retweet seem to be reasonable."
   ]
  },
  {
   "cell_type": "markdown",
   "metadata": {},
   "source": [
    "### Quality Issues\n",
    "**Twitter Archive**\n",
    "- Column **tweet_id** is not of type String\n",
    "- Column **timestamp** is not of type DateTime object\n",
    "- Some values in column **rating_denominator** are not 10 (23 rows)\n",
    "- Ratings higher or equal to 26 are either dur to wrong formatting or are outlier ratings in column **rating_numerator** (9 rows)\n",
    "- Erronous entries in **name** column (stored in array archive_name_none)\n",
    "- Not all columns are relevant for later analysis"
   ]
  },
  {
   "cell_type": "markdown",
   "metadata": {},
   "source": [
    "**Tweet Image Prediction**\n",
    "- Column **tweet_id** is not of type String\n",
    "- Some dog breeds might be stored with a lower case first letter\n",
    "- Column names are not informative\n",
    "- Not all columns are relevant for later analysis"
   ]
  },
  {
   "cell_type": "markdown",
   "metadata": {},
   "source": [
    "**Tweet Retweet Count**\n",
    "- Column **tweet_id** is not of type String"
   ]
  },
  {
   "cell_type": "markdown",
   "metadata": {},
   "source": [
    "#### Tidiness Issues"
   ]
  },
  {
   "cell_type": "markdown",
   "metadata": {},
   "source": [
    "- Most confident prediction for dog (and breed) is stored in multiple columns (**Tweet Image Prediction** columns **p1, p2, p3, p4**); for img_num is 4, p3 should be used instead."
   ]
  },
  {
   "cell_type": "markdown",
   "metadata": {},
   "source": [
    "<a id='clean'></a>\n",
    "## Clean Data"
   ]
  },
  {
   "cell_type": "code",
   "execution_count": 402,
   "metadata": {},
   "outputs": [],
   "source": [
    "# Make copies of data frames\n",
    "archive_clean = archive.copy()\n",
    "image_clean = image.copy()\n",
    "favoretweet_clean = favoretweet.copy()"
   ]
  },
  {
   "cell_type": "markdown",
   "metadata": {},
   "source": [
    "### Twitter Archive\n",
    "\n",
    "#### Define\n",
    "- Convert column **tweet_id** to String\n",
    "- Convert column **timestamp** to type DateTime object\n",
    "\n",
    "#### Code"
   ]
  },
  {
   "cell_type": "code",
   "execution_count": 403,
   "metadata": {},
   "outputs": [],
   "source": [
    "archive_clean['tweet_id'] = archive_clean['tweet_id'].astype(str)\n",
    "archive_clean['timestamp'] = pd.to_datetime(archive_clean['timestamp'])"
   ]
  },
  {
   "cell_type": "markdown",
   "metadata": {},
   "source": [
    "#### Test"
   ]
  },
  {
   "cell_type": "code",
   "execution_count": 404,
   "metadata": {},
   "outputs": [
    {
     "name": "stdout",
     "output_type": "stream",
     "text": [
      "<class 'pandas.core.frame.DataFrame'>\n",
      "RangeIndex: 2356 entries, 0 to 2355\n",
      "Data columns (total 19 columns):\n",
      "tweet_id                      2356 non-null object\n",
      "in_reply_to_status_id         78 non-null float64\n",
      "in_reply_to_user_id           78 non-null float64\n",
      "timestamp                     2356 non-null datetime64[ns]\n",
      "source                        2356 non-null object\n",
      "text                          2356 non-null object\n",
      "retweeted_status_id           181 non-null float64\n",
      "retweeted_status_user_id      181 non-null float64\n",
      "retweeted_status_timestamp    181 non-null object\n",
      "expanded_urls                 2297 non-null object\n",
      "rating_numerator              2356 non-null int64\n",
      "rating_denominator            2356 non-null int64\n",
      "name                          2356 non-null object\n",
      "doggo                         2356 non-null object\n",
      "floofer                       2356 non-null object\n",
      "pupper                        2356 non-null object\n",
      "puppo                         2356 non-null object\n",
      "Name_FirstLetter              2356 non-null object\n",
      "Name_FirstLetter_Lower        2356 non-null bool\n",
      "dtypes: bool(1), datetime64[ns](1), float64(4), int64(2), object(11)\n",
      "memory usage: 333.7+ KB\n"
     ]
    }
   ],
   "source": [
    "archive_clean.info()"
   ]
  },
  {
   "cell_type": "markdown",
   "metadata": {},
   "source": [
    "Conversion to String and DateTime object successful."
   ]
  },
  {
   "cell_type": "markdown",
   "metadata": {},
   "source": [
    "#### Define\n",
    "- Drop rows where **rating_denominator** is not 10 (23 rows)\n",
    "\n",
    "#### Code"
   ]
  },
  {
   "cell_type": "code",
   "execution_count": 405,
   "metadata": {},
   "outputs": [],
   "source": [
    "archive_clean = archive_clean[archive_clean.rating_denominator==10]"
   ]
  },
  {
   "cell_type": "markdown",
   "metadata": {},
   "source": [
    "#### Test"
   ]
  },
  {
   "cell_type": "code",
   "execution_count": 406,
   "metadata": {},
   "outputs": [
    {
     "data": {
      "text/plain": [
       "2333"
      ]
     },
     "execution_count": 406,
     "metadata": {},
     "output_type": "execute_result"
    }
   ],
   "source": [
    "archive_clean.shape[0]"
   ]
  },
  {
   "cell_type": "code",
   "execution_count": 407,
   "metadata": {},
   "outputs": [
    {
     "name": "stdout",
     "output_type": "stream",
     "text": [
      "<class 'pandas.core.frame.DataFrame'>\n",
      "Int64Index: 2333 entries, 0 to 2355\n",
      "Data columns (total 19 columns):\n",
      "tweet_id                      2333 non-null object\n",
      "in_reply_to_status_id         73 non-null float64\n",
      "in_reply_to_user_id           73 non-null float64\n",
      "timestamp                     2333 non-null datetime64[ns]\n",
      "source                        2333 non-null object\n",
      "text                          2333 non-null object\n",
      "retweeted_status_id           180 non-null float64\n",
      "retweeted_status_user_id      180 non-null float64\n",
      "retweeted_status_timestamp    180 non-null object\n",
      "expanded_urls                 2278 non-null object\n",
      "rating_numerator              2333 non-null int64\n",
      "rating_denominator            2333 non-null int64\n",
      "name                          2333 non-null object\n",
      "doggo                         2333 non-null object\n",
      "floofer                       2333 non-null object\n",
      "pupper                        2333 non-null object\n",
      "puppo                         2333 non-null object\n",
      "Name_FirstLetter              2333 non-null object\n",
      "Name_FirstLetter_Lower        2333 non-null bool\n",
      "dtypes: bool(1), datetime64[ns](1), float64(4), int64(2), object(11)\n",
      "memory usage: 348.6+ KB\n"
     ]
    }
   ],
   "source": [
    "archive_clean.info()"
   ]
  },
  {
   "cell_type": "markdown",
   "metadata": {},
   "source": [
    "Rows were deleted successfully (size before dropping was 2356, thus, 23 rows were dropped)"
   ]
  },
  {
   "cell_type": "markdown",
   "metadata": {},
   "source": [
    "#### Define\n",
    "- Keep only those rows where **rating_numerator** is lower than 26. Higher ratings are considered as wrong formatting or outliers (9 rows)\n",
    "\n",
    "#### Code"
   ]
  },
  {
   "cell_type": "code",
   "execution_count": 408,
   "metadata": {},
   "outputs": [],
   "source": [
    "archive_clean = archive_clean.query('rating_numerator<26')"
   ]
  },
  {
   "cell_type": "markdown",
   "metadata": {},
   "source": [
    "#### Test"
   ]
  },
  {
   "cell_type": "code",
   "execution_count": 409,
   "metadata": {},
   "outputs": [
    {
     "data": {
      "text/plain": [
       "2324"
      ]
     },
     "execution_count": 409,
     "metadata": {},
     "output_type": "execute_result"
    }
   ],
   "source": [
    "archive_clean.shape[0]"
   ]
  },
  {
   "cell_type": "markdown",
   "metadata": {},
   "source": [
    "Rows were deleted successfully (size before dropping was 2333, thus, 9 rows were dropped)"
   ]
  },
  {
   "cell_type": "markdown",
   "metadata": {},
   "source": [
    "#### Define\n",
    "- Create new column **dog_stage** for columns **doggo, floofer, pupper, and puppo**\n",
    "note: melt function cannot be used since not all rows have defined dog stage and thus 'None' values cannot be removed afterwards (since those rows would then be removed as well)"
   ]
  },
  {
   "cell_type": "markdown",
   "metadata": {},
   "source": [
    "#### Define\n",
    "- Replcae erronous entries in **name** column with 'None' (stored in array archive_name_none)\n",
    "\n",
    "#### Code"
   ]
  },
  {
   "cell_type": "code",
   "execution_count": 410,
   "metadata": {},
   "outputs": [],
   "source": [
    "archive_clean.name.replace(archive_name_none, \"None\", inplace = True)"
   ]
  },
  {
   "cell_type": "markdown",
   "metadata": {},
   "source": [
    "#### Test"
   ]
  },
  {
   "cell_type": "code",
   "execution_count": 411,
   "metadata": {},
   "outputs": [
    {
     "name": "stdout",
     "output_type": "stream",
     "text": [
      "745 'None' in archive // 829 'None' in archive_clean\n"
     ]
    }
   ],
   "source": [
    "print(\"{} 'None' in archive // {} 'None' in archive_clean\".format(archive.name.value_counts().loc['None'], archive_clean.name.value_counts().loc['None']))"
   ]
  },
  {
   "cell_type": "code",
   "execution_count": 412,
   "metadata": {},
   "outputs": [
    {
     "data": {
      "text/plain": [
       "109"
      ]
     },
     "execution_count": 412,
     "metadata": {},
     "output_type": "execute_result"
    }
   ],
   "source": [
    "archive_name_lower.shape[0]"
   ]
  },
  {
   "cell_type": "markdown",
   "metadata": {},
   "source": [
    "Count of \"None\" values for name was increased by 109, which is the number of entries in archive_name_lower (before 745, now 854)"
   ]
  },
  {
   "cell_type": "markdown",
   "metadata": {},
   "source": [
    "### Tweet Image Prediction\n",
    "\n",
    "#### Define\n",
    "- Convert column **tweet_id** to String\n",
    "\n",
    "#### Code"
   ]
  },
  {
   "cell_type": "code",
   "execution_count": 413,
   "metadata": {},
   "outputs": [],
   "source": [
    "image_clean['tweet_id'] = image_clean['tweet_id'].astype(str)"
   ]
  },
  {
   "cell_type": "markdown",
   "metadata": {},
   "source": [
    "#### Test"
   ]
  },
  {
   "cell_type": "code",
   "execution_count": 414,
   "metadata": {},
   "outputs": [
    {
     "name": "stdout",
     "output_type": "stream",
     "text": [
      "<class 'pandas.core.frame.DataFrame'>\n",
      "RangeIndex: 2075 entries, 0 to 2074\n",
      "Data columns (total 12 columns):\n",
      "tweet_id    2075 non-null object\n",
      "jpg_url     2075 non-null object\n",
      "img_num     2075 non-null int64\n",
      "p1          2075 non-null object\n",
      "p1_conf     2075 non-null float64\n",
      "p1_dog      2075 non-null bool\n",
      "p2          2075 non-null object\n",
      "p2_conf     2075 non-null float64\n",
      "p2_dog      2075 non-null bool\n",
      "p3          2075 non-null object\n",
      "p3_conf     2075 non-null float64\n",
      "p3_dog      2075 non-null bool\n",
      "dtypes: bool(3), float64(3), int64(1), object(5)\n",
      "memory usage: 152.0+ KB\n"
     ]
    }
   ],
   "source": [
    "image_clean.info()"
   ]
  },
  {
   "cell_type": "markdown",
   "metadata": {},
   "source": [
    "#### Define\n",
    "- Rename existing columns **px_dog** to 'isdog', **px** to'dogbreed', and **px_conf** to 'p_value' to store most confident prediction for dog and dog breed\n",
    "- For img_num=1 use **p1**, for img_num=2 use **p2**, for img_num=3 use **p3**, and for img_num=4 use **p3**\n",
    "- Capitalize dog breeds, since sometimes valid dog breeds are stored with lower case\n",
    "\n",
    "#### Code"
   ]
  },
  {
   "cell_type": "code",
   "execution_count": 415,
   "metadata": {},
   "outputs": [],
   "source": [
    "# Use p1_dog and p1 for img_num=1\n",
    "image_clean_1 = image_clean\n",
    "image_clean_1 = image_clean_1[image_clean_1.img_num==1]\n",
    "image_clean_1 = image_clean_1.rename(columns = {'p1_dog':'isdog', 'p1':'dogbreed', 'p1_conf':'p_value'})\n",
    "\n",
    "# Use p2_dog and p2 for img_num=2\n",
    "image_clean_2 = image_clean\n",
    "image_clean_2 = image_clean_2[image_clean_2.img_num==2]\n",
    "image_clean_2 = image_clean_2.rename(columns = {'p2_dog':'isdog', 'p2':'dogbreed', 'p2_conf':'p_value'})\n",
    "\n",
    "# Use p3_dog and p3 for img_num=3\n",
    "image_clean_3 = image_clean\n",
    "image_clean_3 = image_clean_3[image_clean_3.img_num==3]\n",
    "image_clean_3 = image_clean_3.rename(columns = {'p3_dog':'isdog', 'p3':'dogbreed', 'p3_conf':'p_value'})\n",
    "\n",
    "# Use p3_dog and p3 for img_num=4\n",
    "image_clean_4 = image_clean\n",
    "image_clean_4 = image_clean_4[image_clean_4.img_num==4]\n",
    "image_clean_4 = image_clean_4.rename(columns = {'p3_dog':'isdog', 'p3':'dogbreed', 'p3_conf':'p_value'})"
   ]
  },
  {
   "cell_type": "code",
   "execution_count": 416,
   "metadata": {},
   "outputs": [],
   "source": [
    "# Keept only columns 'tweetid, 'isdog', 'dogbreed', and 'p_value'\n",
    "clean_1 = image_clean_1[['tweet_id','isdog','dogbreed','p_value']]\n",
    "clean_2 = image_clean_2[['tweet_id','isdog','dogbreed','p_value']]\n",
    "clean_3 = image_clean_3[['tweet_id','isdog','dogbreed','p_value']]\n",
    "clean_4 = image_clean_4[['tweet_id','isdog','dogbreed','p_value']]"
   ]
  },
  {
   "cell_type": "code",
   "execution_count": 417,
   "metadata": {},
   "outputs": [],
   "source": [
    "# Append data frames to one data frame\n",
    "clean_1_2 = clean_1.append(clean_2, ignore_index=True)\n",
    "clean_1_2_3 = clean_1_2.append(clean_3, ignore_index=True)\n",
    "image_clean = clean_1_2_3.append(clean_4, ignore_index=True)"
   ]
  },
  {
   "cell_type": "code",
   "execution_count": 418,
   "metadata": {},
   "outputs": [],
   "source": [
    "image_clean.dogbreed = image_clean.dogbreed.str.capitalize()"
   ]
  },
  {
   "cell_type": "markdown",
   "metadata": {},
   "source": [
    "#### Test"
   ]
  },
  {
   "cell_type": "code",
   "execution_count": 419,
   "metadata": {},
   "outputs": [
    {
     "data": {
      "text/plain": [
       "2075"
      ]
     },
     "execution_count": 419,
     "metadata": {},
     "output_type": "execute_result"
    }
   ],
   "source": [
    "image.shape[0]"
   ]
  },
  {
   "cell_type": "code",
   "execution_count": 420,
   "metadata": {
    "scrolled": true
   },
   "outputs": [
    {
     "name": "stdout",
     "output_type": "stream",
     "text": [
      "<class 'pandas.core.frame.DataFrame'>\n",
      "RangeIndex: 2075 entries, 0 to 2074\n",
      "Data columns (total 4 columns):\n",
      "tweet_id    2075 non-null object\n",
      "isdog       2075 non-null bool\n",
      "dogbreed    2075 non-null object\n",
      "p_value     2075 non-null float64\n",
      "dtypes: bool(1), float64(1), object(2)\n",
      "memory usage: 50.7+ KB\n"
     ]
    }
   ],
   "source": [
    "image_clean.info()"
   ]
  },
  {
   "cell_type": "code",
   "execution_count": 421,
   "metadata": {},
   "outputs": [
    {
     "data": {
      "text/plain": [
       "Golden_retriever             123\n",
       "Labrador_retriever           109\n",
       "Pembroke                     80 \n",
       "Chihuahua                    76 \n",
       "Pug                          53 \n",
       "Chow                         39 \n",
       "Samoyed                      39 \n",
       "Pomeranian                   38 \n",
       "Toy_poodle                   37 \n",
       "Cocker_spaniel               31 \n",
       "Malamute                     30 \n",
       "French_bulldog               27 \n",
       "Eskimo_dog                   26 \n",
       "Chesapeake_bay_retriever     23 \n",
       "Kuvasz                       22 \n",
       "Shetland_sheepdog            21 \n",
       "Cardigan                     21 \n",
       "Staffordshire_bullterrier    21 \n",
       "Siberian_husky               21 \n",
       "Seat_belt                    21 \n",
       "Beagle                       19 \n",
       "Italian_greyhound            19 \n",
       "Pekinese                     19 \n",
       "Miniature_pinscher           18 \n",
       "Web_site                     16 \n",
       "Rottweiler                   16 \n",
       "Kelpie                       16 \n",
       "Lakeland_terrier             16 \n",
       "German_shepherd              16 \n",
       "Teddy                        15 \n",
       "                             .. \n",
       "Bannister                    1  \n",
       "Bald_eagle                   1  \n",
       "Walking_stick                1  \n",
       "African_hunting_dog          1  \n",
       "Consomme                     1  \n",
       "Tailed_frog                  1  \n",
       "Timber_wolf                  1  \n",
       "Cliff                        1  \n",
       "Lacewing                     1  \n",
       "Minibus                      1  \n",
       "Desktop_computer             1  \n",
       "American_black_bear          1  \n",
       "Espresso                     1  \n",
       "Guenon                       1  \n",
       "Suit                         1  \n",
       "Bearskin                     1  \n",
       "Window_screen                1  \n",
       "Restaurant                   1  \n",
       "Stove                        1  \n",
       "Syringe                      1  \n",
       "Loafer                       1  \n",
       "Binoculars                   1  \n",
       "Panpipe                      1  \n",
       "Pitcher                      1  \n",
       "Traffic_light                1  \n",
       "Fountain                     1  \n",
       "Polecat                      1  \n",
       "English_foxhound             1  \n",
       "Radio_telescope              1  \n",
       "Robin                        1  \n",
       "Name: dogbreed, Length: 382, dtype: int64"
      ]
     },
     "execution_count": 421,
     "metadata": {},
     "output_type": "execute_result"
    }
   ],
   "source": [
    "image_clean.dogbreed.value_counts()"
   ]
  },
  {
   "cell_type": "markdown",
   "metadata": {},
   "source": [
    "The original data frame and the cleaned data frame have the same shape and the entries in column **dogbreed** are capitalized."
   ]
  },
  {
   "cell_type": "markdown",
   "metadata": {},
   "source": [
    "### Favorite/Retweet Count\n",
    "\n",
    "#### Define\n",
    "- Convert column **tweet_id** to String\n",
    "\n",
    "#### Code"
   ]
  },
  {
   "cell_type": "code",
   "execution_count": 422,
   "metadata": {},
   "outputs": [],
   "source": [
    "favoretweet_clean['tweet_id'] = favoretweet_clean['tweet_id'].astype(str)"
   ]
  },
  {
   "cell_type": "markdown",
   "metadata": {},
   "source": [
    "#### Test"
   ]
  },
  {
   "cell_type": "code",
   "execution_count": 423,
   "metadata": {},
   "outputs": [
    {
     "name": "stdout",
     "output_type": "stream",
     "text": [
      "<class 'pandas.core.frame.DataFrame'>\n",
      "RangeIndex: 2334 entries, 0 to 2333\n",
      "Data columns (total 3 columns):\n",
      "tweet_id          2334 non-null object\n",
      "favorite_count    2334 non-null int64\n",
      "retweet_count     2334 non-null int64\n",
      "dtypes: int64(2), object(1)\n",
      "memory usage: 54.8+ KB\n"
     ]
    }
   ],
   "source": [
    "favoretweet_clean.info()"
   ]
  },
  {
   "cell_type": "markdown",
   "metadata": {},
   "source": [
    "### Merge Dataframes\n",
    "\n",
    "#### Define\n",
    "- Merge all tables into one table (since three tables are merged, this is done in two steps); use 'inner-join' so each tweet_id has all information of interest\n",
    "\n",
    "#### Code"
   ]
  },
  {
   "cell_type": "code",
   "execution_count": 424,
   "metadata": {},
   "outputs": [],
   "source": [
    "tweet_merged = pd.merge(archive_clean, image_clean, on=['tweet_id'], how='inner') # step1: merge archive and image\n",
    "tweet_merged = pd.merge(tweet_merged, favoretweet_clean, on=['tweet_id'], how='inner') # step1: merge master and favorite/retweet"
   ]
  },
  {
   "cell_type": "markdown",
   "metadata": {},
   "source": [
    "#### Test"
   ]
  },
  {
   "cell_type": "code",
   "execution_count": 425,
   "metadata": {},
   "outputs": [
    {
     "name": "stdout",
     "output_type": "stream",
     "text": [
      "<class 'pandas.core.frame.DataFrame'>\n",
      "Int64Index: 2038 entries, 0 to 2037\n",
      "Data columns (total 24 columns):\n",
      "tweet_id                      2038 non-null object\n",
      "in_reply_to_status_id         22 non-null float64\n",
      "in_reply_to_user_id           22 non-null float64\n",
      "timestamp                     2038 non-null datetime64[ns]\n",
      "source                        2038 non-null object\n",
      "text                          2038 non-null object\n",
      "retweeted_status_id           75 non-null float64\n",
      "retweeted_status_user_id      75 non-null float64\n",
      "retweeted_status_timestamp    75 non-null object\n",
      "expanded_urls                 2038 non-null object\n",
      "rating_numerator              2038 non-null int64\n",
      "rating_denominator            2038 non-null int64\n",
      "name                          2038 non-null object\n",
      "doggo                         2038 non-null object\n",
      "floofer                       2038 non-null object\n",
      "pupper                        2038 non-null object\n",
      "puppo                         2038 non-null object\n",
      "Name_FirstLetter              2038 non-null object\n",
      "Name_FirstLetter_Lower        2038 non-null bool\n",
      "isdog                         2038 non-null bool\n",
      "dogbreed                      2038 non-null object\n",
      "p_value                       2038 non-null float64\n",
      "favorite_count                2038 non-null int64\n",
      "retweet_count                 2038 non-null int64\n",
      "dtypes: bool(2), datetime64[ns](1), float64(5), int64(4), object(12)\n",
      "memory usage: 370.2+ KB\n"
     ]
    }
   ],
   "source": [
    "tweet_merged.info()"
   ]
  },
  {
   "cell_type": "markdown",
   "metadata": {},
   "source": [
    "Tables have been merged; complete set of information available for 2038 tweets."
   ]
  },
  {
   "cell_type": "markdown",
   "metadata": {},
   "source": [
    "### Reduce Dataframe to columns of interest\n",
    "#### Define\n",
    "- Keep only those columns that could be of interest for the analysis\n",
    "- note: **rating_denominator** can be dropped, since its value is always 10\n",
    "#### Code"
   ]
  },
  {
   "cell_type": "code",
   "execution_count": 426,
   "metadata": {},
   "outputs": [],
   "source": [
    "tweet_master = tweet_merged[['tweet_id','timestamp','source','rating_numerator','name','isdog','dogbreed','p_value',\n",
    "                             'favorite_count','retweet_count', 'expanded_urls']]\n",
    "tweet_master = tweet_master.copy() #create dataframe from slice\n",
    "# Store master as csv file\n",
    "tweet_master.to_csv('twitter_archive_master.csv', index=False)"
   ]
  },
  {
   "cell_type": "markdown",
   "metadata": {},
   "source": [
    "#### Test"
   ]
  },
  {
   "cell_type": "code",
   "execution_count": 427,
   "metadata": {},
   "outputs": [
    {
     "name": "stdout",
     "output_type": "stream",
     "text": [
      "<class 'pandas.core.frame.DataFrame'>\n",
      "Int64Index: 2038 entries, 0 to 2037\n",
      "Data columns (total 11 columns):\n",
      "tweet_id            2038 non-null object\n",
      "timestamp           2038 non-null datetime64[ns]\n",
      "source              2038 non-null object\n",
      "rating_numerator    2038 non-null int64\n",
      "name                2038 non-null object\n",
      "isdog               2038 non-null bool\n",
      "dogbreed            2038 non-null object\n",
      "p_value             2038 non-null float64\n",
      "favorite_count      2038 non-null int64\n",
      "retweet_count       2038 non-null int64\n",
      "expanded_urls       2038 non-null object\n",
      "dtypes: bool(1), datetime64[ns](1), float64(1), int64(3), object(5)\n",
      "memory usage: 177.1+ KB\n"
     ]
    }
   ],
   "source": [
    "tweet_master.info()"
   ]
  },
  {
   "cell_type": "markdown",
   "metadata": {},
   "source": [
    "Merging all three tables into one was successful."
   ]
  },
  {
   "cell_type": "markdown",
   "metadata": {},
   "source": [
    "<a id='analysis'></a>\n",
    "## Data Analysis"
   ]
  },
  {
   "cell_type": "code",
   "execution_count": 428,
   "metadata": {},
   "outputs": [
    {
     "data": {
      "text/plain": [
       "None       658\n",
       "Cooper     10 \n",
       "Penny      10 \n",
       "Lucy       10 \n",
       "Tucker     10 \n",
       "Charlie    10 \n",
       "Oliver     10 \n",
       "Winston    8  \n",
       "Sadie      8  \n",
       "Lola       8  \n",
       "Name: name, dtype: int64"
      ]
     },
     "execution_count": 428,
     "metadata": {},
     "output_type": "execute_result"
    }
   ],
   "source": [
    "tweet_master.name.value_counts().nlargest(10)"
   ]
  },
  {
   "cell_type": "markdown",
   "metadata": {},
   "source": [
    "Cooper, Penny, Lucy, Tucker, Charlie and Oliver are the most popular names for dogs (though 658 tweets have no name associated)"
   ]
  },
  {
   "cell_type": "code",
   "execution_count": 429,
   "metadata": {},
   "outputs": [
    {
     "data": {
      "text/plain": [
       "Golden_retriever      121\n",
       "Labrador_retriever    105\n",
       "Pembroke              79 \n",
       "Chihuahua             73 \n",
       "Pug                   53 \n",
       "Chow                  39 \n",
       "Pomeranian            37 \n",
       "Toy_poodle            37 \n",
       "Samoyed               37 \n",
       "Cocker_spaniel        31 \n",
       "Name: dogbreed, dtype: int64"
      ]
     },
     "execution_count": 429,
     "metadata": {},
     "output_type": "execute_result"
    }
   ],
   "source": [
    "dog_breeds = tweet_master.query(\"isdog==True\")\n",
    "dog_breeds_count = dog_breeds.dogbreed.value_counts()\n",
    "breed_top10 = dog_breeds_count.nlargest(10)\n",
    "breed_top10"
   ]
  },
  {
   "cell_type": "markdown",
   "metadata": {},
   "source": [
    "Golden Retriever and Labrador Retriever are the dog breeds with the highest number of single tweets."
   ]
  },
  {
   "cell_type": "code",
   "execution_count": 430,
   "metadata": {},
   "outputs": [
    {
     "name": "stdout",
     "output_type": "stream",
     "text": [
      "There are 112 different dog breeds in the dataset\n"
     ]
    }
   ],
   "source": [
    "print(\"There are {} different dog breeds in the dataset\".format(dog_breeds_count.shape[0]))"
   ]
  },
  {
   "cell_type": "code",
   "execution_count": 431,
   "metadata": {},
   "outputs": [
    {
     "data": {
      "text/html": [
       "<div>\n",
       "<style scoped>\n",
       "    .dataframe tbody tr th:only-of-type {\n",
       "        vertical-align: middle;\n",
       "    }\n",
       "\n",
       "    .dataframe tbody tr th {\n",
       "        vertical-align: top;\n",
       "    }\n",
       "\n",
       "    .dataframe thead tr th {\n",
       "        text-align: left;\n",
       "    }\n",
       "</style>\n",
       "<table border=\"1\" class=\"dataframe\">\n",
       "  <thead>\n",
       "    <tr>\n",
       "      <th></th>\n",
       "      <th>dogbreed</th>\n",
       "      <th colspan=\"2\" halign=\"left\">favorite_count</th>\n",
       "      <th colspan=\"2\" halign=\"left\">retweet_count</th>\n",
       "    </tr>\n",
       "    <tr>\n",
       "      <th></th>\n",
       "      <th></th>\n",
       "      <th>count</th>\n",
       "      <th>mean</th>\n",
       "      <th>count</th>\n",
       "      <th>mean</th>\n",
       "    </tr>\n",
       "  </thead>\n",
       "  <tbody>\n",
       "    <tr>\n",
       "      <th>134</th>\n",
       "      <td>Golden_retriever</td>\n",
       "      <td>121</td>\n",
       "      <td>10404.892562</td>\n",
       "      <td>121</td>\n",
       "      <td>3568.528926</td>\n",
       "    </tr>\n",
       "    <tr>\n",
       "      <th>186</th>\n",
       "      <td>Labrador_retriever</td>\n",
       "      <td>105</td>\n",
       "      <td>11910.609524</td>\n",
       "      <td>105</td>\n",
       "      <td>4312.466667</td>\n",
       "    </tr>\n",
       "    <tr>\n",
       "      <th>248</th>\n",
       "      <td>Pembroke</td>\n",
       "      <td>79</td>\n",
       "      <td>11177.063291</td>\n",
       "      <td>79</td>\n",
       "      <td>3019.177215</td>\n",
       "    </tr>\n",
       "    <tr>\n",
       "      <th>76</th>\n",
       "      <td>Chihuahua</td>\n",
       "      <td>73</td>\n",
       "      <td>7030.150685</td>\n",
       "      <td>73</td>\n",
       "      <td>2400.671233</td>\n",
       "    </tr>\n",
       "    <tr>\n",
       "      <th>262</th>\n",
       "      <td>Pug</td>\n",
       "      <td>53</td>\n",
       "      <td>5159.622642</td>\n",
       "      <td>53</td>\n",
       "      <td>1795.886792</td>\n",
       "    </tr>\n",
       "    <tr>\n",
       "      <th>79</th>\n",
       "      <td>Chow</td>\n",
       "      <td>39</td>\n",
       "      <td>7150.717949</td>\n",
       "      <td>39</td>\n",
       "      <td>2307.615385</td>\n",
       "    </tr>\n",
       "    <tr>\n",
       "      <th>277</th>\n",
       "      <td>Samoyed</td>\n",
       "      <td>37</td>\n",
       "      <td>12397.432432</td>\n",
       "      <td>37</td>\n",
       "      <td>4518.675676</td>\n",
       "    </tr>\n",
       "    <tr>\n",
       "      <th>256</th>\n",
       "      <td>Pomeranian</td>\n",
       "      <td>37</td>\n",
       "      <td>7107.972973</td>\n",
       "      <td>37</td>\n",
       "      <td>2359.108108</td>\n",
       "    </tr>\n",
       "    <tr>\n",
       "      <th>340</th>\n",
       "      <td>Toy_poodle</td>\n",
       "      <td>37</td>\n",
       "      <td>5925.432432</td>\n",
       "      <td>37</td>\n",
       "      <td>2287.648649</td>\n",
       "    </tr>\n",
       "    <tr>\n",
       "      <th>83</th>\n",
       "      <td>Cocker_spaniel</td>\n",
       "      <td>31</td>\n",
       "      <td>10805.677419</td>\n",
       "      <td>31</td>\n",
       "      <td>3923.032258</td>\n",
       "    </tr>\n",
       "  </tbody>\n",
       "</table>\n",
       "</div>"
      ],
      "text/plain": [
       "               dogbreed favorite_count               retweet_count  \\\n",
       "                                 count          mean         count   \n",
       "134  Golden_retriever    121            10404.892562  121            \n",
       "186  Labrador_retriever  105            11910.609524  105            \n",
       "248  Pembroke            79             11177.063291  79             \n",
       "76   Chihuahua           73             7030.150685   73             \n",
       "262  Pug                 53             5159.622642   53             \n",
       "79   Chow                39             7150.717949   39             \n",
       "277  Samoyed             37             12397.432432  37             \n",
       "256  Pomeranian          37             7107.972973   37             \n",
       "340  Toy_poodle          37             5925.432432   37             \n",
       "83   Cocker_spaniel      31             10805.677419  31             \n",
       "\n",
       "                  \n",
       "            mean  \n",
       "134  3568.528926  \n",
       "186  4312.466667  \n",
       "248  3019.177215  \n",
       "76   2400.671233  \n",
       "262  1795.886792  \n",
       "79   2307.615385  \n",
       "277  4518.675676  \n",
       "256  2359.108108  \n",
       "340  2287.648649  \n",
       "83   3923.032258  "
      ]
     },
     "execution_count": 431,
     "metadata": {},
     "output_type": "execute_result"
    }
   ],
   "source": [
    "breed_top10 = tweet_master.groupby(['dogbreed'])['favorite_count', 'retweet_count'].agg(['count', 'mean']).reset_index()\n",
    "breed_top10.sort_values(by = [('favorite_count', 'count')], ascending=False).head(10)"
   ]
  },
  {
   "cell_type": "markdown",
   "metadata": {},
   "source": [
    "The dogs with the most tweets do not have the largest number of average favorite counts and average retweet counts. "
   ]
  },
  {
   "cell_type": "code",
   "execution_count": 432,
   "metadata": {},
   "outputs": [
    {
     "data": {
      "text/html": [
       "<div>\n",
       "<style scoped>\n",
       "    .dataframe tbody tr th:only-of-type {\n",
       "        vertical-align: middle;\n",
       "    }\n",
       "\n",
       "    .dataframe tbody tr th {\n",
       "        vertical-align: top;\n",
       "    }\n",
       "\n",
       "    .dataframe thead tr th {\n",
       "        text-align: left;\n",
       "    }\n",
       "</style>\n",
       "<table border=\"1\" class=\"dataframe\">\n",
       "  <thead>\n",
       "    <tr>\n",
       "      <th></th>\n",
       "      <th>dogbreed</th>\n",
       "      <th colspan=\"2\" halign=\"left\">favorite_count</th>\n",
       "      <th colspan=\"2\" halign=\"left\">p_value</th>\n",
       "    </tr>\n",
       "    <tr>\n",
       "      <th></th>\n",
       "      <th></th>\n",
       "      <th>count</th>\n",
       "      <th>mean</th>\n",
       "      <th>count</th>\n",
       "      <th>mean</th>\n",
       "    </tr>\n",
       "  </thead>\n",
       "  <tbody>\n",
       "    <tr>\n",
       "      <th>161</th>\n",
       "      <td>House_finch</td>\n",
       "      <td>1</td>\n",
       "      <td>79875.0</td>\n",
       "      <td>1</td>\n",
       "      <td>0.209852</td>\n",
       "    </tr>\n",
       "    <tr>\n",
       "      <th>190</th>\n",
       "      <td>Laptop</td>\n",
       "      <td>1</td>\n",
       "      <td>64846.0</td>\n",
       "      <td>1</td>\n",
       "      <td>0.153718</td>\n",
       "    </tr>\n",
       "    <tr>\n",
       "      <th>10</th>\n",
       "      <td>Angora</td>\n",
       "      <td>2</td>\n",
       "      <td>45382.0</td>\n",
       "      <td>2</td>\n",
       "      <td>0.571526</td>\n",
       "    </tr>\n",
       "    <tr>\n",
       "      <th>196</th>\n",
       "      <td>Limousine</td>\n",
       "      <td>1</td>\n",
       "      <td>45204.0</td>\n",
       "      <td>1</td>\n",
       "      <td>0.130432</td>\n",
       "    </tr>\n",
       "    <tr>\n",
       "      <th>334</th>\n",
       "      <td>Tiger_cat</td>\n",
       "      <td>1</td>\n",
       "      <td>44997.0</td>\n",
       "      <td>1</td>\n",
       "      <td>0.006679</td>\n",
       "    </tr>\n",
       "    <tr>\n",
       "      <th>126</th>\n",
       "      <td>Fountain</td>\n",
       "      <td>1</td>\n",
       "      <td>43637.0</td>\n",
       "      <td>1</td>\n",
       "      <td>0.997509</td>\n",
       "    </tr>\n",
       "    <tr>\n",
       "      <th>63</th>\n",
       "      <td>Bubble</td>\n",
       "      <td>2</td>\n",
       "      <td>39209.5</td>\n",
       "      <td>2</td>\n",
       "      <td>0.618865</td>\n",
       "    </tr>\n",
       "    <tr>\n",
       "      <th>221</th>\n",
       "      <td>Mongoose</td>\n",
       "      <td>1</td>\n",
       "      <td>37245.0</td>\n",
       "      <td>1</td>\n",
       "      <td>0.228298</td>\n",
       "    </tr>\n",
       "    <tr>\n",
       "      <th>270</th>\n",
       "      <td>Revolver</td>\n",
       "      <td>1</td>\n",
       "      <td>33993.0</td>\n",
       "      <td>1</td>\n",
       "      <td>0.190292</td>\n",
       "    </tr>\n",
       "    <tr>\n",
       "      <th>25</th>\n",
       "      <td>Basketball</td>\n",
       "      <td>1</td>\n",
       "      <td>33802.0</td>\n",
       "      <td>1</td>\n",
       "      <td>0.808396</td>\n",
       "    </tr>\n",
       "  </tbody>\n",
       "</table>\n",
       "</div>"
      ],
      "text/plain": [
       "        dogbreed favorite_count          p_value          \n",
       "                          count     mean   count      mean\n",
       "161  House_finch  1              79875.0  1       0.209852\n",
       "190  Laptop       1              64846.0  1       0.153718\n",
       "10   Angora       2              45382.0  2       0.571526\n",
       "196  Limousine    1              45204.0  1       0.130432\n",
       "334  Tiger_cat    1              44997.0  1       0.006679\n",
       "126  Fountain     1              43637.0  1       0.997509\n",
       "63   Bubble       2              39209.5  2       0.618865\n",
       "221  Mongoose     1              37245.0  1       0.228298\n",
       "270  Revolver     1              33993.0  1       0.190292\n",
       "25   Basketball   1              33802.0  1       0.808396"
      ]
     },
     "execution_count": 432,
     "metadata": {},
     "output_type": "execute_result"
    }
   ],
   "source": [
    "fav_breed = tweet_master.groupby(['dogbreed'])['favorite_count','p_value'].agg(['count', 'mean']).reset_index()\n",
    "fav_breed.sort_values(by = ('favorite_count', 'mean'), ascending=False).head(10)"
   ]
  },
  {
   "cell_type": "code",
   "execution_count": 433,
   "metadata": {},
   "outputs": [
    {
     "data": {
      "text/html": [
       "<div>\n",
       "<style scoped>\n",
       "    .dataframe tbody tr th:only-of-type {\n",
       "        vertical-align: middle;\n",
       "    }\n",
       "\n",
       "    .dataframe tbody tr th {\n",
       "        vertical-align: top;\n",
       "    }\n",
       "\n",
       "    .dataframe thead tr th {\n",
       "        text-align: left;\n",
       "    }\n",
       "</style>\n",
       "<table border=\"1\" class=\"dataframe\">\n",
       "  <thead>\n",
       "    <tr>\n",
       "      <th></th>\n",
       "      <th>dogbreed</th>\n",
       "      <th colspan=\"2\" halign=\"left\">retweet_count</th>\n",
       "      <th colspan=\"2\" halign=\"left\">p_value</th>\n",
       "    </tr>\n",
       "    <tr>\n",
       "      <th></th>\n",
       "      <th></th>\n",
       "      <th>count</th>\n",
       "      <th>mean</th>\n",
       "      <th>count</th>\n",
       "      <th>mean</th>\n",
       "    </tr>\n",
       "  </thead>\n",
       "  <tbody>\n",
       "    <tr>\n",
       "      <th>161</th>\n",
       "      <td>House_finch</td>\n",
       "      <td>1</td>\n",
       "      <td>37967.0</td>\n",
       "      <td>1</td>\n",
       "      <td>0.209852</td>\n",
       "    </tr>\n",
       "    <tr>\n",
       "      <th>349</th>\n",
       "      <td>Umbrella</td>\n",
       "      <td>2</td>\n",
       "      <td>20524.0</td>\n",
       "      <td>2</td>\n",
       "      <td>0.007850</td>\n",
       "    </tr>\n",
       "    <tr>\n",
       "      <th>334</th>\n",
       "      <td>Tiger_cat</td>\n",
       "      <td>1</td>\n",
       "      <td>18721.0</td>\n",
       "      <td>1</td>\n",
       "      <td>0.006679</td>\n",
       "    </tr>\n",
       "    <tr>\n",
       "      <th>350</th>\n",
       "      <td>Upright</td>\n",
       "      <td>2</td>\n",
       "      <td>17887.0</td>\n",
       "      <td>2</td>\n",
       "      <td>0.303415</td>\n",
       "    </tr>\n",
       "    <tr>\n",
       "      <th>63</th>\n",
       "      <td>Bubble</td>\n",
       "      <td>2</td>\n",
       "      <td>16337.5</td>\n",
       "      <td>2</td>\n",
       "      <td>0.618865</td>\n",
       "    </tr>\n",
       "    <tr>\n",
       "      <th>135</th>\n",
       "      <td>Gondola</td>\n",
       "      <td>2</td>\n",
       "      <td>15681.5</td>\n",
       "      <td>2</td>\n",
       "      <td>0.226571</td>\n",
       "    </tr>\n",
       "    <tr>\n",
       "      <th>10</th>\n",
       "      <td>Angora</td>\n",
       "      <td>2</td>\n",
       "      <td>15415.0</td>\n",
       "      <td>2</td>\n",
       "      <td>0.571526</td>\n",
       "    </tr>\n",
       "    <tr>\n",
       "      <th>221</th>\n",
       "      <td>Mongoose</td>\n",
       "      <td>1</td>\n",
       "      <td>15297.0</td>\n",
       "      <td>1</td>\n",
       "      <td>0.228298</td>\n",
       "    </tr>\n",
       "    <tr>\n",
       "      <th>190</th>\n",
       "      <td>Laptop</td>\n",
       "      <td>1</td>\n",
       "      <td>14364.0</td>\n",
       "      <td>1</td>\n",
       "      <td>0.153718</td>\n",
       "    </tr>\n",
       "    <tr>\n",
       "      <th>270</th>\n",
       "      <td>Revolver</td>\n",
       "      <td>1</td>\n",
       "      <td>13778.0</td>\n",
       "      <td>1</td>\n",
       "      <td>0.190292</td>\n",
       "    </tr>\n",
       "  </tbody>\n",
       "</table>\n",
       "</div>"
      ],
      "text/plain": [
       "        dogbreed retweet_count          p_value          \n",
       "                         count     mean   count      mean\n",
       "161  House_finch  1             37967.0  1       0.209852\n",
       "349  Umbrella     2             20524.0  2       0.007850\n",
       "334  Tiger_cat    1             18721.0  1       0.006679\n",
       "350  Upright      2             17887.0  2       0.303415\n",
       "63   Bubble       2             16337.5  2       0.618865\n",
       "135  Gondola      2             15681.5  2       0.226571\n",
       "10   Angora       2             15415.0  2       0.571526\n",
       "221  Mongoose     1             15297.0  1       0.228298\n",
       "190  Laptop       1             14364.0  1       0.153718\n",
       "270  Revolver     1             13778.0  1       0.190292"
      ]
     },
     "execution_count": 433,
     "metadata": {},
     "output_type": "execute_result"
    }
   ],
   "source": [
    "retweet_breed = tweet_master.groupby(['dogbreed'])['retweet_count','p_value'].agg(['count', 'mean']).reset_index()\n",
    "retweet_breed.sort_values(by = ('retweet_count', 'mean'), ascending=False).head(10)"
   ]
  },
  {
   "cell_type": "code",
   "execution_count": 434,
   "metadata": {},
   "outputs": [
    {
     "data": {
      "text/html": [
       "<div>\n",
       "<style scoped>\n",
       "    .dataframe tbody tr th:only-of-type {\n",
       "        vertical-align: middle;\n",
       "    }\n",
       "\n",
       "    .dataframe tbody tr th {\n",
       "        vertical-align: top;\n",
       "    }\n",
       "\n",
       "    .dataframe thead th {\n",
       "        text-align: right;\n",
       "    }\n",
       "</style>\n",
       "<table border=\"1\" class=\"dataframe\">\n",
       "  <thead>\n",
       "    <tr style=\"text-align: right;\">\n",
       "      <th></th>\n",
       "      <th>tweet_id</th>\n",
       "      <th>timestamp</th>\n",
       "      <th>source</th>\n",
       "      <th>rating_numerator</th>\n",
       "      <th>name</th>\n",
       "      <th>isdog</th>\n",
       "      <th>dogbreed</th>\n",
       "      <th>p_value</th>\n",
       "      <th>favorite_count</th>\n",
       "      <th>retweet_count</th>\n",
       "      <th>expanded_urls</th>\n",
       "    </tr>\n",
       "  </thead>\n",
       "  <tbody>\n",
       "    <tr>\n",
       "      <th>1425</th>\n",
       "      <td>680221482581123072</td>\n",
       "      <td>2015-12-25 03:00:14</td>\n",
       "      <td>&lt;a href=\"http://twitter.com/download/iphone\" rel=\"nofollow\"&gt;Twitter for iPhone&lt;/a&gt;</td>\n",
       "      <td>10</td>\n",
       "      <td>CeCe</td>\n",
       "      <td>False</td>\n",
       "      <td>Bubble</td>\n",
       "      <td>0.240173</td>\n",
       "      <td>1514</td>\n",
       "      <td>306</td>\n",
       "      <td>https://twitter.com/dog_rates/status/680221482581123072/photo/1</td>\n",
       "    </tr>\n",
       "    <tr>\n",
       "      <th>1528</th>\n",
       "      <td>676219687039057920</td>\n",
       "      <td>2015-12-14 01:58:31</td>\n",
       "      <td>&lt;a href=\"http://twitter.com/download/iphone\" rel=\"nofollow\"&gt;Twitter for iPhone&lt;/a&gt;</td>\n",
       "      <td>10</td>\n",
       "      <td>Kenneth</td>\n",
       "      <td>False</td>\n",
       "      <td>Bubble</td>\n",
       "      <td>0.997556</td>\n",
       "      <td>76905</td>\n",
       "      <td>32369</td>\n",
       "      <td>https://twitter.com/dog_rates/status/676219687039057920/photo/1</td>\n",
       "    </tr>\n",
       "  </tbody>\n",
       "</table>\n",
       "</div>"
      ],
      "text/plain": [
       "                tweet_id           timestamp  \\\n",
       "1425  680221482581123072 2015-12-25 03:00:14   \n",
       "1528  676219687039057920 2015-12-14 01:58:31   \n",
       "\n",
       "                                                                                  source  \\\n",
       "1425  <a href=\"http://twitter.com/download/iphone\" rel=\"nofollow\">Twitter for iPhone</a>   \n",
       "1528  <a href=\"http://twitter.com/download/iphone\" rel=\"nofollow\">Twitter for iPhone</a>   \n",
       "\n",
       "      rating_numerator     name  isdog dogbreed   p_value  favorite_count  \\\n",
       "1425  10                CeCe     False  Bubble   0.240173  1514             \n",
       "1528  10                Kenneth  False  Bubble   0.997556  76905            \n",
       "\n",
       "      retweet_count  \\\n",
       "1425  306             \n",
       "1528  32369           \n",
       "\n",
       "                                                        expanded_urls  \n",
       "1425  https://twitter.com/dog_rates/status/680221482581123072/photo/1  \n",
       "1528  https://twitter.com/dog_rates/status/676219687039057920/photo/1  "
      ]
     },
     "execution_count": 434,
     "metadata": {},
     "output_type": "execute_result"
    }
   ],
   "source": [
    "tweet_master.query('dogbreed==\"Bubble\"')"
   ]
  },
  {
   "cell_type": "markdown",
   "metadata": {},
   "source": [
    "Golden Retriever and Labrador Retriever are the dog breeds with the highest number of tweets, they are not the dog breeds with the most favorite counts or retweets on average. In the top ten list of favorite counts and retweet counts are \"dog breeds\" with only a single tweet or only two tweets and surprisingly many non-dogs (e.g. House Finch, Bubble, Umbrella). On average, non-dogs have a very high p-value associated so they actually might be real dogs. When checking \"Bubble\" both pictures showed dogs. So the prediction model might need more training."
   ]
  },
  {
   "cell_type": "code",
   "execution_count": 435,
   "metadata": {},
   "outputs": [
    {
     "data": {
      "text/html": [
       "<div>\n",
       "<style scoped>\n",
       "    .dataframe tbody tr th:only-of-type {\n",
       "        vertical-align: middle;\n",
       "    }\n",
       "\n",
       "    .dataframe tbody tr th {\n",
       "        vertical-align: top;\n",
       "    }\n",
       "\n",
       "    .dataframe thead tr th {\n",
       "        text-align: left;\n",
       "    }\n",
       "</style>\n",
       "<table border=\"1\" class=\"dataframe\">\n",
       "  <thead>\n",
       "    <tr>\n",
       "      <th></th>\n",
       "      <th>dogbreed</th>\n",
       "      <th colspan=\"2\" halign=\"left\">favorite_count</th>\n",
       "      <th colspan=\"2\" halign=\"left\">p_value</th>\n",
       "    </tr>\n",
       "    <tr>\n",
       "      <th></th>\n",
       "      <th></th>\n",
       "      <th>count</th>\n",
       "      <th>mean</th>\n",
       "      <th>count</th>\n",
       "      <th>mean</th>\n",
       "    </tr>\n",
       "  </thead>\n",
       "  <tbody>\n",
       "    <tr>\n",
       "      <th>5</th>\n",
       "      <td>Bluetick</td>\n",
       "      <td>1</td>\n",
       "      <td>32475.0</td>\n",
       "      <td>1</td>\n",
       "      <td>0.021762</td>\n",
       "    </tr>\n",
       "    <tr>\n",
       "      <th>38</th>\n",
       "      <td>Maltese_dog</td>\n",
       "      <td>1</td>\n",
       "      <td>30035.0</td>\n",
       "      <td>1</td>\n",
       "      <td>0.008945</td>\n",
       "    </tr>\n",
       "    <tr>\n",
       "      <th>34</th>\n",
       "      <td>Leonberg</td>\n",
       "      <td>1</td>\n",
       "      <td>28954.0</td>\n",
       "      <td>1</td>\n",
       "      <td>0.017943</td>\n",
       "    </tr>\n",
       "    <tr>\n",
       "      <th>48</th>\n",
       "      <td>Saint_bernard</td>\n",
       "      <td>1</td>\n",
       "      <td>28321.0</td>\n",
       "      <td>1</td>\n",
       "      <td>0.010728</td>\n",
       "    </tr>\n",
       "    <tr>\n",
       "      <th>41</th>\n",
       "      <td>Newfoundland</td>\n",
       "      <td>1</td>\n",
       "      <td>23525.0</td>\n",
       "      <td>1</td>\n",
       "      <td>0.000405</td>\n",
       "    </tr>\n",
       "    <tr>\n",
       "      <th>49</th>\n",
       "      <td>Saluki</td>\n",
       "      <td>1</td>\n",
       "      <td>23029.0</td>\n",
       "      <td>1</td>\n",
       "      <td>0.036325</td>\n",
       "    </tr>\n",
       "    <tr>\n",
       "      <th>56</th>\n",
       "      <td>Tibetan_mastiff</td>\n",
       "      <td>2</td>\n",
       "      <td>22766.5</td>\n",
       "      <td>2</td>\n",
       "      <td>0.034593</td>\n",
       "    </tr>\n",
       "    <tr>\n",
       "      <th>37</th>\n",
       "      <td>Malinois</td>\n",
       "      <td>1</td>\n",
       "      <td>22020.0</td>\n",
       "      <td>1</td>\n",
       "      <td>0.000153</td>\n",
       "    </tr>\n",
       "    <tr>\n",
       "      <th>45</th>\n",
       "      <td>Pekinese</td>\n",
       "      <td>2</td>\n",
       "      <td>21589.5</td>\n",
       "      <td>2</td>\n",
       "      <td>0.008939</td>\n",
       "    </tr>\n",
       "    <tr>\n",
       "      <th>10</th>\n",
       "      <td>Briard</td>\n",
       "      <td>1</td>\n",
       "      <td>19875.0</td>\n",
       "      <td>1</td>\n",
       "      <td>0.020041</td>\n",
       "    </tr>\n",
       "  </tbody>\n",
       "</table>\n",
       "</div>"
      ],
      "text/plain": [
       "           dogbreed favorite_count          p_value          \n",
       "                             count     mean   count      mean\n",
       "5   Bluetick         1              32475.0  1       0.021762\n",
       "38  Maltese_dog      1              30035.0  1       0.008945\n",
       "34  Leonberg         1              28954.0  1       0.017943\n",
       "48  Saint_bernard    1              28321.0  1       0.010728\n",
       "41  Newfoundland     1              23525.0  1       0.000405\n",
       "49  Saluki           1              23029.0  1       0.036325\n",
       "56  Tibetan_mastiff  2              22766.5  2       0.034593\n",
       "37  Malinois         1              22020.0  1       0.000153\n",
       "45  Pekinese         2              21589.5  2       0.008939\n",
       "10  Briard           1              19875.0  1       0.020041"
      ]
     },
     "execution_count": 435,
     "metadata": {},
     "output_type": "execute_result"
    }
   ],
   "source": [
    "tweet_master_dog = tweet_master.query('isdog==True')\n",
    "tweet_master_dog = tweet_master_dog.query('p_value<=0.05')\n",
    "fav_breed_dog = tweet_master_dog.groupby(['dogbreed'])['favorite_count','p_value'].agg(['count', 'mean']).reset_index()\n",
    "fav_breed_dog.sort_values(by = ('favorite_count', 'mean'), ascending=False).head(10)"
   ]
  },
  {
   "cell_type": "code",
   "execution_count": 436,
   "metadata": {},
   "outputs": [
    {
     "data": {
      "text/html": [
       "<div>\n",
       "<style scoped>\n",
       "    .dataframe tbody tr th:only-of-type {\n",
       "        vertical-align: middle;\n",
       "    }\n",
       "\n",
       "    .dataframe tbody tr th {\n",
       "        vertical-align: top;\n",
       "    }\n",
       "\n",
       "    .dataframe thead tr th {\n",
       "        text-align: left;\n",
       "    }\n",
       "</style>\n",
       "<table border=\"1\" class=\"dataframe\">\n",
       "  <thead>\n",
       "    <tr>\n",
       "      <th></th>\n",
       "      <th>dogbreed</th>\n",
       "      <th colspan=\"2\" halign=\"left\">retweet_count</th>\n",
       "      <th colspan=\"2\" halign=\"left\">p_value</th>\n",
       "    </tr>\n",
       "    <tr>\n",
       "      <th></th>\n",
       "      <th></th>\n",
       "      <th>count</th>\n",
       "      <th>mean</th>\n",
       "      <th>count</th>\n",
       "      <th>mean</th>\n",
       "    </tr>\n",
       "  </thead>\n",
       "  <tbody>\n",
       "    <tr>\n",
       "      <th>38</th>\n",
       "      <td>Maltese_dog</td>\n",
       "      <td>1</td>\n",
       "      <td>15822.0</td>\n",
       "      <td>1</td>\n",
       "      <td>0.008945</td>\n",
       "    </tr>\n",
       "    <tr>\n",
       "      <th>50</th>\n",
       "      <td>Schipperke</td>\n",
       "      <td>2</td>\n",
       "      <td>8694.0</td>\n",
       "      <td>2</td>\n",
       "      <td>0.045519</td>\n",
       "    </tr>\n",
       "    <tr>\n",
       "      <th>37</th>\n",
       "      <td>Malinois</td>\n",
       "      <td>1</td>\n",
       "      <td>7838.0</td>\n",
       "      <td>1</td>\n",
       "      <td>0.000153</td>\n",
       "    </tr>\n",
       "    <tr>\n",
       "      <th>5</th>\n",
       "      <td>Bluetick</td>\n",
       "      <td>1</td>\n",
       "      <td>7706.0</td>\n",
       "      <td>1</td>\n",
       "      <td>0.021762</td>\n",
       "    </tr>\n",
       "    <tr>\n",
       "      <th>34</th>\n",
       "      <td>Leonberg</td>\n",
       "      <td>1</td>\n",
       "      <td>6988.0</td>\n",
       "      <td>1</td>\n",
       "      <td>0.017943</td>\n",
       "    </tr>\n",
       "    <tr>\n",
       "      <th>48</th>\n",
       "      <td>Saint_bernard</td>\n",
       "      <td>1</td>\n",
       "      <td>6945.0</td>\n",
       "      <td>1</td>\n",
       "      <td>0.010728</td>\n",
       "    </tr>\n",
       "    <tr>\n",
       "      <th>45</th>\n",
       "      <td>Pekinese</td>\n",
       "      <td>2</td>\n",
       "      <td>6489.5</td>\n",
       "      <td>2</td>\n",
       "      <td>0.008939</td>\n",
       "    </tr>\n",
       "    <tr>\n",
       "      <th>49</th>\n",
       "      <td>Saluki</td>\n",
       "      <td>1</td>\n",
       "      <td>6020.0</td>\n",
       "      <td>1</td>\n",
       "      <td>0.036325</td>\n",
       "    </tr>\n",
       "    <tr>\n",
       "      <th>29</th>\n",
       "      <td>Keeshond</td>\n",
       "      <td>1</td>\n",
       "      <td>5974.0</td>\n",
       "      <td>1</td>\n",
       "      <td>0.011019</td>\n",
       "    </tr>\n",
       "    <tr>\n",
       "      <th>56</th>\n",
       "      <td>Tibetan_mastiff</td>\n",
       "      <td>2</td>\n",
       "      <td>5571.0</td>\n",
       "      <td>2</td>\n",
       "      <td>0.034593</td>\n",
       "    </tr>\n",
       "  </tbody>\n",
       "</table>\n",
       "</div>"
      ],
      "text/plain": [
       "           dogbreed retweet_count          p_value          \n",
       "                            count     mean   count      mean\n",
       "38  Maltese_dog      1             15822.0  1       0.008945\n",
       "50  Schipperke       2             8694.0   2       0.045519\n",
       "37  Malinois         1             7838.0   1       0.000153\n",
       "5   Bluetick         1             7706.0   1       0.021762\n",
       "34  Leonberg         1             6988.0   1       0.017943\n",
       "48  Saint_bernard    1             6945.0   1       0.010728\n",
       "45  Pekinese         2             6489.5   2       0.008939\n",
       "49  Saluki           1             6020.0   1       0.036325\n",
       "29  Keeshond         1             5974.0   1       0.011019\n",
       "56  Tibetan_mastiff  2             5571.0   2       0.034593"
      ]
     },
     "execution_count": 436,
     "metadata": {},
     "output_type": "execute_result"
    }
   ],
   "source": [
    "tweet_master_dog = tweet_master.query('isdog==True')\n",
    "tweet_master_dog = tweet_master_dog.query('p_value<=0.05')\n",
    "fav_breed_dog = tweet_master_dog.groupby(['dogbreed'])['retweet_count','p_value'].agg(['count', 'mean']).reset_index()\n",
    "fav_breed_dog.sort_values(by = ('retweet_count', 'mean'), ascending=False).head(10)"
   ]
  },
  {
   "cell_type": "markdown",
   "metadata": {},
   "source": [
    "When limiting to tweets with 'certainly' identified dogg breeds (p-value lower or equal to 0.05), the result looks still very similar to above, i.e. in the top ten list of favorite counts and retweet counts are dog breeds with only a single tweet or only two tweets."
   ]
  },
  {
   "cell_type": "code",
   "execution_count": 437,
   "metadata": {},
   "outputs": [
    {
     "data": {
      "text/plain": [
       "count    2038.000000\n",
       "mean     10.588813  \n",
       "std      2.174677   \n",
       "min      0.000000   \n",
       "25%      10.000000  \n",
       "50%      11.000000  \n",
       "75%      12.000000  \n",
       "max      15.000000  \n",
       "Name: rating_numerator, dtype: float64"
      ]
     },
     "execution_count": 437,
     "metadata": {},
     "output_type": "execute_result"
    }
   ],
   "source": [
    "tweet_master.rating_numerator.describe()"
   ]
  },
  {
   "cell_type": "code",
   "execution_count": 438,
   "metadata": {},
   "outputs": [
    {
     "data": {
      "image/png": "[encoded data removed]",
      "text/plain": [
       "<Figure size 576x288 with 1 Axes>"
      ]
     },
     "metadata": {
      "needs_background": "light"
     },
     "output_type": "display_data"
    }
   ],
   "source": [
    "plt.figure(figsize=(8, 4))\n",
    "bin_edges = np.arange(tweet_master.rating_numerator.min(),tweet_master.rating_numerator.max()+1,1)\n",
    "plt.hist(data=tweet_master, x='rating_numerator', bins=bin_edges)\n",
    "xticks=[0, 1, 2,3,4,5,6,7,8,9,10,11,12, 13, 14,15]\n",
    "plt.xticks(xticks)\n",
    "plt.title('Distribution of Ratings')\n",
    "plt.xlabel('Rating')\n",
    "plt.ylabel('Number of Ratings');"
   ]
  },
  {
   "cell_type": "code",
   "execution_count": 439,
   "metadata": {},
   "outputs": [
    {
     "name": "stdout",
     "output_type": "stream",
     "text": [
      "411 out of 2038 ratings are 9 or lower.\n",
      "1 out of 2038 ratings are 15 or higher.\n"
     ]
    }
   ],
   "source": [
    "print(\"{} out of {} ratings are 9 or lower.\".format(tweet_master.query('rating_numerator<10').shape[0],tweet_master.shape[0]))\n",
    "print(\"{} out of {} ratings are 15 or higher.\".format(tweet_master.query('rating_numerator>14').shape[0],tweet_master.shape[0]))"
   ]
  },
  {
   "cell_type": "markdown",
   "metadata": {},
   "source": [
    "The distrbution of ratings show that most tweets get a rating between 11 and 14. However, 20% of all ratings are 9 or lower."
   ]
  },
  {
   "cell_type": "code",
   "execution_count": 440,
   "metadata": {},
   "outputs": [
    {
     "data": {
      "image/png": "[encoded data removed]",
      "text/plain": [
       "<Figure size 1080x432 with 2 Axes>"
      ]
     },
     "metadata": {
      "needs_background": "light"
     },
     "output_type": "display_data"
    }
   ],
   "source": [
    "plt.figure(figsize=[15,6])\n",
    "plt.subplot(1,2,1)\n",
    "sns.regplot(data=tweet_master, x='rating_numerator', y='favorite_count', x_jitter=0.1, fit_reg=False)\n",
    "plt.title('Are high rated dogs more likely to be favorited?')\n",
    "plt.xlabel('rating')\n",
    "plt.ylabel('# favorited')\n",
    "plt.subplot(1,2,2)\n",
    "sns.regplot(data=tweet_master, x='rating_numerator', y='retweet_count', x_jitter=0.1, fit_reg=False)\n",
    "plt.title('Are high rated dogs more likely to be retweeted?')\n",
    "plt.xlabel('rating')\n",
    "plt.ylabel('# retweets');"
   ]
  },
  {
   "cell_type": "markdown",
   "metadata": {},
   "source": [
    "Dogs with a high rating are more likely to be favoritized or retweeted. Some exceptions are visible in the Scatter Plot, e.g. dog with rating of 5 is favorited more than 40,000 times."
   ]
  },
  {
   "cell_type": "code",
   "execution_count": 441,
   "metadata": {},
   "outputs": [
    {
     "data": {
      "text/plain": [
       "count     2038               \n",
       "unique    2038               \n",
       "top       2016-08-04 22:52:29\n",
       "freq      1                  \n",
       "first     2015-11-15 22:32:08\n",
       "last      2017-07-31 00:18:03\n",
       "Name: timestamp, dtype: object"
      ]
     },
     "execution_count": 441,
     "metadata": {},
     "output_type": "execute_result"
    }
   ],
   "source": [
    "tweet_master.timestamp.describe()"
   ]
  },
  {
   "cell_type": "code",
   "execution_count": 442,
   "metadata": {},
   "outputs": [
    {
     "data": {
      "text/html": [
       "<div>\n",
       "<style scoped>\n",
       "    .dataframe tbody tr th:only-of-type {\n",
       "        vertical-align: middle;\n",
       "    }\n",
       "\n",
       "    .dataframe tbody tr th {\n",
       "        vertical-align: top;\n",
       "    }\n",
       "\n",
       "    .dataframe thead th {\n",
       "        text-align: right;\n",
       "    }\n",
       "</style>\n",
       "<table border=\"1\" class=\"dataframe\">\n",
       "  <thead>\n",
       "    <tr style=\"text-align: right;\">\n",
       "      <th></th>\n",
       "      <th>timestamp</th>\n",
       "      <th>tweet_id</th>\n",
       "    </tr>\n",
       "  </thead>\n",
       "  <tbody>\n",
       "    <tr>\n",
       "      <th>0</th>\n",
       "      <td>2015-11-30</td>\n",
       "      <td>296</td>\n",
       "    </tr>\n",
       "    <tr>\n",
       "      <th>1</th>\n",
       "      <td>2015-12-31</td>\n",
       "      <td>362</td>\n",
       "    </tr>\n",
       "  </tbody>\n",
       "</table>\n",
       "</div>"
      ],
      "text/plain": [
       "   timestamp  tweet_id\n",
       "0 2015-11-30  296     \n",
       "1 2015-12-31  362     "
      ]
     },
     "execution_count": 442,
     "metadata": {},
     "output_type": "execute_result"
    }
   ],
   "source": [
    "tweets_per_month = tweet_master.groupby(pd.Grouper(key = 'timestamp', freq = \"M\"))['tweet_id'].count().reset_index()\n",
    "tweets_per_month.head(2)"
   ]
  },
  {
   "cell_type": "code",
   "execution_count": 443,
   "metadata": {},
   "outputs": [
    {
     "data": {
      "image/png": "[encoded data removed]",
      "text/plain": [
       "<Figure size 1008x432 with 1 Axes>"
      ]
     },
     "metadata": {
      "needs_background": "light"
     },
     "output_type": "display_data"
    }
   ],
   "source": [
    "plt.figure(figsize=(14, 6))\n",
    "plt.plot(tweets_per_month.timestamp, tweets_per_month.tweet_id)\n",
    "plt.title('Tweets per Month');\n",
    "plt.xlim([datetime.date(2015, 11, 30), datetime.date(2017, 7, 31)]) \n",
    "plt.xlabel('Year-Month')\n",
    "plt.ylabel('Number of Tweets');"
   ]
  },
  {
   "cell_type": "markdown",
   "metadata": {},
   "source": [
    "The number of tweets per month dramatically decreases from January 2016 to March 2016 (from more than 350 tweets/month to only a little over 100 tweets/month), after reaching a peak of 362 tweets/month in January 2016. Until August 2017 the number of tweets per month settle down to around 50."
   ]
  },
  {
   "cell_type": "code",
   "execution_count": 444,
   "metadata": {},
   "outputs": [
    {
     "data": {
      "text/html": [
       "<div>\n",
       "<style scoped>\n",
       "    .dataframe tbody tr th:only-of-type {\n",
       "        vertical-align: middle;\n",
       "    }\n",
       "\n",
       "    .dataframe tbody tr th {\n",
       "        vertical-align: top;\n",
       "    }\n",
       "\n",
       "    .dataframe thead th {\n",
       "        text-align: right;\n",
       "    }\n",
       "</style>\n",
       "<table border=\"1\" class=\"dataframe\">\n",
       "  <thead>\n",
       "    <tr style=\"text-align: right;\">\n",
       "      <th></th>\n",
       "      <th>timestamp</th>\n",
       "      <th>retweet_count</th>\n",
       "      <th>favorite_count</th>\n",
       "    </tr>\n",
       "  </thead>\n",
       "  <tbody>\n",
       "    <tr>\n",
       "      <th>0</th>\n",
       "      <td>2015-11-30</td>\n",
       "      <td>145429</td>\n",
       "      <td>340186</td>\n",
       "    </tr>\n",
       "    <tr>\n",
       "      <th>1</th>\n",
       "      <td>2015-12-31</td>\n",
       "      <td>517658</td>\n",
       "      <td>1233953</td>\n",
       "    </tr>\n",
       "  </tbody>\n",
       "</table>\n",
       "</div>"
      ],
      "text/plain": [
       "   timestamp  retweet_count  favorite_count\n",
       "0 2015-11-30  145429         340186        \n",
       "1 2015-12-31  517658         1233953       "
      ]
     },
     "execution_count": 444,
     "metadata": {},
     "output_type": "execute_result"
    }
   ],
   "source": [
    "retweets_favs_per_month = tweet_master.groupby(pd.Grouper(key = 'timestamp', freq = \"M\"))['retweet_count', 'favorite_count'].sum().reset_index()\n",
    "retweets_favs_per_month.head(2)"
   ]
  },
  {
   "cell_type": "code",
   "execution_count": 445,
   "metadata": {},
   "outputs": [
    {
     "data": {
      "image/png": "[encoded data removed]",
      "text/plain": [
       "<Figure size 1008x432 with 1 Axes>"
      ]
     },
     "metadata": {
      "needs_background": "light"
     },
     "output_type": "display_data"
    }
   ],
   "source": [
    "plt.figure(figsize=(14, 6))\n",
    "plt.plot(retweets_favs_per_month.timestamp, retweets_favs_per_month.retweet_count, 'o-', label='Retweets')\n",
    "plt.plot(retweets_favs_per_month.timestamp, retweets_favs_per_month.favorite_count, 'o-', label='Favorites')\n",
    "plt.title('Retweets and Favorites per Month');\n",
    "plt.xlim([datetime.date(2015, 11, 30), datetime.date(2017, 7, 31)]) \n",
    "plt.xlabel('Year-Month')\n",
    "plt.ylabel('Number of Retweets/Favorites')\n",
    "plt.legend(loc='best');"
   ]
  },
  {
   "cell_type": "markdown",
   "metadata": {},
   "source": [
    "Even though the number of tweets per month are declining, the number of retweets and especially the number of favorites are increasing, i.e. with a less a number of tweets similar retweets and favorites are achived."
   ]
  },
  {
   "cell_type": "markdown",
   "metadata": {},
   "source": [
    "<a id='conc'></a>\n",
    "## Conclusions"
   ]
  },
  {
   "cell_type": "markdown",
   "metadata": {},
   "source": []
  }
 ],
 "metadata": {
  "kernelspec": {
   "display_name": "Python 2",
   "language": "python",
   "name": "python2"
  },
  "language_info": {
   "codemirror_mode": {
    "name": "ipython",
    "version": 2
   },
   "file_extension": ".py",
   "mimetype": "text/x-python",
   "name": "python",
   "nbconvert_exporter": "python",
   "pygments_lexer": "ipython2",
   "version": "2.7.15"
  }
 },
 "nbformat": 4,
 "nbformat_minor": 2
}
